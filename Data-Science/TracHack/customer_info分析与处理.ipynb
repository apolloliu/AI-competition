{
 "cells": [
  {
   "cell_type": "code",
   "execution_count": 1,
   "metadata": {},
   "outputs": [
    {
     "name": "stdout",
     "output_type": "stream",
     "text": [
      "Requirement already satisfied: pandas==1.0.3 in /opt/conda/lib/python3.7/site-packages (1.0.3)\n",
      "Requirement already satisfied: pytz>=2017.2 in /opt/conda/lib/python3.7/site-packages (from pandas==1.0.3) (2020.1)\n",
      "Requirement already satisfied: numpy>=1.13.3 in /opt/conda/lib/python3.7/site-packages (from pandas==1.0.3) (1.19.2)\n",
      "Requirement already satisfied: python-dateutil>=2.6.1 in /opt/conda/lib/python3.7/site-packages (from pandas==1.0.3) (2.8.1)\n",
      "Requirement already satisfied: six>=1.5 in /opt/conda/lib/python3.7/site-packages (from python-dateutil>=2.6.1->pandas==1.0.3) (1.14.0)\n",
      "\u001b[33mWARNING: You are using pip version 20.2.4; however, version 21.0.1 is available.\n",
      "You should consider upgrading via the '/opt/conda/bin/python3.7 -m pip install --upgrade pip' command.\u001b[0m\n"
     ]
    }
   ],
   "source": [
    "# installing 1.0.3 because this version of pandas supports write to s3\n",
    "!pip install pandas==1.0.3"
   ]
  },
  {
   "cell_type": "code",
   "execution_count": 2,
   "metadata": {},
   "outputs": [],
   "source": [
    "# This path will be active after the launch of the hackathon / day-day-up-unsw / s3://tf-trachack-notebooks/day-day-up-unsw/jupyter/jovyan/\n",
    "teamname = 'day-day-up-unsw' #'trachack-a-groups-admin-py-tracfone'\n",
    "data_folder='s3://tf-trachack-data/212/'\n",
    "# change root_folder to your team's root folder\n",
    "# s3://tf-trachack-notebooks/<this should be replaced by team name as provided in EMAIL>/jupyter/jovyan/\n",
    "root_folder='s3://tf-trachack-notebooks/'+teamname+'/jupyter/jovyan/'"
   ]
  },
  {
   "cell_type": "code",
   "execution_count": 3,
   "metadata": {},
   "outputs": [],
   "source": [
    "import matplotlib.pyplot as plt\n",
    "import numpy as np\n",
    "import pandas as pd\n",
    "import seaborn as sns\n",
    "\n",
    "from datetime import datetime\n",
    "from pandas import to_datetime\n",
    "\n",
    "from sklearn.feature_selection import VarianceThreshold\n",
    "from sklearn.preprocessing import OneHotEncoder\n",
    "from sklearn.preprocessing import MinMaxScaler\n",
    "from sklearn.preprocessing import StandardScaler\n",
    "from sklearn.decomposition import PCA\n",
    "from sklearn.impute import KNNImputer,SimpleImputer\n",
    "from sklearn.ensemble import RandomForestRegressor\n",
    "from sklearn import metrics\n",
    "from scipy.stats import pearsonr\n",
    "import warnings\n",
    "warnings.filterwarnings(\"ignore\")"
   ]
  },
  {
   "cell_type": "code",
   "execution_count": 4,
   "metadata": {},
   "outputs": [],
   "source": [
    "upgrades=pd.read_csv(data_folder+\"data/dev/upgrades.csv\")\n",
    "customer_info=pd.read_csv(data_folder+\"data/dev/customer_info.csv\")"
   ]
  },
  {
   "cell_type": "code",
   "execution_count": 5,
   "metadata": {},
   "outputs": [],
   "source": [
    "upgrade_customer_info = pd.merge(upgrades, customer_info, on = 'line_id', how = 'inner')"
   ]
  },
  {
   "cell_type": "code",
   "execution_count": 6,
   "metadata": {},
   "outputs": [],
   "source": [
    "upgrades_eval=pd.read_csv(data_folder+\"data/eval/upgrades.csv\")\n",
    "customer_info_eval=pd.read_csv(data_folder+\"data/eval/customer_info.csv\")"
   ]
  },
  {
   "cell_type": "code",
   "execution_count": 7,
   "metadata": {},
   "outputs": [],
   "source": [
    "upgrade_customer_info_eval = pd.merge(upgrades_eval, customer_info_eval, on = 'line_id', how = 'inner')"
   ]
  },
  {
   "cell_type": "code",
   "execution_count": 8,
   "metadata": {
    "scrolled": true
   },
   "outputs": [
    {
     "name": "stdout",
     "output_type": "stream",
     "text": [
      "<class 'pandas.core.frame.DataFrame'>\n",
      "Int64Index: 55868 entries, 0 to 55867\n",
      "Data columns (total 8 columns):\n",
      " #   Column                 Non-Null Count  Dtype \n",
      "---  ------                 --------------  ----- \n",
      " 0   line_id                55868 non-null  object\n",
      " 1   date_observed          55868 non-null  object\n",
      " 2   upgrade                55868 non-null  object\n",
      " 3   carrier                55868 non-null  object\n",
      " 4   first_activation_date  55147 non-null  object\n",
      " 5   plan_name              42012 non-null  object\n",
      " 6   plan_subtype           42012 non-null  object\n",
      " 7   redemption_date        42012 non-null  object\n",
      "dtypes: object(8)\n",
      "memory usage: 3.8+ MB\n"
     ]
    }
   ],
   "source": [
    "upgrade_customer_info.info()"
   ]
  },
  {
   "cell_type": "code",
   "execution_count": 9,
   "metadata": {},
   "outputs": [
    {
     "name": "stdout",
     "output_type": "stream",
     "text": [
      "<class 'pandas.core.frame.DataFrame'>\n",
      "Int64Index: 37155 entries, 0 to 37154\n",
      "Data columns (total 7 columns):\n",
      " #   Column                 Non-Null Count  Dtype \n",
      "---  ------                 --------------  ----- \n",
      " 0   line_id                37155 non-null  object\n",
      " 1   date_observed          37155 non-null  object\n",
      " 2   carrier                37155 non-null  object\n",
      " 3   first_activation_date  36671 non-null  object\n",
      " 4   plan_name              27888 non-null  object\n",
      " 5   plan_subtype           27888 non-null  object\n",
      " 6   redemption_date        27888 non-null  object\n",
      "dtypes: object(7)\n",
      "memory usage: 2.3+ MB\n"
     ]
    }
   ],
   "source": [
    "upgrade_customer_info_eval.info()"
   ]
  },
  {
   "cell_type": "code",
   "execution_count": 10,
   "metadata": {},
   "outputs": [
    {
     "data": {
      "text/plain": [
       "Text(0.5, 1.0, 'carrier')"
      ]
     },
     "execution_count": 10,
     "metadata": {},
     "output_type": "execute_result"
    },
    {
     "data": {
      "image/png": "[encoded data removed]",
      "text/plain": [
       "<Figure size 1080x720 with 1 Axes>"
      ]
     },
     "metadata": {},
     "output_type": "display_data"
    }
   ],
   "source": [
    "df = upgrade_customer_info.sort_values(by='carrier')\n",
    "plt.figure(figsize=(15,10))\n",
    "sns.countplot(data=df, hue=\"upgrade\", x='carrier')\n",
    "sns.set(font_scale=2.0)\n",
    "plt.title('carrier')"
   ]
  },
  {
   "cell_type": "code",
   "execution_count": 11,
   "metadata": {},
   "outputs": [
    {
     "data": {
      "text/plain": [
       "Text(0.5, 1.0, 'carrier')"
      ]
     },
     "execution_count": 11,
     "metadata": {},
     "output_type": "execute_result"
    },
    {
     "data": {
      "image/png": "[encoded data removed]",
      "text/plain": [
       "<Figure size 1080x720 with 1 Axes>"
      ]
     },
     "metadata": {},
     "output_type": "display_data"
    }
   ],
   "source": [
    "df = upgrade_customer_info_eval.sort_values(by='carrier')\n",
    "plt.figure(figsize=(15,10))\n",
    "sns.countplot(data=df, x='carrier')\n",
    "sns.set(font_scale=2.0)\n",
    "plt.title('carrier')"
   ]
  },
  {
   "cell_type": "code",
   "execution_count": 10,
   "metadata": {},
   "outputs": [
    {
     "data": {
      "text/plain": [
       "Text(0.5, 1.0, 'plan_name')"
      ]
     },
     "execution_count": 10,
     "metadata": {},
     "output_type": "execute_result"
    },
    {
     "data": {
      "image/png": "[encoded data removed]",
      "text/plain": [
       "<Figure size 1080x720 with 1 Axes>"
      ]
     },
     "metadata": {
      "needs_background": "light"
     },
     "output_type": "display_data"
    }
   ],
   "source": [
    "df = upgrade_customer_info.sort_values(by='plan_name')\n",
    "plt.figure(figsize=(15,10))\n",
    "sns.countplot(data=df, hue=\"upgrade\", x='plan_name')\n",
    "plt.title('plan_name')"
   ]
  },
  {
   "cell_type": "code",
   "execution_count": 11,
   "metadata": {},
   "outputs": [
    {
     "data": {
      "text/plain": [
       "Text(0.5, 1.0, 'plan_name')"
      ]
     },
     "execution_count": 11,
     "metadata": {},
     "output_type": "execute_result"
    },
    {
     "data": {
      "image/png": "[encoded data removed]",
      "text/plain": [
       "<Figure size 1080x720 with 1 Axes>"
      ]
     },
     "metadata": {
      "needs_background": "light"
     },
     "output_type": "display_data"
    }
   ],
   "source": [
    "df = upgrade_customer_info_eval.sort_values(by='plan_name')\n",
    "plt.figure(figsize=(15,10))\n",
    "sns.countplot(data=df, x='plan_name')\n",
    "plt.title('plan_name')"
   ]
  },
  {
   "cell_type": "code",
   "execution_count": 12,
   "metadata": {},
   "outputs": [
    {
     "name": "stdout",
     "output_type": "stream",
     "text": [
      "<class 'pandas.core.frame.DataFrame'>\n",
      "Int64Index: 55868 entries, 0 to 55867\n",
      "Data columns (total 8 columns):\n",
      " #   Column                 Non-Null Count  Dtype \n",
      "---  ------                 --------------  ----- \n",
      " 0   line_id                55868 non-null  object\n",
      " 1   date_observed          55868 non-null  object\n",
      " 2   upgrade                55868 non-null  object\n",
      " 3   carrier                55868 non-null  object\n",
      " 4   first_activation_date  55147 non-null  object\n",
      " 5   plan_name              42012 non-null  object\n",
      " 6   plan_subtype           42012 non-null  object\n",
      " 7   redemption_date        42012 non-null  object\n",
      "dtypes: object(8)\n",
      "memory usage: 3.8+ MB\n"
     ]
    }
   ],
   "source": [
    "upgrade_customer_info.info()"
   ]
  },
  {
   "cell_type": "code",
   "execution_count": 8,
   "metadata": {},
   "outputs": [
    {
     "data": {
      "text/plain": [
       "Text(0.5, 1.0, 'first_activation_date')"
      ]
     },
     "execution_count": 8,
     "metadata": {},
     "output_type": "execute_result"
    },
    {
     "data": {
      "image/png": "[encoded data removed]",
      "text/plain": [
       "<Figure size 1080x720 with 1 Axes>"
      ]
     },
     "metadata": {
      "needs_background": "light"
     },
     "output_type": "display_data"
    }
   ],
   "source": [
    "df = upgrade_customer_info.sort_values(by='first_activation_date')\n",
    "fig, ax = plt.subplots(1, 1, figsize=(15,10))\n",
    "# ax = plt.subplot(111)\n",
    "ax.set_xlabel('date', fontsize=20)\n",
    "ax.set_ylabel('count', fontsize=20)\n",
    "sns.countplot(data=df, hue=\"upgrade\", x='first_activation_date')\n",
    "plt.title('first_activation_date')"
   ]
  },
  {
   "cell_type": "code",
   "execution_count": 14,
   "metadata": {},
   "outputs": [
    {
     "data": {
      "text/plain": [
       "<Figure size 1080x720 with 0 Axes>"
      ]
     },
     "metadata": {},
     "output_type": "display_data"
    },
    {
     "data": {
      "image/png": "[encoded data removed]",
      "text/plain": [
       "<Figure size 1080x720 with 1 Axes>"
      ]
     },
     "metadata": {
      "needs_background": "light"
     },
     "output_type": "display_data"
    }
   ],
   "source": [
    "upgrade_customer_info_no = upgrade_customer_info.first_activation_date[upgrade_customer_info.upgrade == 'no'].value_counts()\n",
    "upgrade_customer_info_yes = upgrade_customer_info.first_activation_date[upgrade_customer_info.upgrade == 'yes'].value_counts()\n",
    "plt.figure(figsize=(15,10))\n",
    "info = pd.DataFrame({'upgrade_no': upgrade_customer_info_no, 'upgrade_yes': upgrade_customer_info_yes})\n",
    "info.plot(kind='bar', figsize=(15,10))\n",
    "plt.title('first_activation_date')\n",
    "plt.show()"
   ]
  },
  {
   "cell_type": "code",
   "execution_count": 9,
   "metadata": {},
   "outputs": [
    {
     "data": {
      "text/plain": [
       "Text(0.5, 1.0, 'redemption_date')"
      ]
     },
     "execution_count": 9,
     "metadata": {},
     "output_type": "execute_result"
    },
    {
     "data": {
      "image/png": "[encoded data removed]",
      "text/plain": [
       "<Figure size 1080x720 with 1 Axes>"
      ]
     },
     "metadata": {
      "needs_background": "light"
     },
     "output_type": "display_data"
    }
   ],
   "source": [
    "df = upgrade_customer_info.sort_values(by='redemption_date')\n",
    "# plt.figure(figsize=(15,10))\n",
    "fig, ax = plt.subplots(1, 1, figsize=(15,10))\n",
    "# ax = plt.subplot(111)\n",
    "ax.set_xlabel('date', fontsize=20)\n",
    "ax.set_ylabel('count', fontsize=20)\n",
    "sns.countplot(data=df, hue=\"upgrade\", x='redemption_date')\n",
    "plt.title('redemption_date')"
   ]
  },
  {
   "cell_type": "code",
   "execution_count": 16,
   "metadata": {},
   "outputs": [
    {
     "data": {
      "text/plain": [
       "Text(0.5, 1.0, 'plan_subtype')"
      ]
     },
     "execution_count": 16,
     "metadata": {},
     "output_type": "execute_result"
    },
    {
     "data": {
      "image/png": "[encoded data removed]",
      "text/plain": [
       "<Figure size 1080x720 with 1 Axes>"
      ]
     },
     "metadata": {
      "needs_background": "light"
     },
     "output_type": "display_data"
    }
   ],
   "source": [
    "df = upgrade_customer_info_eval.sort_values(by='plan_subtype')\n",
    "plt.figure(figsize=(15,10))\n",
    "sns.countplot(data=df, x='plan_subtype')\n",
    "plt.title('plan_subtype')"
   ]
  },
  {
   "cell_type": "code",
   "execution_count": 12,
   "metadata": {},
   "outputs": [
    {
     "data": {
      "text/plain": [
       "Text(0.5, 1.0, 'date_observed')"
      ]
     },
     "execution_count": 12,
     "metadata": {},
     "output_type": "execute_result"
    },
    {
     "data": {
      "image/png": "[encoded data removed]",
      "text/plain": [
       "<Figure size 1080x720 with 1 Axes>"
      ]
     },
     "metadata": {},
     "output_type": "display_data"
    }
   ],
   "source": [
    "df = upgrade_customer_info.sort_values(by='date_observed')\n",
    "plt.figure(figsize=(15,10))\n",
    "sns.countplot(data=df, hue=\"upgrade\", x='date_observed')\n",
    "sns.set(font_scale=2.0)\n",
    "plt.title('date_observed')"
   ]
  },
  {
   "cell_type": "code",
   "execution_count": 18,
   "metadata": {},
   "outputs": [
    {
     "data": {
      "text/plain": [
       "Text(0.5, 1.0, 'plan_subtype')"
      ]
     },
     "execution_count": 18,
     "metadata": {},
     "output_type": "execute_result"
    },
    {
     "data": {
      "image/png": "[encoded data removed]",
      "text/plain": [
       "<Figure size 1080x720 with 1 Axes>"
      ]
     },
     "metadata": {
      "needs_background": "light"
     },
     "output_type": "display_data"
    }
   ],
   "source": [
    "df = upgrade_customer_info.sort_values(by='plan_subtype')\n",
    "plt.figure(figsize=(15,10))\n",
    "sns.countplot(data=df, hue=\"upgrade\", x='plan_subtype')\n",
    "plt.title('plan_subtype')"
   ]
  },
  {
   "cell_type": "code",
   "execution_count": 19,
   "metadata": {},
   "outputs": [
    {
     "data": {
      "text/plain": [
       "42012"
      ]
     },
     "execution_count": 19,
     "metadata": {},
     "output_type": "execute_result"
    }
   ],
   "source": [
    "len(upgrade_customer_info.groupby('line_id')['redemption_date'].value_counts())"
   ]
  },
  {
   "cell_type": "code",
   "execution_count": 20,
   "metadata": {
    "scrolled": true
   },
   "outputs": [
    {
     "data": {
      "text/plain": [
       "0        [NULL]\n",
       "1        [NULL]\n",
       "2        [NULL]\n",
       "3        [NULL]\n",
       "4        [NULL]\n",
       "          ...  \n",
       "37150    [NULL]\n",
       "37151    [NULL]\n",
       "37152    [NULL]\n",
       "37153       NaN\n",
       "37154    [NULL]\n",
       "Name: plan_subtype, Length: 37155, dtype: object"
      ]
     },
     "execution_count": 20,
     "metadata": {},
     "output_type": "execute_result"
    }
   ],
   "source": [
    "upgrade_customer_info_eval.plan_subtype"
   ]
  },
  {
   "cell_type": "code",
   "execution_count": 21,
   "metadata": {},
   "outputs": [
    {
     "data": {
      "text/plain": [
       "2425"
      ]
     },
     "execution_count": 21,
     "metadata": {},
     "output_type": "execute_result"
    }
   ],
   "source": [
    "len(upgrade_customer_info.first_activation_date.value_counts())"
   ]
  },
  {
   "cell_type": "code",
   "execution_count": 22,
   "metadata": {},
   "outputs": [
    {
     "data": {
      "text/html": [
       "<div>\n",
       "<style scoped>\n",
       "    .dataframe tbody tr th:only-of-type {\n",
       "        vertical-align: middle;\n",
       "    }\n",
       "\n",
       "    .dataframe tbody tr th {\n",
       "        vertical-align: top;\n",
       "    }\n",
       "\n",
       "    .dataframe thead th {\n",
       "        text-align: right;\n",
       "    }\n",
       "</style>\n",
       "<table border=\"1\" class=\"dataframe\">\n",
       "  <thead>\n",
       "    <tr style=\"text-align: right;\">\n",
       "      <th></th>\n",
       "      <th>line_id</th>\n",
       "      <th>date_observed</th>\n",
       "      <th>upgrade</th>\n",
       "      <th>carrier</th>\n",
       "      <th>first_activation_date</th>\n",
       "      <th>plan_name</th>\n",
       "      <th>plan_subtype</th>\n",
       "      <th>redemption_date</th>\n",
       "    </tr>\n",
       "  </thead>\n",
       "  <tbody>\n",
       "    <tr>\n",
       "      <th>75</th>\n",
       "      <td>b597f115-fd32-474e-a405-63793067f884</td>\n",
       "      <td>2021-03-13</td>\n",
       "      <td>yes</td>\n",
       "      <td>carrier 1</td>\n",
       "      <td>NaN</td>\n",
       "      <td>NaN</td>\n",
       "      <td>NaN</td>\n",
       "      <td>NaN</td>\n",
       "    </tr>\n",
       "    <tr>\n",
       "      <th>88</th>\n",
       "      <td>57fa2fb6-aad5-4cb7-a8e7-fb4929c8eb36</td>\n",
       "      <td>2021-03-13</td>\n",
       "      <td>no</td>\n",
       "      <td>carrier 1</td>\n",
       "      <td>NaN</td>\n",
       "      <td>NaN</td>\n",
       "      <td>NaN</td>\n",
       "      <td>NaN</td>\n",
       "    </tr>\n",
       "    <tr>\n",
       "      <th>128</th>\n",
       "      <td>94d035d4-1be7-4f9b-8b3d-f86600f95380</td>\n",
       "      <td>2021-03-13</td>\n",
       "      <td>yes</td>\n",
       "      <td>carrier 1</td>\n",
       "      <td>NaN</td>\n",
       "      <td>NaN</td>\n",
       "      <td>NaN</td>\n",
       "      <td>NaN</td>\n",
       "    </tr>\n",
       "    <tr>\n",
       "      <th>155</th>\n",
       "      <td>db676e50-d8ee-49cb-b983-13e6a86975e4</td>\n",
       "      <td>2021-03-13</td>\n",
       "      <td>yes</td>\n",
       "      <td>carrier 1</td>\n",
       "      <td>NaN</td>\n",
       "      <td>NaN</td>\n",
       "      <td>NaN</td>\n",
       "      <td>NaN</td>\n",
       "    </tr>\n",
       "    <tr>\n",
       "      <th>170</th>\n",
       "      <td>e08bb419-8c7a-4429-9fd1-6808208a66aa</td>\n",
       "      <td>2021-03-14</td>\n",
       "      <td>no</td>\n",
       "      <td>carrier 1</td>\n",
       "      <td>NaN</td>\n",
       "      <td>NaN</td>\n",
       "      <td>NaN</td>\n",
       "      <td>NaN</td>\n",
       "    </tr>\n",
       "    <tr>\n",
       "      <th>...</th>\n",
       "      <td>...</td>\n",
       "      <td>...</td>\n",
       "      <td>...</td>\n",
       "      <td>...</td>\n",
       "      <td>...</td>\n",
       "      <td>...</td>\n",
       "      <td>...</td>\n",
       "      <td>...</td>\n",
       "    </tr>\n",
       "    <tr>\n",
       "      <th>55641</th>\n",
       "      <td>8bc99bc5-c621-40e5-8fdc-ffee27a779d5</td>\n",
       "      <td>2021-03-14</td>\n",
       "      <td>yes</td>\n",
       "      <td>carrier 1</td>\n",
       "      <td>NaN</td>\n",
       "      <td>NaN</td>\n",
       "      <td>NaN</td>\n",
       "      <td>NaN</td>\n",
       "    </tr>\n",
       "    <tr>\n",
       "      <th>55642</th>\n",
       "      <td>04479546-7bc1-4eb9-a2e3-b82e336255f2</td>\n",
       "      <td>2021-03-12</td>\n",
       "      <td>yes</td>\n",
       "      <td>carrier 1</td>\n",
       "      <td>NaN</td>\n",
       "      <td>NaN</td>\n",
       "      <td>NaN</td>\n",
       "      <td>NaN</td>\n",
       "    </tr>\n",
       "    <tr>\n",
       "      <th>55697</th>\n",
       "      <td>42355ede-8700-444b-a2f5-d1bdc5a25ddb</td>\n",
       "      <td>2021-03-14</td>\n",
       "      <td>no</td>\n",
       "      <td>carrier 1</td>\n",
       "      <td>NaN</td>\n",
       "      <td>NaN</td>\n",
       "      <td>NaN</td>\n",
       "      <td>NaN</td>\n",
       "    </tr>\n",
       "    <tr>\n",
       "      <th>55713</th>\n",
       "      <td>774211e2-6b28-4b33-873b-4aecf2d89663</td>\n",
       "      <td>2021-03-12</td>\n",
       "      <td>yes</td>\n",
       "      <td>carrier 1</td>\n",
       "      <td>NaN</td>\n",
       "      <td>NaN</td>\n",
       "      <td>NaN</td>\n",
       "      <td>NaN</td>\n",
       "    </tr>\n",
       "    <tr>\n",
       "      <th>55749</th>\n",
       "      <td>93e63e62-9620-4f69-bac0-a06e26856812</td>\n",
       "      <td>2021-03-12</td>\n",
       "      <td>yes</td>\n",
       "      <td>carrier 1</td>\n",
       "      <td>NaN</td>\n",
       "      <td>NaN</td>\n",
       "      <td>NaN</td>\n",
       "      <td>NaN</td>\n",
       "    </tr>\n",
       "  </tbody>\n",
       "</table>\n",
       "<p>721 rows × 8 columns</p>\n",
       "</div>"
      ],
      "text/plain": [
       "                                    line_id date_observed upgrade    carrier  \\\n",
       "75     b597f115-fd32-474e-a405-63793067f884    2021-03-13     yes  carrier 1   \n",
       "88     57fa2fb6-aad5-4cb7-a8e7-fb4929c8eb36    2021-03-13      no  carrier 1   \n",
       "128    94d035d4-1be7-4f9b-8b3d-f86600f95380    2021-03-13     yes  carrier 1   \n",
       "155    db676e50-d8ee-49cb-b983-13e6a86975e4    2021-03-13     yes  carrier 1   \n",
       "170    e08bb419-8c7a-4429-9fd1-6808208a66aa    2021-03-14      no  carrier 1   \n",
       "...                                     ...           ...     ...        ...   \n",
       "55641  8bc99bc5-c621-40e5-8fdc-ffee27a779d5    2021-03-14     yes  carrier 1   \n",
       "55642  04479546-7bc1-4eb9-a2e3-b82e336255f2    2021-03-12     yes  carrier 1   \n",
       "55697  42355ede-8700-444b-a2f5-d1bdc5a25ddb    2021-03-14      no  carrier 1   \n",
       "55713  774211e2-6b28-4b33-873b-4aecf2d89663    2021-03-12     yes  carrier 1   \n",
       "55749  93e63e62-9620-4f69-bac0-a06e26856812    2021-03-12     yes  carrier 1   \n",
       "\n",
       "      first_activation_date plan_name plan_subtype redemption_date  \n",
       "75                      NaN       NaN          NaN             NaN  \n",
       "88                      NaN       NaN          NaN             NaN  \n",
       "128                     NaN       NaN          NaN             NaN  \n",
       "155                     NaN       NaN          NaN             NaN  \n",
       "170                     NaN       NaN          NaN             NaN  \n",
       "...                     ...       ...          ...             ...  \n",
       "55641                   NaN       NaN          NaN             NaN  \n",
       "55642                   NaN       NaN          NaN             NaN  \n",
       "55697                   NaN       NaN          NaN             NaN  \n",
       "55713                   NaN       NaN          NaN             NaN  \n",
       "55749                   NaN       NaN          NaN             NaN  \n",
       "\n",
       "[721 rows x 8 columns]"
      ]
     },
     "execution_count": 22,
     "metadata": {},
     "output_type": "execute_result"
    }
   ],
   "source": [
    "upgrade_customer_info[upgrade_customer_info['first_activation_date'].isnull()]"
   ]
  },
  {
   "cell_type": "code",
   "execution_count": 23,
   "metadata": {},
   "outputs": [
    {
     "data": {
      "text/html": [
       "<div>\n",
       "<style scoped>\n",
       "    .dataframe tbody tr th:only-of-type {\n",
       "        vertical-align: middle;\n",
       "    }\n",
       "\n",
       "    .dataframe tbody tr th {\n",
       "        vertical-align: top;\n",
       "    }\n",
       "\n",
       "    .dataframe thead th {\n",
       "        text-align: right;\n",
       "    }\n",
       "</style>\n",
       "<table border=\"1\" class=\"dataframe\">\n",
       "  <thead>\n",
       "    <tr style=\"text-align: right;\">\n",
       "      <th></th>\n",
       "      <th>line_id</th>\n",
       "      <th>date_observed</th>\n",
       "      <th>upgrade</th>\n",
       "      <th>carrier</th>\n",
       "      <th>first_activation_date</th>\n",
       "      <th>plan_name</th>\n",
       "      <th>plan_subtype</th>\n",
       "      <th>redemption_date</th>\n",
       "    </tr>\n",
       "  </thead>\n",
       "  <tbody>\n",
       "    <tr>\n",
       "      <th>0</th>\n",
       "      <td>f0b99d3b-32f7-4464-8fa8-87f27c9810a8</td>\n",
       "      <td>2021-03-14</td>\n",
       "      <td>yes</td>\n",
       "      <td>carrier 1</td>\n",
       "      <td>2018-08-06</td>\n",
       "      <td>NaN</td>\n",
       "      <td>NaN</td>\n",
       "      <td>NaN</td>\n",
       "    </tr>\n",
       "    <tr>\n",
       "      <th>1</th>\n",
       "      <td>a2ec0baf-1720-4b1b-bfa3-db00ac8fcb00</td>\n",
       "      <td>2021-03-10</td>\n",
       "      <td>yes</td>\n",
       "      <td>carrier 1</td>\n",
       "      <td>2019-04-11</td>\n",
       "      <td>NaN</td>\n",
       "      <td>NaN</td>\n",
       "      <td>NaN</td>\n",
       "    </tr>\n",
       "    <tr>\n",
       "      <th>2</th>\n",
       "      <td>dd3a01a3-7baf-4605-9799-ce434328a20d</td>\n",
       "      <td>2021-03-10</td>\n",
       "      <td>no</td>\n",
       "      <td>carrier 1</td>\n",
       "      <td>2020-09-16</td>\n",
       "      <td>NaN</td>\n",
       "      <td>NaN</td>\n",
       "      <td>NaN</td>\n",
       "    </tr>\n",
       "    <tr>\n",
       "      <th>3</th>\n",
       "      <td>5cf5917c-f407-4cc7-9d6d-dafe8ec0eccc</td>\n",
       "      <td>2021-03-13</td>\n",
       "      <td>no</td>\n",
       "      <td>carrier 1</td>\n",
       "      <td>2021-01-28</td>\n",
       "      <td>plan 1</td>\n",
       "      <td>[NULL]</td>\n",
       "      <td>2021-02-26</td>\n",
       "    </tr>\n",
       "    <tr>\n",
       "      <th>4</th>\n",
       "      <td>6437fcbd-02c4-4c52-b5b2-f7e535ecec47</td>\n",
       "      <td>2021-03-10</td>\n",
       "      <td>yes</td>\n",
       "      <td>carrier 1</td>\n",
       "      <td>2020-08-31</td>\n",
       "      <td>NaN</td>\n",
       "      <td>NaN</td>\n",
       "      <td>NaN</td>\n",
       "    </tr>\n",
       "    <tr>\n",
       "      <th>...</th>\n",
       "      <td>...</td>\n",
       "      <td>...</td>\n",
       "      <td>...</td>\n",
       "      <td>...</td>\n",
       "      <td>...</td>\n",
       "      <td>...</td>\n",
       "      <td>...</td>\n",
       "      <td>...</td>\n",
       "    </tr>\n",
       "    <tr>\n",
       "      <th>55863</th>\n",
       "      <td>f89b108a-f453-4419-a4dc-5bf8e1cd1f1a</td>\n",
       "      <td>2021-03-11</td>\n",
       "      <td>no</td>\n",
       "      <td>carrier 1</td>\n",
       "      <td>2020-09-20</td>\n",
       "      <td>Other</td>\n",
       "      <td>[NULL]</td>\n",
       "      <td>2020-12-26</td>\n",
       "    </tr>\n",
       "    <tr>\n",
       "      <th>55864</th>\n",
       "      <td>b703f1d4-57ba-48b6-8adf-46d7aba6a406</td>\n",
       "      <td>2021-03-13</td>\n",
       "      <td>no</td>\n",
       "      <td>carrier 1</td>\n",
       "      <td>2019-05-03</td>\n",
       "      <td>plan 3</td>\n",
       "      <td>[NULL]</td>\n",
       "      <td>2021-02-19</td>\n",
       "    </tr>\n",
       "    <tr>\n",
       "      <th>55865</th>\n",
       "      <td>e3b2212c-906e-4a8f-8307-6b88fc64d7a0</td>\n",
       "      <td>2021-03-11</td>\n",
       "      <td>no</td>\n",
       "      <td>carrier 1</td>\n",
       "      <td>2021-01-16</td>\n",
       "      <td>NaN</td>\n",
       "      <td>NaN</td>\n",
       "      <td>NaN</td>\n",
       "    </tr>\n",
       "    <tr>\n",
       "      <th>55866</th>\n",
       "      <td>828df9bf-279c-47c3-96c2-92177a50b8fd</td>\n",
       "      <td>2021-03-14</td>\n",
       "      <td>no</td>\n",
       "      <td>carrier 1</td>\n",
       "      <td>2021-01-24</td>\n",
       "      <td>plan 1</td>\n",
       "      <td>[NULL]</td>\n",
       "      <td>2021-02-24</td>\n",
       "    </tr>\n",
       "    <tr>\n",
       "      <th>55867</th>\n",
       "      <td>a0a14009-da02-4989-bdce-bc66146e0324</td>\n",
       "      <td>2021-03-11</td>\n",
       "      <td>yes</td>\n",
       "      <td>carrier 1</td>\n",
       "      <td>2019-07-03</td>\n",
       "      <td>plan 2</td>\n",
       "      <td>[NULL]</td>\n",
       "      <td>2021-03-01</td>\n",
       "    </tr>\n",
       "  </tbody>\n",
       "</table>\n",
       "<p>55147 rows × 8 columns</p>\n",
       "</div>"
      ],
      "text/plain": [
       "                                    line_id date_observed upgrade    carrier  \\\n",
       "0      f0b99d3b-32f7-4464-8fa8-87f27c9810a8    2021-03-14     yes  carrier 1   \n",
       "1      a2ec0baf-1720-4b1b-bfa3-db00ac8fcb00    2021-03-10     yes  carrier 1   \n",
       "2      dd3a01a3-7baf-4605-9799-ce434328a20d    2021-03-10      no  carrier 1   \n",
       "3      5cf5917c-f407-4cc7-9d6d-dafe8ec0eccc    2021-03-13      no  carrier 1   \n",
       "4      6437fcbd-02c4-4c52-b5b2-f7e535ecec47    2021-03-10     yes  carrier 1   \n",
       "...                                     ...           ...     ...        ...   \n",
       "55863  f89b108a-f453-4419-a4dc-5bf8e1cd1f1a    2021-03-11      no  carrier 1   \n",
       "55864  b703f1d4-57ba-48b6-8adf-46d7aba6a406    2021-03-13      no  carrier 1   \n",
       "55865  e3b2212c-906e-4a8f-8307-6b88fc64d7a0    2021-03-11      no  carrier 1   \n",
       "55866  828df9bf-279c-47c3-96c2-92177a50b8fd    2021-03-14      no  carrier 1   \n",
       "55867  a0a14009-da02-4989-bdce-bc66146e0324    2021-03-11     yes  carrier 1   \n",
       "\n",
       "      first_activation_date plan_name plan_subtype redemption_date  \n",
       "0                2018-08-06       NaN          NaN             NaN  \n",
       "1                2019-04-11       NaN          NaN             NaN  \n",
       "2                2020-09-16       NaN          NaN             NaN  \n",
       "3                2021-01-28    plan 1       [NULL]      2021-02-26  \n",
       "4                2020-08-31       NaN          NaN             NaN  \n",
       "...                     ...       ...          ...             ...  \n",
       "55863            2020-09-20     Other       [NULL]      2020-12-26  \n",
       "55864            2019-05-03    plan 3       [NULL]      2021-02-19  \n",
       "55865            2021-01-16       NaN          NaN             NaN  \n",
       "55866            2021-01-24    plan 1       [NULL]      2021-02-24  \n",
       "55867            2019-07-03    plan 2       [NULL]      2021-03-01  \n",
       "\n",
       "[55147 rows x 8 columns]"
      ]
     },
     "execution_count": 23,
     "metadata": {},
     "output_type": "execute_result"
    }
   ],
   "source": [
    "upgrade_customer_info[upgrade_customer_info['first_activation_date'].notnull()]"
   ]
  },
  {
   "cell_type": "code",
   "execution_count": 24,
   "metadata": {},
   "outputs": [
    {
     "data": {
      "text/plain": [
       "Index(['line_id', 'date_observed', 'upgrade', 'carrier',\n",
       "       'first_activation_date', 'plan_name', 'plan_subtype',\n",
       "       'redemption_date'],\n",
       "      dtype='object')"
      ]
     },
     "execution_count": 24,
     "metadata": {},
     "output_type": "execute_result"
    }
   ],
   "source": [
    "columns = upgrade_customer_info.columns\n",
    "columns"
   ]
  },
  {
   "cell_type": "markdown",
   "metadata": {},
   "source": [
    "# Data processing"
   ]
  },
  {
   "cell_type": "code",
   "execution_count": 25,
   "metadata": {},
   "outputs": [],
   "source": [
    "# df = upgrade_customer_info"
   ]
  },
  {
   "cell_type": "code",
   "execution_count": 26,
   "metadata": {},
   "outputs": [],
   "source": [
    "# df_full=df.drop(labels='first_activation_date',axis=1)\n",
    "# df_full=df.drop(columns=['first_activation_date', 'plan_name', ''],axis=1)\n",
    "# df_full"
   ]
  },
  {
   "cell_type": "code",
   "execution_count": 27,
   "metadata": {},
   "outputs": [],
   "source": [
    "# df_nan=df.loc[:,'填充列']\n",
    "# df_nan"
   ]
  },
  {
   "cell_type": "code",
   "execution_count": 28,
   "metadata": {},
   "outputs": [],
   "source": [
    "#区别我们的训练集和测试集\n",
    "# Ytrain = df_nan[df_nan.notnull()]\n",
    "# Ytest = df_nan[df_nan.isnull()]\n",
    "# Xtrain = df_full.iloc[Ytrain.index]\n",
    "# Xtest = df_full.iloc[Ytest.index]"
   ]
  },
  {
   "cell_type": "code",
   "execution_count": 29,
   "metadata": {},
   "outputs": [],
   "source": [
    "#用随机森林回归来填补缺失值\n",
    "# rfc = RandomForestRegressor(n_estimators=100)\n",
    "# rfc = rfc.fit(Xtrain, Ytrain)\n",
    "# Ypredict = rfc.predict(Xtest)"
   ]
  },
  {
   "cell_type": "code",
   "execution_count": 30,
   "metadata": {},
   "outputs": [],
   "source": [
    "# Ypredict"
   ]
  },
  {
   "cell_type": "code",
   "execution_count": 31,
   "metadata": {},
   "outputs": [],
   "source": [
    "# \n",
    "\n",
    "# first_activation_date - Dealing with missing values\n",
    "# upgrade_customer_info.loc[:, 'first_activation_date'].fillna(\"0-0-0\", inplace=True)\n",
    "\n",
    "# first_activation_date - Do standardization processing for month, year and day respectively\n",
    "# data = upgrade_customer_info.loc[:, 'first_activation_date']\n",
    "# upgrade_customer_info.loc[:,'first_activation_year'] = data.apply(lambda x:str(x).split('-')[0])\n",
    "# data = upgrade_customer_info.loc[:, 'first_activation_date']\n",
    "# upgrade_customer_info.loc[:,'first_activation_month'] = data.apply(lambda x:str(x).split('-')[1])\n",
    "# data = upgrade_customer_info.loc[:, 'first_activation_date']\n",
    "# upgrade_customer_info.loc[:,'first_activation_day'] = data.apply(lambda x:str(x).split('-')[2])\n",
    "# upgrade_customer_info.loc[:,'first_activation_year'].replace('0', np.nan, inplace=True)\n",
    "# upgrade_customer_info.loc[:,'first_activation_month'].replace('0', np.nan, inplace=True)\n",
    "# upgrade_customer_info.loc[:,'first_activation_day'].replace('0', np.nan, inplace=True)\n",
    "\n",
    "\n",
    "\n",
    "# data = fill_miss_byRandomForest(upgrade_customer_info, 'first_activation_year', ['first_activation_month', 'first_activation_day', 'date_observed', 'first_activation_date', 'line_id', 'plan_name', 'plan_subtype', 'redemption_date'])\n",
    "# data\n",
    "\n",
    "# st=StandardScaler()\n",
    "# data=st.fit_transform(upgrade_customer_info.loc[:,['first_activation_year', 'first_activation_month', 'first_activation_day']])\n",
    "# upgrade_customer_info.loc[:,'first_activation_year'] = data[:, 0]\n",
    "# upgrade_customer_info.loc[:,'first_activation_month'] = data[:, 1]\n",
    "# upgrade_customer_info.loc[:,'first_activation_day'] = data[:, 2]\n",
    "\n",
    "# upgrade_redemptions_eval.loc[:,'first_activation_year'] = upgrade_redemptions_eval['first_activation_date'].apply(lambda x:x.split('-')[0])\n",
    "# upgrade_redemptions_eval.loc[:,'first_activation_month'] = upgrade_redemptions_eval['first_activation_date'].apply(lambda x:x.split('-')[1])\n",
    "# upgrade_redemptions_eval.loc[:,'first_activation_day'] = upgrade_redemptions_eval['first_activation_date'].apply(lambda x:x.split('-')[2])\n",
    "# st=StandardScaler()\n",
    "# data=st.fit_transform(upgrade_redemptions_eval.loc[:,['first_activation_year', 'first_activation_month', 'first_activation_day']])\n",
    "# upgrade_redemptions_eval.loc[:,'first_activation_year'] = data[:, 0]\n",
    "# upgrade_redemptions_eval.loc[:,'first_activation_month'] = data[:, 1]\n",
    "# upgrade_redemptions_eval.loc[:,'first_activation_day'] = data[:, 2]\n",
    "\n",
    "\n",
    "# \n",
    "# upgrade_customer_info[upgrade_customer_info.loc[:, 'upgrade'] == 'yes'] = 1\n",
    "# upgrade_customer_info[upgrade_customer_info.loc[:, 'upgrade'] == 'no'] = 0"
   ]
  },
  {
   "cell_type": "markdown",
   "metadata": {},
   "source": [
    "## first_activation_date"
   ]
  },
  {
   "cell_type": "code",
   "execution_count": 32,
   "metadata": {},
   "outputs": [],
   "source": [
    "#Train\n",
    "upgrade_customer_info.loc[:, 'first_activation_date'].fillna(\"0-0-0\", inplace=True)\n",
    "\n",
    "#Eval\n",
    "upgrade_customer_info_eval.loc[:, 'first_activation_date'].fillna(\"0-0-0\", inplace=True)"
   ]
  },
  {
   "cell_type": "code",
   "execution_count": 33,
   "metadata": {},
   "outputs": [],
   "source": [
    "#Train\n",
    "data = upgrade_customer_info.loc[:, 'first_activation_date']\n",
    "upgrade_customer_info['first_activation_year'] = data.apply(lambda x:str(x).split('-')[0])\n",
    "\n",
    "#Eval\n",
    "data = upgrade_customer_info_eval.loc[:, 'first_activation_date']\n",
    "upgrade_customer_info_eval['first_activation_year'] = data.apply(lambda x:str(x).split('-')[0])"
   ]
  },
  {
   "cell_type": "code",
   "execution_count": 34,
   "metadata": {},
   "outputs": [],
   "source": [
    "#Train\n",
    "data = upgrade_customer_info.loc[:, 'first_activation_date']\n",
    "upgrade_customer_info['first_activation_month'] = data.apply(lambda x:str(x).split('-')[1])\n",
    "\n",
    "#Eval\n",
    "data = upgrade_customer_info_eval.loc[:, 'first_activation_date']\n",
    "upgrade_customer_info_eval['first_activation_month'] = data.apply(lambda x:str(x).split('-')[1])"
   ]
  },
  {
   "cell_type": "code",
   "execution_count": 35,
   "metadata": {},
   "outputs": [],
   "source": [
    "#Train\n",
    "data = upgrade_customer_info.loc[:, 'first_activation_date']\n",
    "upgrade_customer_info['first_activation_day'] = data.apply(lambda x:str(x).split('-')[2])\n",
    "\n",
    "#Eval\n",
    "data = upgrade_customer_info_eval.loc[:, 'first_activation_date']\n",
    "upgrade_customer_info_eval['first_activation_day'] = data.apply(lambda x:str(x).split('-')[2])"
   ]
  },
  {
   "cell_type": "code",
   "execution_count": 36,
   "metadata": {},
   "outputs": [],
   "source": [
    "#Train\n",
    "upgrade_customer_info.loc[:,'first_activation_year'].replace('0', np.nan, inplace=True)\n",
    "upgrade_customer_info.loc[:,'first_activation_month'].replace('0', np.nan, inplace=True)\n",
    "upgrade_customer_info.loc[:,'first_activation_day'].replace('0', np.nan, inplace=True)\n",
    "\n",
    "#Eval\n",
    "upgrade_customer_info_eval.loc[:,'first_activation_year'].replace('0', np.nan, inplace=True)\n",
    "upgrade_customer_info_eval.loc[:,'first_activation_month'].replace('0', np.nan, inplace=True)\n",
    "upgrade_customer_info_eval.loc[:,'first_activation_day'].replace('0', np.nan, inplace=True)"
   ]
  },
  {
   "cell_type": "code",
   "execution_count": 37,
   "metadata": {},
   "outputs": [
    {
     "data": {
      "text/plain": [
       "55147"
      ]
     },
     "execution_count": 37,
     "metadata": {},
     "output_type": "execute_result"
    }
   ],
   "source": [
    "sum(upgrade_customer_info.loc[:,'first_activation_month'].value_counts())"
   ]
  },
  {
   "cell_type": "code",
   "execution_count": 38,
   "metadata": {},
   "outputs": [
    {
     "name": "stdout",
     "output_type": "stream",
     "text": [
      "<class 'pandas.core.frame.DataFrame'>\n",
      "Int64Index: 55868 entries, 0 to 55867\n",
      "Data columns (total 11 columns):\n",
      " #   Column                  Non-Null Count  Dtype \n",
      "---  ------                  --------------  ----- \n",
      " 0   line_id                 55868 non-null  object\n",
      " 1   date_observed           55868 non-null  object\n",
      " 2   upgrade                 55868 non-null  object\n",
      " 3   carrier                 55868 non-null  object\n",
      " 4   first_activation_date   55868 non-null  object\n",
      " 5   plan_name               42012 non-null  object\n",
      " 6   plan_subtype            42012 non-null  object\n",
      " 7   redemption_date         42012 non-null  object\n",
      " 8   first_activation_year   55147 non-null  object\n",
      " 9   first_activation_month  55147 non-null  object\n",
      " 10  first_activation_day    55147 non-null  object\n",
      "dtypes: object(11)\n",
      "memory usage: 5.1+ MB\n"
     ]
    }
   ],
   "source": [
    "upgrade_customer_info.info()"
   ]
  },
  {
   "cell_type": "code",
   "execution_count": 39,
   "metadata": {},
   "outputs": [],
   "source": [
    "#Train\n",
    "st=StandardScaler()\n",
    "data=st.fit_transform(upgrade_customer_info.loc[:,['first_activation_year', 'first_activation_month', 'first_activation_day']])\n",
    "upgrade_customer_info.loc[:,'first_activation_year'] = data[:, 0]\n",
    "upgrade_customer_info.loc[:,'first_activation_month'] = data[:, 1]\n",
    "upgrade_customer_info.loc[:,'first_activation_day'] = data[:, 2]\n",
    "\n",
    "#Eval\n",
    "st=StandardScaler()\n",
    "data=st.fit_transform(upgrade_customer_info_eval.loc[:,['first_activation_year', 'first_activation_month', 'first_activation_day']])\n",
    "upgrade_customer_info_eval.loc[:,'first_activation_year'] = data[:, 0]\n",
    "upgrade_customer_info_eval.loc[:,'first_activation_month'] = data[:, 1]\n",
    "upgrade_customer_info_eval.loc[:,'first_activation_day'] = data[:, 2]"
   ]
  },
  {
   "cell_type": "code",
   "execution_count": 40,
   "metadata": {},
   "outputs": [
    {
     "data": {
      "text/html": [
       "<div>\n",
       "<style scoped>\n",
       "    .dataframe tbody tr th:only-of-type {\n",
       "        vertical-align: middle;\n",
       "    }\n",
       "\n",
       "    .dataframe tbody tr th {\n",
       "        vertical-align: top;\n",
       "    }\n",
       "\n",
       "    .dataframe thead th {\n",
       "        text-align: right;\n",
       "    }\n",
       "</style>\n",
       "<table border=\"1\" class=\"dataframe\">\n",
       "  <thead>\n",
       "    <tr style=\"text-align: right;\">\n",
       "      <th></th>\n",
       "      <th>line_id</th>\n",
       "      <th>date_observed</th>\n",
       "      <th>upgrade</th>\n",
       "      <th>carrier</th>\n",
       "      <th>first_activation_date</th>\n",
       "      <th>plan_name</th>\n",
       "      <th>plan_subtype</th>\n",
       "      <th>redemption_date</th>\n",
       "      <th>first_activation_year</th>\n",
       "      <th>first_activation_month</th>\n",
       "      <th>first_activation_day</th>\n",
       "    </tr>\n",
       "  </thead>\n",
       "  <tbody>\n",
       "    <tr>\n",
       "      <th>0</th>\n",
       "      <td>f0b99d3b-32f7-4464-8fa8-87f27c9810a8</td>\n",
       "      <td>2021-03-14</td>\n",
       "      <td>yes</td>\n",
       "      <td>carrier 1</td>\n",
       "      <td>2018-08-06</td>\n",
       "      <td>NaN</td>\n",
       "      <td>NaN</td>\n",
       "      <td>NaN</td>\n",
       "      <td>-1.220132</td>\n",
       "      <td>0.370472</td>\n",
       "      <td>-1.192224</td>\n",
       "    </tr>\n",
       "    <tr>\n",
       "      <th>1</th>\n",
       "      <td>a2ec0baf-1720-4b1b-bfa3-db00ac8fcb00</td>\n",
       "      <td>2021-03-10</td>\n",
       "      <td>yes</td>\n",
       "      <td>carrier 1</td>\n",
       "      <td>2019-04-11</td>\n",
       "      <td>NaN</td>\n",
       "      <td>NaN</td>\n",
       "      <td>NaN</td>\n",
       "      <td>-0.463805</td>\n",
       "      <td>-0.605880</td>\n",
       "      <td>-0.637264</td>\n",
       "    </tr>\n",
       "    <tr>\n",
       "      <th>2</th>\n",
       "      <td>dd3a01a3-7baf-4605-9799-ce434328a20d</td>\n",
       "      <td>2021-03-10</td>\n",
       "      <td>no</td>\n",
       "      <td>carrier 1</td>\n",
       "      <td>2020-09-16</td>\n",
       "      <td>NaN</td>\n",
       "      <td>NaN</td>\n",
       "      <td>NaN</td>\n",
       "      <td>0.292522</td>\n",
       "      <td>0.614559</td>\n",
       "      <td>-0.082304</td>\n",
       "    </tr>\n",
       "    <tr>\n",
       "      <th>3</th>\n",
       "      <td>5cf5917c-f407-4cc7-9d6d-dafe8ec0eccc</td>\n",
       "      <td>2021-03-13</td>\n",
       "      <td>no</td>\n",
       "      <td>carrier 1</td>\n",
       "      <td>2021-01-28</td>\n",
       "      <td>plan 1</td>\n",
       "      <td>[NULL]</td>\n",
       "      <td>2021-02-26</td>\n",
       "      <td>1.048849</td>\n",
       "      <td>-1.338143</td>\n",
       "      <td>1.249601</td>\n",
       "    </tr>\n",
       "    <tr>\n",
       "      <th>4</th>\n",
       "      <td>6437fcbd-02c4-4c52-b5b2-f7e535ecec47</td>\n",
       "      <td>2021-03-10</td>\n",
       "      <td>yes</td>\n",
       "      <td>carrier 1</td>\n",
       "      <td>2020-08-31</td>\n",
       "      <td>NaN</td>\n",
       "      <td>NaN</td>\n",
       "      <td>NaN</td>\n",
       "      <td>0.292522</td>\n",
       "      <td>0.370472</td>\n",
       "      <td>1.582577</td>\n",
       "    </tr>\n",
       "  </tbody>\n",
       "</table>\n",
       "</div>"
      ],
      "text/plain": [
       "                                line_id date_observed upgrade    carrier  \\\n",
       "0  f0b99d3b-32f7-4464-8fa8-87f27c9810a8    2021-03-14     yes  carrier 1   \n",
       "1  a2ec0baf-1720-4b1b-bfa3-db00ac8fcb00    2021-03-10     yes  carrier 1   \n",
       "2  dd3a01a3-7baf-4605-9799-ce434328a20d    2021-03-10      no  carrier 1   \n",
       "3  5cf5917c-f407-4cc7-9d6d-dafe8ec0eccc    2021-03-13      no  carrier 1   \n",
       "4  6437fcbd-02c4-4c52-b5b2-f7e535ecec47    2021-03-10     yes  carrier 1   \n",
       "\n",
       "  first_activation_date plan_name plan_subtype redemption_date  \\\n",
       "0            2018-08-06       NaN          NaN             NaN   \n",
       "1            2019-04-11       NaN          NaN             NaN   \n",
       "2            2020-09-16       NaN          NaN             NaN   \n",
       "3            2021-01-28    plan 1       [NULL]      2021-02-26   \n",
       "4            2020-08-31       NaN          NaN             NaN   \n",
       "\n",
       "   first_activation_year  first_activation_month  first_activation_day  \n",
       "0              -1.220132                0.370472             -1.192224  \n",
       "1              -0.463805               -0.605880             -0.637264  \n",
       "2               0.292522                0.614559             -0.082304  \n",
       "3               1.048849               -1.338143              1.249601  \n",
       "4               0.292522                0.370472              1.582577  "
      ]
     },
     "execution_count": 40,
     "metadata": {},
     "output_type": "execute_result"
    }
   ],
   "source": [
    "upgrade_customer_info.head(5)"
   ]
  },
  {
   "cell_type": "code",
   "execution_count": 41,
   "metadata": {},
   "outputs": [],
   "source": [
    "# 缺失值处理\n",
    "data = upgrade_customer_info.loc[:,['first_activation_year', 'first_activation_month', 'first_activation_day']]\n",
    "im = SimpleImputer(missing_values=np.nan, strategy='mean')\n",
    "# im = KNNImputer(n_neighbors=2)\n",
    "data = im.fit_transform(data)\n",
    "\n",
    "upgrade_customer_info.loc[:,'first_activation_year'] = data[:, 0]\n",
    "upgrade_customer_info.loc[:,'first_activation_month'] = data[:, 1]\n",
    "upgrade_customer_info.loc[:,'first_activation_day'] = data[:, 2]\n",
    "\n",
    "#Eval\n",
    "data = upgrade_customer_info_eval.loc[:,['first_activation_year', 'first_activation_month', 'first_activation_day']]\n",
    "im = SimpleImputer(missing_values=np.nan, strategy='mean')\n",
    "# im = KNNImputer(n_neighbors=2)\n",
    "data = im.fit_transform(data)\n",
    "\n",
    "upgrade_customer_info_eval.loc[:,'first_activation_year'] = data[:, 0]\n",
    "upgrade_customer_info_eval.loc[:,'first_activation_month'] = data[:, 1]\n",
    "upgrade_customer_info_eval.loc[:,'first_activation_day'] = data[:, 2]"
   ]
  },
  {
   "cell_type": "code",
   "execution_count": 42,
   "metadata": {},
   "outputs": [
    {
     "data": {
      "text/html": [
       "<div>\n",
       "<style scoped>\n",
       "    .dataframe tbody tr th:only-of-type {\n",
       "        vertical-align: middle;\n",
       "    }\n",
       "\n",
       "    .dataframe tbody tr th {\n",
       "        vertical-align: top;\n",
       "    }\n",
       "\n",
       "    .dataframe thead th {\n",
       "        text-align: right;\n",
       "    }\n",
       "</style>\n",
       "<table border=\"1\" class=\"dataframe\">\n",
       "  <thead>\n",
       "    <tr style=\"text-align: right;\">\n",
       "      <th></th>\n",
       "      <th>line_id</th>\n",
       "      <th>date_observed</th>\n",
       "      <th>upgrade</th>\n",
       "      <th>carrier</th>\n",
       "      <th>first_activation_date</th>\n",
       "      <th>plan_name</th>\n",
       "      <th>plan_subtype</th>\n",
       "      <th>redemption_date</th>\n",
       "      <th>first_activation_year</th>\n",
       "      <th>first_activation_month</th>\n",
       "      <th>first_activation_day</th>\n",
       "    </tr>\n",
       "  </thead>\n",
       "  <tbody>\n",
       "    <tr>\n",
       "      <th>0</th>\n",
       "      <td>f0b99d3b-32f7-4464-8fa8-87f27c9810a8</td>\n",
       "      <td>2021-03-14</td>\n",
       "      <td>yes</td>\n",
       "      <td>carrier 1</td>\n",
       "      <td>2018-08-06</td>\n",
       "      <td>NaN</td>\n",
       "      <td>NaN</td>\n",
       "      <td>NaN</td>\n",
       "      <td>-1.220132</td>\n",
       "      <td>0.370472</td>\n",
       "      <td>-1.192224</td>\n",
       "    </tr>\n",
       "    <tr>\n",
       "      <th>1</th>\n",
       "      <td>a2ec0baf-1720-4b1b-bfa3-db00ac8fcb00</td>\n",
       "      <td>2021-03-10</td>\n",
       "      <td>yes</td>\n",
       "      <td>carrier 1</td>\n",
       "      <td>2019-04-11</td>\n",
       "      <td>NaN</td>\n",
       "      <td>NaN</td>\n",
       "      <td>NaN</td>\n",
       "      <td>-0.463805</td>\n",
       "      <td>-0.605880</td>\n",
       "      <td>-0.637264</td>\n",
       "    </tr>\n",
       "    <tr>\n",
       "      <th>2</th>\n",
       "      <td>dd3a01a3-7baf-4605-9799-ce434328a20d</td>\n",
       "      <td>2021-03-10</td>\n",
       "      <td>no</td>\n",
       "      <td>carrier 1</td>\n",
       "      <td>2020-09-16</td>\n",
       "      <td>NaN</td>\n",
       "      <td>NaN</td>\n",
       "      <td>NaN</td>\n",
       "      <td>0.292522</td>\n",
       "      <td>0.614559</td>\n",
       "      <td>-0.082304</td>\n",
       "    </tr>\n",
       "    <tr>\n",
       "      <th>3</th>\n",
       "      <td>5cf5917c-f407-4cc7-9d6d-dafe8ec0eccc</td>\n",
       "      <td>2021-03-13</td>\n",
       "      <td>no</td>\n",
       "      <td>carrier 1</td>\n",
       "      <td>2021-01-28</td>\n",
       "      <td>plan 1</td>\n",
       "      <td>[NULL]</td>\n",
       "      <td>2021-02-26</td>\n",
       "      <td>1.048849</td>\n",
       "      <td>-1.338143</td>\n",
       "      <td>1.249601</td>\n",
       "    </tr>\n",
       "    <tr>\n",
       "      <th>4</th>\n",
       "      <td>6437fcbd-02c4-4c52-b5b2-f7e535ecec47</td>\n",
       "      <td>2021-03-10</td>\n",
       "      <td>yes</td>\n",
       "      <td>carrier 1</td>\n",
       "      <td>2020-08-31</td>\n",
       "      <td>NaN</td>\n",
       "      <td>NaN</td>\n",
       "      <td>NaN</td>\n",
       "      <td>0.292522</td>\n",
       "      <td>0.370472</td>\n",
       "      <td>1.582577</td>\n",
       "    </tr>\n",
       "  </tbody>\n",
       "</table>\n",
       "</div>"
      ],
      "text/plain": [
       "                                line_id date_observed upgrade    carrier  \\\n",
       "0  f0b99d3b-32f7-4464-8fa8-87f27c9810a8    2021-03-14     yes  carrier 1   \n",
       "1  a2ec0baf-1720-4b1b-bfa3-db00ac8fcb00    2021-03-10     yes  carrier 1   \n",
       "2  dd3a01a3-7baf-4605-9799-ce434328a20d    2021-03-10      no  carrier 1   \n",
       "3  5cf5917c-f407-4cc7-9d6d-dafe8ec0eccc    2021-03-13      no  carrier 1   \n",
       "4  6437fcbd-02c4-4c52-b5b2-f7e535ecec47    2021-03-10     yes  carrier 1   \n",
       "\n",
       "  first_activation_date plan_name plan_subtype redemption_date  \\\n",
       "0            2018-08-06       NaN          NaN             NaN   \n",
       "1            2019-04-11       NaN          NaN             NaN   \n",
       "2            2020-09-16       NaN          NaN             NaN   \n",
       "3            2021-01-28    plan 1       [NULL]      2021-02-26   \n",
       "4            2020-08-31       NaN          NaN             NaN   \n",
       "\n",
       "   first_activation_year  first_activation_month  first_activation_day  \n",
       "0              -1.220132                0.370472             -1.192224  \n",
       "1              -0.463805               -0.605880             -0.637264  \n",
       "2               0.292522                0.614559             -0.082304  \n",
       "3               1.048849               -1.338143              1.249601  \n",
       "4               0.292522                0.370472              1.582577  "
      ]
     },
     "execution_count": 42,
     "metadata": {},
     "output_type": "execute_result"
    }
   ],
   "source": [
    "upgrade_customer_info.head(5)"
   ]
  },
  {
   "cell_type": "markdown",
   "metadata": {},
   "source": [
    "## redemption_date"
   ]
  },
  {
   "cell_type": "code",
   "execution_count": 43,
   "metadata": {},
   "outputs": [],
   "source": [
    "#Train\n",
    "upgrade_customer_info.loc[:, 'redemption_date'].fillna(\"0-0-0\", inplace=True)\n",
    "\n",
    "#Eval\n",
    "upgrade_customer_info_eval.loc[:, 'redemption_date'].fillna(\"0-0-0\", inplace=True)"
   ]
  },
  {
   "cell_type": "code",
   "execution_count": 44,
   "metadata": {},
   "outputs": [],
   "source": [
    "#Train\n",
    "data = upgrade_customer_info.loc[:, 'redemption_date']\n",
    "upgrade_customer_info.loc[:,'customer_redemption_year'] = data.apply(lambda x:str(x).split('-')[0])\n",
    "\n",
    "#Eval\n",
    "data = upgrade_customer_info_eval.loc[:, 'redemption_date']\n",
    "upgrade_customer_info_eval.loc[:,'customer_redemption_year'] = data.apply(lambda x:str(x).split('-')[0])"
   ]
  },
  {
   "cell_type": "code",
   "execution_count": 45,
   "metadata": {},
   "outputs": [],
   "source": [
    "#Train\n",
    "data = upgrade_customer_info.loc[:, 'redemption_date']\n",
    "upgrade_customer_info.loc[:,'customer_redemption_month'] = data.apply(lambda x:str(x).split('-')[1])\n",
    "\n",
    "#Eval\n",
    "data = upgrade_customer_info_eval.loc[:, 'redemption_date']\n",
    "upgrade_customer_info_eval.loc[:,'customer_redemption_month'] = data.apply(lambda x:str(x).split('-')[1])"
   ]
  },
  {
   "cell_type": "code",
   "execution_count": 46,
   "metadata": {},
   "outputs": [],
   "source": [
    "#Train\n",
    "data = upgrade_customer_info.loc[:, 'redemption_date']\n",
    "upgrade_customer_info.loc[:,'customer_redemption_day'] = data.apply(lambda x:str(x).split('-')[2])\n",
    "\n",
    "#Eval\n",
    "data = upgrade_customer_info_eval.loc[:, 'redemption_date']\n",
    "upgrade_customer_info_eval.loc[:,'customer_redemption_day'] = data.apply(lambda x:str(x).split('-')[2])"
   ]
  },
  {
   "cell_type": "code",
   "execution_count": 47,
   "metadata": {},
   "outputs": [],
   "source": [
    "#Train\n",
    "upgrade_customer_info.loc[:,'customer_redemption_year'].replace('0', np.nan, inplace=True)\n",
    "upgrade_customer_info.loc[:,'customer_redemption_month'].replace('0', np.nan, inplace=True)\n",
    "upgrade_customer_info.loc[:,'customer_redemption_day'].replace('0', np.nan, inplace=True)\n",
    "\n",
    "#Eval\n",
    "upgrade_customer_info_eval.loc[:,'customer_redemption_year'].replace('0', np.nan, inplace=True)\n",
    "upgrade_customer_info_eval.loc[:,'customer_redemption_month'].replace('0', np.nan, inplace=True)\n",
    "upgrade_customer_info_eval.loc[:,'customer_redemption_day'].replace('0', np.nan, inplace=True)"
   ]
  },
  {
   "cell_type": "code",
   "execution_count": 48,
   "metadata": {},
   "outputs": [],
   "source": [
    "#Train\n",
    "st=StandardScaler()\n",
    "data=st.fit_transform(upgrade_customer_info.loc[:,['customer_redemption_year', 'customer_redemption_month', 'customer_redemption_day']])\n",
    "upgrade_customer_info.loc[:,'customer_redemption_year'] = data[:, 0]\n",
    "upgrade_customer_info.loc[:,'customer_redemption_month'] = data[:, 1]\n",
    "upgrade_customer_info.loc[:,'customer_redemption_day'] = data[:, 2]\n",
    "\n",
    "#Eval\n",
    "st=StandardScaler()\n",
    "data=st.fit_transform(upgrade_customer_info_eval.loc[:,['customer_redemption_year', 'customer_redemption_month', 'customer_redemption_day']])\n",
    "upgrade_customer_info_eval.loc[:,'customer_redemption_year'] = data[:, 0]\n",
    "upgrade_customer_info_eval.loc[:,'customer_redemption_month'] = data[:, 1]\n",
    "upgrade_customer_info_eval.loc[:,'customer_redemption_day'] = data[:, 2]"
   ]
  },
  {
   "cell_type": "code",
   "execution_count": 49,
   "metadata": {},
   "outputs": [],
   "source": [
    "# 缺失值处理\n",
    "data = upgrade_customer_info.loc[:,['customer_redemption_year', 'customer_redemption_month', 'customer_redemption_day']]\n",
    "im = SimpleImputer(missing_values=np.nan, strategy='mean')\n",
    "# im = KNNImputer(n_neighbors=2)\n",
    "data = im.fit_transform(data)\n",
    "upgrade_customer_info.loc[:,'customer_redemption_year'] = data[:, 0]\n",
    "upgrade_customer_info.loc[:,'customer_redemption_month'] = data[:, 1]\n",
    "upgrade_customer_info.loc[:,'customer_redemption_day'] = data[:, 2]\n",
    "\n",
    "#Eval\n",
    "data = upgrade_customer_info_eval.loc[:,['customer_redemption_year', 'customer_redemption_month', 'customer_redemption_day']]\n",
    "im = SimpleImputer(missing_values=np.nan, strategy='mean')\n",
    "# im = KNNImputer(n_neighbors=2)\n",
    "data = im.fit_transform(data)\n",
    "upgrade_customer_info_eval.loc[:,'customer_redemption_year'] = data[:, 0]\n",
    "upgrade_customer_info_eval.loc[:,'customer_redemption_month'] = data[:, 1]\n",
    "upgrade_customer_info_eval.loc[:,'customer_redemption_day'] = data[:, 2]"
   ]
  },
  {
   "cell_type": "markdown",
   "metadata": {},
   "source": [
    "## plan_name"
   ]
  },
  {
   "cell_type": "code",
   "execution_count": 50,
   "metadata": {},
   "outputs": [
    {
     "data": {
      "text/plain": [
       "0           NaN\n",
       "1           NaN\n",
       "2           NaN\n",
       "3        plan 1\n",
       "4           NaN\n",
       "          ...  \n",
       "55863     Other\n",
       "55864    plan 3\n",
       "55865       NaN\n",
       "55866    plan 1\n",
       "55867    plan 2\n",
       "Name: plan_name, Length: 55868, dtype: object"
      ]
     },
     "execution_count": 50,
     "metadata": {},
     "output_type": "execute_result"
    }
   ],
   "source": [
    "upgrade_customer_info['plan_name']"
   ]
  },
  {
   "cell_type": "code",
   "execution_count": 51,
   "metadata": {},
   "outputs": [
    {
     "data": {
      "text/plain": [
       "plan 1    16767\n",
       "plan 2    13386\n",
       "plan 3     9502\n",
       "Other      2212\n",
       "plan 4      145\n",
       "Name: plan_name, dtype: int64"
      ]
     },
     "execution_count": 51,
     "metadata": {},
     "output_type": "execute_result"
    }
   ],
   "source": [
    "upgrade_customer_info['plan_name'].value_counts()"
   ]
  },
  {
   "cell_type": "code",
   "execution_count": 52,
   "metadata": {},
   "outputs": [
    {
     "data": {
      "text/plain": [
       "plan 1    10984\n",
       "plan 2     8830\n",
       "plan 3     6454\n",
       "Other      1514\n",
       "plan 4      106\n",
       "Name: plan_name, dtype: int64"
      ]
     },
     "execution_count": 52,
     "metadata": {},
     "output_type": "execute_result"
    }
   ],
   "source": [
    "upgrade_customer_info_eval['plan_name'].value_counts()"
   ]
  },
  {
   "cell_type": "code",
   "execution_count": 53,
   "metadata": {},
   "outputs": [],
   "source": [
    "#Train\n",
    "upgrade_customer_info['plan_name'].fillna('N', inplace=True)\n",
    "\n",
    "#Eval\n",
    "upgrade_customer_info_eval['plan_name'].fillna('N', inplace=True)"
   ]
  },
  {
   "cell_type": "code",
   "execution_count": 54,
   "metadata": {},
   "outputs": [
    {
     "data": {
      "text/plain": [
       "plan 1    16767\n",
       "N         13856\n",
       "plan 2    13386\n",
       "plan 3     9502\n",
       "Other      2212\n",
       "plan 4      145\n",
       "Name: plan_name, dtype: int64"
      ]
     },
     "execution_count": 54,
     "metadata": {},
     "output_type": "execute_result"
    }
   ],
   "source": [
    "upgrade_customer_info['plan_name'].value_counts()"
   ]
  },
  {
   "cell_type": "code",
   "execution_count": 55,
   "metadata": {},
   "outputs": [],
   "source": [
    "#Train\n",
    "\n",
    "oh = OneHotEncoder(sparse = False)\n",
    "contents = oh.fit_transform(upgrade_customer_info.loc[:, ['plan_name']])\n",
    "\n",
    "n_samples = contents.shape[1]\n",
    "plan_field = []\n",
    "for i in range(n_samples):\n",
    "    s = 'plan_' + str(i)\n",
    "    plan_field.append(s)\n",
    "    \n",
    "for i in range(n_samples):\n",
    "    upgrade_customer_info[plan_field[i]] = contents[:, i]\n",
    "\n",
    "#Eavlation data set\n",
    "oh = OneHotEncoder(sparse = False)\n",
    "contents = oh.fit_transform(upgrade_customer_info_eval.loc[:, ['plan_name']])\n",
    "\n",
    "n_samples = contents.shape[1]\n",
    "plan_field = []\n",
    "for i in range(n_samples):\n",
    "    s = 'plan_' + str(i)\n",
    "    plan_field.append(s)\n",
    "    \n",
    "for i in range(n_samples):\n",
    "    upgrade_customer_info_eval[plan_field[i]] = contents[:, i]"
   ]
  },
  {
   "cell_type": "markdown",
   "metadata": {},
   "source": [
    "## carrier"
   ]
  },
  {
   "cell_type": "code",
   "execution_count": 56,
   "metadata": {},
   "outputs": [],
   "source": [
    "#Train\n",
    "oh = OneHotEncoder(sparse = False)\n",
    "contents = oh.fit_transform(upgrade_customer_info.loc[:, ['carrier']])\n",
    "\n",
    "n_samples = contents.shape[1]\n",
    "carrier_field = []\n",
    "for i in range(n_samples):\n",
    "    s = 'carrier_' + str(i)\n",
    "    carrier_field.append(s)\n",
    "    \n",
    "for i in range(n_samples):\n",
    "    upgrade_customer_info[carrier_field[i]] = contents[:, i]\n",
    "\n",
    "#Eavlation data set\n",
    "oh = OneHotEncoder(sparse = False)\n",
    "contents = oh.fit_transform(upgrade_customer_info_eval.loc[:, ['carrier']])\n",
    "\n",
    "n_samples = contents.shape[1]\n",
    "carrier_field = []\n",
    "for i in range(n_samples):\n",
    "    s = 'carrier_' + str(i)\n",
    "    carrier_field.append(s)\n",
    "    \n",
    "for i in range(n_samples):\n",
    "    upgrade_customer_info_eval[carrier_field[i]] = contents[:, i]"
   ]
  },
  {
   "cell_type": "code",
   "execution_count": 57,
   "metadata": {},
   "outputs": [
    {
     "name": "stdout",
     "output_type": "stream",
     "text": [
      "<class 'pandas.core.frame.DataFrame'>\n",
      "Int64Index: 55868 entries, 0 to 55867\n",
      "Data columns (total 23 columns):\n",
      " #   Column                     Non-Null Count  Dtype  \n",
      "---  ------                     --------------  -----  \n",
      " 0   line_id                    55868 non-null  object \n",
      " 1   date_observed              55868 non-null  object \n",
      " 2   upgrade                    55868 non-null  object \n",
      " 3   carrier                    55868 non-null  object \n",
      " 4   first_activation_date      55868 non-null  object \n",
      " 5   plan_name                  55868 non-null  object \n",
      " 6   plan_subtype               42012 non-null  object \n",
      " 7   redemption_date            55868 non-null  object \n",
      " 8   first_activation_year      55868 non-null  float64\n",
      " 9   first_activation_month     55868 non-null  float64\n",
      " 10  first_activation_day       55868 non-null  float64\n",
      " 11  customer_redemption_year   55868 non-null  float64\n",
      " 12  customer_redemption_month  55868 non-null  float64\n",
      " 13  customer_redemption_day    55868 non-null  float64\n",
      " 14  plan_0                     55868 non-null  float64\n",
      " 15  plan_1                     55868 non-null  float64\n",
      " 16  plan_2                     55868 non-null  float64\n",
      " 17  plan_3                     55868 non-null  float64\n",
      " 18  plan_4                     55868 non-null  float64\n",
      " 19  plan_5                     55868 non-null  float64\n",
      " 20  carrier_0                  55868 non-null  float64\n",
      " 21  carrier_1                  55868 non-null  float64\n",
      " 22  carrier_2                  55868 non-null  float64\n",
      "dtypes: float64(15), object(8)\n",
      "memory usage: 10.2+ MB\n"
     ]
    }
   ],
   "source": [
    "upgrade_customer_info.info()"
   ]
  },
  {
   "cell_type": "code",
   "execution_count": 58,
   "metadata": {},
   "outputs": [
    {
     "name": "stdout",
     "output_type": "stream",
     "text": [
      "<class 'pandas.core.frame.DataFrame'>\n",
      "Int64Index: 37155 entries, 0 to 37154\n",
      "Data columns (total 22 columns):\n",
      " #   Column                     Non-Null Count  Dtype  \n",
      "---  ------                     --------------  -----  \n",
      " 0   line_id                    37155 non-null  object \n",
      " 1   date_observed              37155 non-null  object \n",
      " 2   carrier                    37155 non-null  object \n",
      " 3   first_activation_date      37155 non-null  object \n",
      " 4   plan_name                  37155 non-null  object \n",
      " 5   plan_subtype               27888 non-null  object \n",
      " 6   redemption_date            37155 non-null  object \n",
      " 7   first_activation_year      37155 non-null  float64\n",
      " 8   first_activation_month     37155 non-null  float64\n",
      " 9   first_activation_day       37155 non-null  float64\n",
      " 10  customer_redemption_year   37155 non-null  float64\n",
      " 11  customer_redemption_month  37155 non-null  float64\n",
      " 12  customer_redemption_day    37155 non-null  float64\n",
      " 13  plan_0                     37155 non-null  float64\n",
      " 14  plan_1                     37155 non-null  float64\n",
      " 15  plan_2                     37155 non-null  float64\n",
      " 16  plan_3                     37155 non-null  float64\n",
      " 17  plan_4                     37155 non-null  float64\n",
      " 18  plan_5                     37155 non-null  float64\n",
      " 19  carrier_0                  37155 non-null  float64\n",
      " 20  carrier_1                  37155 non-null  float64\n",
      " 21  carrier_2                  37155 non-null  float64\n",
      "dtypes: float64(15), object(7)\n",
      "memory usage: 6.5+ MB\n"
     ]
    }
   ],
   "source": [
    "upgrade_customer_info_eval.info()"
   ]
  },
  {
   "cell_type": "code",
   "execution_count": 59,
   "metadata": {},
   "outputs": [],
   "source": [
    "upgrade_customer_info = upgrade_customer_info.drop(columns=['upgrade', 'plan_subtype', 'date_observed', 'carrier', 'first_activation_date', 'plan_name', 'redemption_date'])\n",
    "upgrade_customer_info_eval = upgrade_customer_info_eval.drop(columns=['plan_subtype', 'date_observed', 'carrier', 'first_activation_date', 'plan_name', 'redemption_date'])\n"
   ]
  },
  {
   "cell_type": "code",
   "execution_count": 60,
   "metadata": {},
   "outputs": [],
   "source": [
    "# upgrade_customer_info.to_csv(root_folder+\"code/data/dev/customer_info_new.csv\", header=True,index=None)\n",
    "# upgrade_customer_info_eval.to_csv(root_folder+\"code/data/eval/customer_info_new_eval.csv\", header=True,index=None)"
   ]
  },
  {
   "cell_type": "code",
   "execution_count": null,
   "metadata": {},
   "outputs": [],
   "source": []
  }
 ],
 "metadata": {
  "kernelspec": {
   "display_name": "Python 3",
   "language": "python",
   "name": "python3"
  },
  "language_info": {
   "codemirror_mode": {
    "name": "ipython",
    "version": 3
   },
   "file_extension": ".py",
   "mimetype": "text/x-python",
   "name": "python",
   "nbconvert_exporter": "python",
   "pygments_lexer": "ipython3",
   "version": "3.7.6"
  }
 },
 "nbformat": 4,
 "nbformat_minor": 4
}
