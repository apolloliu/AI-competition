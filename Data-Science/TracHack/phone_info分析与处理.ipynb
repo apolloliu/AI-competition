{
 "cells": [
  {
   "cell_type": "code",
   "execution_count": 2,
   "metadata": {},
   "outputs": [
    {
     "name": "stdout",
     "output_type": "stream",
     "text": [
      "Requirement already satisfied: pandas==1.0.3 in /opt/conda/lib/python3.7/site-packages (1.0.3)\n",
      "Requirement already satisfied: python-dateutil>=2.6.1 in /opt/conda/lib/python3.7/site-packages (from pandas==1.0.3) (2.8.1)\n",
      "Requirement already satisfied: pytz>=2017.2 in /opt/conda/lib/python3.7/site-packages (from pandas==1.0.3) (2020.1)\n",
      "Requirement already satisfied: numpy>=1.13.3 in /opt/conda/lib/python3.7/site-packages (from pandas==1.0.3) (1.19.2)\n",
      "Requirement already satisfied: six>=1.5 in /opt/conda/lib/python3.7/site-packages (from python-dateutil>=2.6.1->pandas==1.0.3) (1.14.0)\n",
      "\u001b[33mWARNING: You are using pip version 20.2.4; however, version 21.0.1 is available.\n",
      "You should consider upgrading via the '/opt/conda/bin/python3.7 -m pip install --upgrade pip' command.\u001b[0m\n"
     ]
    }
   ],
   "source": [
    "# installing 1.0.3 because this version of pandas supports write to s3\n",
    "!pip install pandas==1.0.3"
   ]
  },
  {
   "cell_type": "code",
   "execution_count": 3,
   "metadata": {},
   "outputs": [],
   "source": [
    "# This path will be active after the launch of the hackathon / day-day-up-unsw / s3://tf-trachack-notebooks/day-day-up-unsw/jupyter/jovyan/\n",
    "teamname = 'day-day-up-unsw' #'trachack-a-groups-admin-py-tracfone'\n",
    "data_folder='s3://tf-trachack-data/212/'\n",
    "# change root_folder to your team's root folder\n",
    "# s3://tf-trachack-notebooks/<this should be replaced by team name as provided in EMAIL>/jupyter/jovyan/\n",
    "root_folder='s3://tf-trachack-notebooks/'+teamname+'/jupyter/jovyan/'"
   ]
  },
  {
   "cell_type": "code",
   "execution_count": 4,
   "metadata": {},
   "outputs": [],
   "source": [
    "import matplotlib.pyplot as plt\n",
    "import numpy as np\n",
    "import pandas as pd\n",
    "import seaborn as sns\n",
    "\n",
    "from datetime import datetime\n",
    "from pandas import to_datetime\n",
    "\n",
    "from sklearn.feature_selection import VarianceThreshold\n",
    "from sklearn.preprocessing import OneHotEncoder\n",
    "from sklearn.preprocessing import MinMaxScaler\n",
    "from sklearn.preprocessing import StandardScaler\n",
    "from sklearn.decomposition import PCA\n",
    "from sklearn.impute import KNNImputer,SimpleImputer\n",
    "from scipy.interpolate import lagrange\n",
    "from sklearn import metrics\n",
    "from scipy.stats import pearsonr\n",
    "import warnings\n",
    "warnings.filterwarnings(\"ignore\")"
   ]
  },
  {
   "cell_type": "code",
   "execution_count": 5,
   "metadata": {},
   "outputs": [],
   "source": [
    "upgrades=pd.read_csv(data_folder+\"data/dev/upgrades.csv\")\n",
    "phone_info=pd.read_csv(data_folder+\"data/dev/phone_info.csv\")\n",
    "customer_info=pd.read_csv(data_folder+\"data/dev/customer_info.csv\")"
   ]
  },
  {
   "cell_type": "code",
   "execution_count": 6,
   "metadata": {},
   "outputs": [],
   "source": [
    "upgrade_phone_info = pd.merge(upgrades, phone_info, on = 'line_id', how = 'inner')\n",
    "upgrade_customer_info = pd.merge(upgrades, customer_info, on = 'line_id', how = 'inner')"
   ]
  },
  {
   "cell_type": "code",
   "execution_count": 7,
   "metadata": {},
   "outputs": [],
   "source": [
    "upgrades_eval=pd.read_csv(data_folder+\"data/eval/upgrades.csv\")\n",
    "phone_info_eval=pd.read_csv(data_folder+\"data/eval/phone_info.csv\")\n",
    "customer_info_eval=pd.read_csv(data_folder+\"data/eval/customer_info.csv\")"
   ]
  },
  {
   "cell_type": "code",
   "execution_count": 8,
   "metadata": {},
   "outputs": [],
   "source": [
    "upgrade_phone_info_eval = pd.merge(upgrades_eval, phone_info_eval, on = 'line_id', how = 'inner')\n",
    "upgrade_customer_info_eval = pd.merge(upgrades_eval, customer_info_eval, on = 'line_id', how = 'inner')"
   ]
  },
  {
   "cell_type": "code",
   "execution_count": 385,
   "metadata": {},
   "outputs": [
    {
     "data": {
      "text/html": [
       "<div>\n",
       "<style scoped>\n",
       "    .dataframe tbody tr th:only-of-type {\n",
       "        vertical-align: middle;\n",
       "    }\n",
       "\n",
       "    .dataframe tbody tr th {\n",
       "        vertical-align: top;\n",
       "    }\n",
       "\n",
       "    .dataframe thead th {\n",
       "        text-align: right;\n",
       "    }\n",
       "</style>\n",
       "<table border=\"1\" class=\"dataframe\">\n",
       "  <thead>\n",
       "    <tr style=\"text-align: right;\">\n",
       "      <th></th>\n",
       "      <th>line_id</th>\n",
       "      <th>cpu_cores</th>\n",
       "      <th>expandable_storage</th>\n",
       "      <th>gsma_device_type</th>\n",
       "      <th>gsma_model_name</th>\n",
       "      <th>gsma_operating_system</th>\n",
       "      <th>internal_storage_capacity</th>\n",
       "      <th>lte</th>\n",
       "      <th>lte_advanced</th>\n",
       "      <th>lte_category</th>\n",
       "      <th>manufacturer</th>\n",
       "      <th>os_family</th>\n",
       "      <th>os_name</th>\n",
       "      <th>os_vendor</th>\n",
       "      <th>os_version</th>\n",
       "      <th>sim_size</th>\n",
       "      <th>total_ram</th>\n",
       "      <th>touch_screen</th>\n",
       "      <th>wi_fi</th>\n",
       "      <th>year_released</th>\n",
       "    </tr>\n",
       "  </thead>\n",
       "  <tbody>\n",
       "    <tr>\n",
       "      <th>0</th>\n",
       "      <td>8803884c-38df-4243-a522-891c2117790c</td>\n",
       "      <td>4</td>\n",
       "      <td>0.0</td>\n",
       "      <td>Smartphone</td>\n",
       "      <td>iPhone 7 (A1779)</td>\n",
       "      <td>iOS</td>\n",
       "      <td>32/128/256</td>\n",
       "      <td>1.0</td>\n",
       "      <td>1.0</td>\n",
       "      <td>9.0</td>\n",
       "      <td>Apple</td>\n",
       "      <td>iOS</td>\n",
       "      <td>iOS</td>\n",
       "      <td>Apple</td>\n",
       "      <td>10</td>\n",
       "      <td>Nano</td>\n",
       "      <td>2048</td>\n",
       "      <td>1.0</td>\n",
       "      <td>1.0</td>\n",
       "      <td>2016.0</td>\n",
       "    </tr>\n",
       "    <tr>\n",
       "      <th>1</th>\n",
       "      <td>75b2d7a7-c4f8-4cf2-af32-ab25b5dffacc</td>\n",
       "      <td>8</td>\n",
       "      <td>1.0</td>\n",
       "      <td>Smartphone</td>\n",
       "      <td>SM-N975U</td>\n",
       "      <td>Android</td>\n",
       "      <td>256</td>\n",
       "      <td>1.0</td>\n",
       "      <td>1.0</td>\n",
       "      <td>20.0</td>\n",
       "      <td>Samsung</td>\n",
       "      <td>Android</td>\n",
       "      <td>Android</td>\n",
       "      <td>Google</td>\n",
       "      <td>9</td>\n",
       "      <td>Nano</td>\n",
       "      <td>8192</td>\n",
       "      <td>1.0</td>\n",
       "      <td>1.0</td>\n",
       "      <td>2019.0</td>\n",
       "    </tr>\n",
       "    <tr>\n",
       "      <th>2</th>\n",
       "      <td>7f10447b-7ce6-4297-9011-8273b11354ee</td>\n",
       "      <td>2+4</td>\n",
       "      <td>0.0</td>\n",
       "      <td>Smartphone</td>\n",
       "      <td>iPhone XR (A1984)</td>\n",
       "      <td>iOS</td>\n",
       "      <td>64/128/256</td>\n",
       "      <td>1.0</td>\n",
       "      <td>1.0</td>\n",
       "      <td>12.0</td>\n",
       "      <td>Apple</td>\n",
       "      <td>iOS</td>\n",
       "      <td>iOS</td>\n",
       "      <td>Apple</td>\n",
       "      <td>12</td>\n",
       "      <td>Nano</td>\n",
       "      <td>3072</td>\n",
       "      <td>1.0</td>\n",
       "      <td>1.0</td>\n",
       "      <td>2018.0</td>\n",
       "    </tr>\n",
       "    <tr>\n",
       "      <th>3</th>\n",
       "      <td>50579bcb-6413-4dfb-865d-f11d3adad1fe</td>\n",
       "      <td>NaN</td>\n",
       "      <td>NaN</td>\n",
       "      <td>Smartphone</td>\n",
       "      <td>SM-G986U1</td>\n",
       "      <td>Android</td>\n",
       "      <td>NaN</td>\n",
       "      <td>NaN</td>\n",
       "      <td>NaN</td>\n",
       "      <td>NaN</td>\n",
       "      <td>NaN</td>\n",
       "      <td>NaN</td>\n",
       "      <td>NaN</td>\n",
       "      <td>NaN</td>\n",
       "      <td>NaN</td>\n",
       "      <td>NaN</td>\n",
       "      <td>NaN</td>\n",
       "      <td>NaN</td>\n",
       "      <td>NaN</td>\n",
       "      <td>NaN</td>\n",
       "    </tr>\n",
       "    <tr>\n",
       "      <th>4</th>\n",
       "      <td>c56e177c-0514-493c-bbc2-7e2c9308aa73</td>\n",
       "      <td>NaN</td>\n",
       "      <td>NaN</td>\n",
       "      <td>Smartphone</td>\n",
       "      <td>LG L722DL</td>\n",
       "      <td>Android</td>\n",
       "      <td>NaN</td>\n",
       "      <td>NaN</td>\n",
       "      <td>NaN</td>\n",
       "      <td>NaN</td>\n",
       "      <td>NaN</td>\n",
       "      <td>NaN</td>\n",
       "      <td>NaN</td>\n",
       "      <td>NaN</td>\n",
       "      <td>NaN</td>\n",
       "      <td>NaN</td>\n",
       "      <td>NaN</td>\n",
       "      <td>NaN</td>\n",
       "      <td>NaN</td>\n",
       "      <td>NaN</td>\n",
       "    </tr>\n",
       "  </tbody>\n",
       "</table>\n",
       "</div>"
      ],
      "text/plain": [
       "                                line_id cpu_cores  expandable_storage  \\\n",
       "0  8803884c-38df-4243-a522-891c2117790c         4                 0.0   \n",
       "1  75b2d7a7-c4f8-4cf2-af32-ab25b5dffacc         8                 1.0   \n",
       "2  7f10447b-7ce6-4297-9011-8273b11354ee       2+4                 0.0   \n",
       "3  50579bcb-6413-4dfb-865d-f11d3adad1fe       NaN                 NaN   \n",
       "4  c56e177c-0514-493c-bbc2-7e2c9308aa73       NaN                 NaN   \n",
       "\n",
       "  gsma_device_type    gsma_model_name gsma_operating_system  \\\n",
       "0       Smartphone   iPhone 7 (A1779)                   iOS   \n",
       "1       Smartphone           SM-N975U               Android   \n",
       "2       Smartphone  iPhone XR (A1984)                   iOS   \n",
       "3       Smartphone          SM-G986U1               Android   \n",
       "4       Smartphone          LG L722DL               Android   \n",
       "\n",
       "  internal_storage_capacity  lte  lte_advanced  lte_category manufacturer  \\\n",
       "0                32/128/256  1.0           1.0           9.0        Apple   \n",
       "1                       256  1.0           1.0          20.0      Samsung   \n",
       "2                64/128/256  1.0           1.0          12.0        Apple   \n",
       "3                       NaN  NaN           NaN           NaN          NaN   \n",
       "4                       NaN  NaN           NaN           NaN          NaN   \n",
       "\n",
       "  os_family  os_name os_vendor os_version sim_size total_ram  touch_screen  \\\n",
       "0       iOS      iOS     Apple         10     Nano      2048           1.0   \n",
       "1   Android  Android    Google          9     Nano      8192           1.0   \n",
       "2       iOS      iOS     Apple         12     Nano      3072           1.0   \n",
       "3       NaN      NaN       NaN        NaN      NaN       NaN           NaN   \n",
       "4       NaN      NaN       NaN        NaN      NaN       NaN           NaN   \n",
       "\n",
       "   wi_fi  year_released  \n",
       "0    1.0         2016.0  \n",
       "1    1.0         2019.0  \n",
       "2    1.0         2018.0  \n",
       "3    NaN            NaN  \n",
       "4    NaN            NaN  "
      ]
     },
     "execution_count": 385,
     "metadata": {},
     "output_type": "execute_result"
    }
   ],
   "source": [
    "phone_info.head(5)"
   ]
  },
  {
   "cell_type": "code",
   "execution_count": 15,
   "metadata": {},
   "outputs": [
    {
     "name": "stdout",
     "output_type": "stream",
     "text": [
      "<class 'pandas.core.frame.DataFrame'>\n",
      "RangeIndex: 55868 entries, 0 to 55867\n",
      "Data columns (total 20 columns):\n",
      " #   Column                     Non-Null Count  Dtype  \n",
      "---  ------                     --------------  -----  \n",
      " 0   line_id                    55868 non-null  object \n",
      " 1   cpu_cores                  33740 non-null  object \n",
      " 2   expandable_storage         33241 non-null  float64\n",
      " 3   gsma_device_type           44297 non-null  object \n",
      " 4   gsma_model_name            44297 non-null  object \n",
      " 5   gsma_operating_system      44297 non-null  object \n",
      " 6   internal_storage_capacity  33399 non-null  object \n",
      " 7   lte                        33831 non-null  float64\n",
      " 8   lte_advanced               31224 non-null  float64\n",
      " 9   lte_category               30927 non-null  float64\n",
      " 10  manufacturer               33814 non-null  object \n",
      " 11  os_family                  33801 non-null  object \n",
      " 12  os_name                    33803 non-null  object \n",
      " 13  os_vendor                  33801 non-null  object \n",
      " 14  os_version                 33649 non-null  object \n",
      " 15  sim_size                   32473 non-null  object \n",
      " 16  total_ram                  33632 non-null  object \n",
      " 17  touch_screen               33853 non-null  float64\n",
      " 18  wi_fi                      33819 non-null  float64\n",
      " 19  year_released              33849 non-null  float64\n",
      "dtypes: float64(7), object(13)\n",
      "memory usage: 8.5+ MB\n"
     ]
    }
   ],
   "source": [
    "phone_info.info()"
   ]
  },
  {
   "cell_type": "code",
   "execution_count": 12,
   "metadata": {},
   "outputs": [
    {
     "name": "stdout",
     "output_type": "stream",
     "text": [
      "<class 'pandas.core.frame.DataFrame'>\n",
      "Int64Index: 55868 entries, 0 to 55867\n",
      "Data columns (total 22 columns):\n",
      " #   Column                     Non-Null Count  Dtype  \n",
      "---  ------                     --------------  -----  \n",
      " 0   line_id                    55868 non-null  object \n",
      " 1   date_observed              55868 non-null  object \n",
      " 2   upgrade                    55868 non-null  object \n",
      " 3   cpu_cores                  33740 non-null  object \n",
      " 4   expandable_storage         33241 non-null  float64\n",
      " 5   gsma_device_type           44297 non-null  object \n",
      " 6   gsma_model_name            44297 non-null  object \n",
      " 7   gsma_operating_system      44297 non-null  object \n",
      " 8   internal_storage_capacity  33399 non-null  object \n",
      " 9   lte                        33831 non-null  float64\n",
      " 10  lte_advanced               31224 non-null  float64\n",
      " 11  lte_category               30927 non-null  float64\n",
      " 12  manufacturer               33814 non-null  object \n",
      " 13  os_family                  33801 non-null  object \n",
      " 14  os_name                    33803 non-null  object \n",
      " 15  os_vendor                  33801 non-null  object \n",
      " 16  os_version                 33649 non-null  object \n",
      " 17  sim_size                   32473 non-null  object \n",
      " 18  total_ram                  33632 non-null  object \n",
      " 19  touch_screen               33853 non-null  float64\n",
      " 20  wi_fi                      33819 non-null  float64\n",
      " 21  year_released              33849 non-null  float64\n",
      "dtypes: float64(7), object(15)\n",
      "memory usage: 9.8+ MB\n"
     ]
    }
   ],
   "source": [
    "upgrade_phone_info.info()"
   ]
  },
  {
   "cell_type": "code",
   "execution_count": 14,
   "metadata": {},
   "outputs": [
    {
     "name": "stdout",
     "output_type": "stream",
     "text": [
      "<class 'pandas.core.frame.DataFrame'>\n",
      "Int64Index: 37155 entries, 0 to 37154\n",
      "Data columns (total 21 columns):\n",
      " #   Column                     Non-Null Count  Dtype  \n",
      "---  ------                     --------------  -----  \n",
      " 0   line_id                    37155 non-null  object \n",
      " 1   date_observed              37155 non-null  object \n",
      " 2   cpu_cores                  22575 non-null  object \n",
      " 3   expandable_storage         22249 non-null  float64\n",
      " 4   gsma_device_type           29555 non-null  object \n",
      " 5   gsma_model_name            29555 non-null  object \n",
      " 6   gsma_operating_system      29555 non-null  object \n",
      " 7   internal_storage_capacity  22344 non-null  object \n",
      " 8   lte                        22646 non-null  float64\n",
      " 9   lte_advanced               20937 non-null  float64\n",
      " 10  lte_category               20719 non-null  float64\n",
      " 11  manufacturer               22646 non-null  object \n",
      " 12  os_family                  22619 non-null  object \n",
      " 13  os_name                    22623 non-null  object \n",
      " 14  os_vendor                  22619 non-null  object \n",
      " 15  os_version                 22513 non-null  object \n",
      " 16  sim_size                   21737 non-null  object \n",
      " 17  total_ram                  22502 non-null  object \n",
      " 18  touch_screen               22664 non-null  float64\n",
      " 19  wi_fi                      22637 non-null  float64\n",
      " 20  year_released              22661 non-null  float64\n",
      "dtypes: float64(7), object(14)\n",
      "memory usage: 6.2+ MB\n"
     ]
    }
   ],
   "source": [
    "upgrade_phone_info_eval.info()"
   ]
  },
  {
   "cell_type": "code",
   "execution_count": 387,
   "metadata": {},
   "outputs": [
    {
     "data": {
      "text/plain": [
       "0          4\n",
       "1        2+4\n",
       "2          4\n",
       "3          4\n",
       "4          8\n",
       "        ... \n",
       "55863    NaN\n",
       "55864      4\n",
       "55865    NaN\n",
       "55866    4+4\n",
       "55867    NaN\n",
       "Name: cpu_cores, Length: 55868, dtype: object"
      ]
     },
     "execution_count": 387,
     "metadata": {},
     "output_type": "execute_result"
    }
   ],
   "source": [
    "upgrade_phone_info.loc[:, 'cpu_cores']"
   ]
  },
  {
   "cell_type": "code",
   "execution_count": 388,
   "metadata": {},
   "outputs": [
    {
     "data": {
      "text/plain": [
       "4        13370\n",
       "2         7772\n",
       "2+4       5943\n",
       "8         2430\n",
       "4+4       1499\n",
       "2+6       1238\n",
       "6+2        949\n",
       "2+2        465\n",
       "1+3+4       43\n",
       "2+2+4       21\n",
       "4+2          4\n",
       "1            4\n",
       "1+2+4        2\n",
       "Name: cpu_cores, dtype: int64"
      ]
     },
     "execution_count": 388,
     "metadata": {},
     "output_type": "execute_result"
    }
   ],
   "source": [
    "upgrade_phone_info.loc[:, 'cpu_cores'].value_counts()"
   ]
  },
  {
   "cell_type": "code",
   "execution_count": 389,
   "metadata": {},
   "outputs": [
    {
     "data": {
      "text/plain": [
       "0          4\n",
       "1        2+4\n",
       "2          2\n",
       "3        NaN\n",
       "4          4\n",
       "        ... \n",
       "37150    NaN\n",
       "37151    NaN\n",
       "37152      4\n",
       "37153      2\n",
       "37154      4\n",
       "Name: cpu_cores, Length: 37155, dtype: object"
      ]
     },
     "execution_count": 389,
     "metadata": {},
     "output_type": "execute_result"
    }
   ],
   "source": [
    "upgrade_phone_info_eval.loc[:, 'cpu_cores']"
   ]
  },
  {
   "cell_type": "code",
   "execution_count": 390,
   "metadata": {},
   "outputs": [
    {
     "data": {
      "text/html": [
       "<div>\n",
       "<style scoped>\n",
       "    .dataframe tbody tr th:only-of-type {\n",
       "        vertical-align: middle;\n",
       "    }\n",
       "\n",
       "    .dataframe tbody tr th {\n",
       "        vertical-align: top;\n",
       "    }\n",
       "\n",
       "    .dataframe thead th {\n",
       "        text-align: right;\n",
       "    }\n",
       "</style>\n",
       "<table border=\"1\" class=\"dataframe\">\n",
       "  <thead>\n",
       "    <tr style=\"text-align: right;\">\n",
       "      <th></th>\n",
       "      <th>line_id</th>\n",
       "      <th>date_observed</th>\n",
       "      <th>cpu_cores</th>\n",
       "      <th>expandable_storage</th>\n",
       "      <th>gsma_device_type</th>\n",
       "      <th>gsma_model_name</th>\n",
       "      <th>gsma_operating_system</th>\n",
       "      <th>internal_storage_capacity</th>\n",
       "      <th>lte</th>\n",
       "      <th>lte_advanced</th>\n",
       "      <th>...</th>\n",
       "      <th>manufacturer</th>\n",
       "      <th>os_family</th>\n",
       "      <th>os_name</th>\n",
       "      <th>os_vendor</th>\n",
       "      <th>os_version</th>\n",
       "      <th>sim_size</th>\n",
       "      <th>total_ram</th>\n",
       "      <th>touch_screen</th>\n",
       "      <th>wi_fi</th>\n",
       "      <th>year_released</th>\n",
       "    </tr>\n",
       "  </thead>\n",
       "  <tbody>\n",
       "    <tr>\n",
       "      <th>0</th>\n",
       "      <td>584f0d75-5897-4e56-b475-0b3adf1aeb07</td>\n",
       "      <td>2021-03-10</td>\n",
       "      <td>4</td>\n",
       "      <td>0.0</td>\n",
       "      <td>Smartphone</td>\n",
       "      <td>iPhone 7 (A1660)</td>\n",
       "      <td>iOS</td>\n",
       "      <td>32/128/256</td>\n",
       "      <td>1.0</td>\n",
       "      <td>1.0</td>\n",
       "      <td>...</td>\n",
       "      <td>Apple</td>\n",
       "      <td>iOS</td>\n",
       "      <td>iOS</td>\n",
       "      <td>Apple</td>\n",
       "      <td>10</td>\n",
       "      <td>Nano</td>\n",
       "      <td>2048</td>\n",
       "      <td>1.0</td>\n",
       "      <td>1.0</td>\n",
       "      <td>2016.0</td>\n",
       "    </tr>\n",
       "    <tr>\n",
       "      <th>1</th>\n",
       "      <td>e879756a-daff-4f72-9206-d96009861ac1</td>\n",
       "      <td>2021-03-10</td>\n",
       "      <td>2+4</td>\n",
       "      <td>0.0</td>\n",
       "      <td>Smartphone</td>\n",
       "      <td>iPhone X (A1901)</td>\n",
       "      <td>iOS</td>\n",
       "      <td>64/256</td>\n",
       "      <td>1.0</td>\n",
       "      <td>1.0</td>\n",
       "      <td>...</td>\n",
       "      <td>Apple</td>\n",
       "      <td>iOS</td>\n",
       "      <td>iOS</td>\n",
       "      <td>Apple</td>\n",
       "      <td>11_0_1</td>\n",
       "      <td>Nano</td>\n",
       "      <td>3072</td>\n",
       "      <td>1.0</td>\n",
       "      <td>1.0</td>\n",
       "      <td>2017.0</td>\n",
       "    </tr>\n",
       "    <tr>\n",
       "      <th>2</th>\n",
       "      <td>cbb0795d-716a-44f1-bc82-f8f8cb5db002</td>\n",
       "      <td>2021-03-10</td>\n",
       "      <td>2</td>\n",
       "      <td>0.0</td>\n",
       "      <td>Smartphone</td>\n",
       "      <td>iPhone 6S Plus (A1634)</td>\n",
       "      <td>iOS</td>\n",
       "      <td>16/32/64/128</td>\n",
       "      <td>1.0</td>\n",
       "      <td>1.0</td>\n",
       "      <td>...</td>\n",
       "      <td>Apple</td>\n",
       "      <td>iOS</td>\n",
       "      <td>iOS</td>\n",
       "      <td>Apple</td>\n",
       "      <td>9</td>\n",
       "      <td>Nano</td>\n",
       "      <td>2048</td>\n",
       "      <td>1.0</td>\n",
       "      <td>1.0</td>\n",
       "      <td>2015.0</td>\n",
       "    </tr>\n",
       "    <tr>\n",
       "      <th>3</th>\n",
       "      <td>e1e914fd-1e04-4148-9251-ed6a4dd6d3e7</td>\n",
       "      <td>2021-03-13</td>\n",
       "      <td>NaN</td>\n",
       "      <td>NaN</td>\n",
       "      <td>NaN</td>\n",
       "      <td>NaN</td>\n",
       "      <td>NaN</td>\n",
       "      <td>NaN</td>\n",
       "      <td>NaN</td>\n",
       "      <td>NaN</td>\n",
       "      <td>...</td>\n",
       "      <td>NaN</td>\n",
       "      <td>NaN</td>\n",
       "      <td>NaN</td>\n",
       "      <td>NaN</td>\n",
       "      <td>NaN</td>\n",
       "      <td>NaN</td>\n",
       "      <td>NaN</td>\n",
       "      <td>NaN</td>\n",
       "      <td>NaN</td>\n",
       "      <td>NaN</td>\n",
       "    </tr>\n",
       "    <tr>\n",
       "      <th>4</th>\n",
       "      <td>1987025d-39be-4120-a09a-8d89c0e8d151</td>\n",
       "      <td>2021-03-14</td>\n",
       "      <td>4</td>\n",
       "      <td>1.0</td>\n",
       "      <td>Smartphone</td>\n",
       "      <td>SM-S727VL</td>\n",
       "      <td>Android</td>\n",
       "      <td>16</td>\n",
       "      <td>1.0</td>\n",
       "      <td>1.0</td>\n",
       "      <td>...</td>\n",
       "      <td>Samsung</td>\n",
       "      <td>Android</td>\n",
       "      <td>Android</td>\n",
       "      <td>Google</td>\n",
       "      <td>6.0.1</td>\n",
       "      <td>Nano</td>\n",
       "      <td>2048</td>\n",
       "      <td>1.0</td>\n",
       "      <td>1.0</td>\n",
       "      <td>2017.0</td>\n",
       "    </tr>\n",
       "  </tbody>\n",
       "</table>\n",
       "<p>5 rows × 21 columns</p>\n",
       "</div>"
      ],
      "text/plain": [
       "                                line_id date_observed cpu_cores  \\\n",
       "0  584f0d75-5897-4e56-b475-0b3adf1aeb07    2021-03-10         4   \n",
       "1  e879756a-daff-4f72-9206-d96009861ac1    2021-03-10       2+4   \n",
       "2  cbb0795d-716a-44f1-bc82-f8f8cb5db002    2021-03-10         2   \n",
       "3  e1e914fd-1e04-4148-9251-ed6a4dd6d3e7    2021-03-13       NaN   \n",
       "4  1987025d-39be-4120-a09a-8d89c0e8d151    2021-03-14         4   \n",
       "\n",
       "   expandable_storage gsma_device_type         gsma_model_name  \\\n",
       "0                 0.0       Smartphone        iPhone 7 (A1660)   \n",
       "1                 0.0       Smartphone        iPhone X (A1901)   \n",
       "2                 0.0       Smartphone  iPhone 6S Plus (A1634)   \n",
       "3                 NaN              NaN                     NaN   \n",
       "4                 1.0       Smartphone               SM-S727VL   \n",
       "\n",
       "  gsma_operating_system internal_storage_capacity  lte  lte_advanced  ...  \\\n",
       "0                   iOS                32/128/256  1.0           1.0  ...   \n",
       "1                   iOS                    64/256  1.0           1.0  ...   \n",
       "2                   iOS              16/32/64/128  1.0           1.0  ...   \n",
       "3                   NaN                       NaN  NaN           NaN  ...   \n",
       "4               Android                        16  1.0           1.0  ...   \n",
       "\n",
       "   manufacturer os_family  os_name os_vendor os_version sim_size total_ram  \\\n",
       "0         Apple       iOS      iOS     Apple         10     Nano      2048   \n",
       "1         Apple       iOS      iOS     Apple     11_0_1     Nano      3072   \n",
       "2         Apple       iOS      iOS     Apple          9     Nano      2048   \n",
       "3           NaN       NaN      NaN       NaN        NaN      NaN       NaN   \n",
       "4       Samsung   Android  Android    Google      6.0.1     Nano      2048   \n",
       "\n",
       "  touch_screen  wi_fi  year_released  \n",
       "0          1.0    1.0         2016.0  \n",
       "1          1.0    1.0         2017.0  \n",
       "2          1.0    1.0         2015.0  \n",
       "3          NaN    NaN            NaN  \n",
       "4          1.0    1.0         2017.0  \n",
       "\n",
       "[5 rows x 21 columns]"
      ]
     },
     "execution_count": 390,
     "metadata": {},
     "output_type": "execute_result"
    }
   ],
   "source": [
    "upgrade_phone_info_eval.head(5)"
   ]
  },
  {
   "cell_type": "markdown",
   "metadata": {},
   "source": [
    "# Data processing\n",
    "## cpu_cores"
   ]
  },
  {
   "cell_type": "code",
   "execution_count": 391,
   "metadata": {},
   "outputs": [],
   "source": [
    "#Train\n",
    "upgrade_phone_info.loc[:, 'cpu_cores'].fillna('0', inplace=True)\n",
    "upgrade_phone_info.loc[:, 'cpu_cores'] = upgrade_phone_info.loc[:, 'cpu_cores'].apply(lambda x: sum(map(int, x.split('+'))))\n",
    "upgrade_phone_info.loc[:, 'cpu_cores'].replace(0, np.nan, inplace=True)\n",
    "# 缺失值处理\n",
    "upgrade_phone_info.loc[:, 'cpu_cores'].fillna(upgrade_phone_info.loc[:, 'cpu_cores'].mean(), inplace=True)\n",
    "# st=StandardScaler()\n",
    "# data=st.fit_transform(upgrade_phone_info_eval.loc[:,['cpu_cores']])\n",
    "# upgrade_phone_info.loc[:, ['cpu_cores']] = data\n",
    "\n",
    "#Eval\n",
    "upgrade_phone_info_eval.loc[:, 'cpu_cores'].fillna('0', inplace=True)\n",
    "upgrade_phone_info_eval.loc[:, 'cpu_cores'] = upgrade_phone_info_eval.loc[:, 'cpu_cores'].apply(lambda x: sum(map(int, x.split('+'))))\n",
    "upgrade_phone_info_eval.loc[:, 'cpu_cores'].replace(0, np.nan, inplace=True)\n",
    "# 缺失值处理\n",
    "upgrade_phone_info_eval.loc[:, 'cpu_cores'].fillna(upgrade_phone_info_eval.loc[:, 'cpu_cores'].mean(), inplace=True)\n",
    "# st=StandardScaler()\n",
    "# data=st.fit_transform(upgrade_phone_info_eval.loc[:,['cpu_cores']])\n",
    "# upgrade_phone_info_eval.loc[:, ['cpu_cores']] = data"
   ]
  },
  {
   "cell_type": "code",
   "execution_count": 392,
   "metadata": {},
   "outputs": [],
   "source": [
    "#Train\n",
    "st=StandardScaler()\n",
    "data=st.fit_transform(upgrade_phone_info.loc[:,['cpu_cores']])\n",
    "upgrade_phone_info.loc[:, ['cpu_cores']] = data\n",
    "\n",
    "#Eval\n",
    "st=StandardScaler()\n",
    "data=st.fit_transform(upgrade_phone_info_eval.loc[:,['cpu_cores']])\n",
    "upgrade_phone_info_eval.loc[:, ['cpu_cores']] = data"
   ]
  },
  {
   "cell_type": "code",
   "execution_count": 393,
   "metadata": {},
   "outputs": [
    {
     "data": {
      "text/html": [
       "<div>\n",
       "<style scoped>\n",
       "    .dataframe tbody tr th:only-of-type {\n",
       "        vertical-align: middle;\n",
       "    }\n",
       "\n",
       "    .dataframe tbody tr th {\n",
       "        vertical-align: top;\n",
       "    }\n",
       "\n",
       "    .dataframe thead th {\n",
       "        text-align: right;\n",
       "    }\n",
       "</style>\n",
       "<table border=\"1\" class=\"dataframe\">\n",
       "  <thead>\n",
       "    <tr style=\"text-align: right;\">\n",
       "      <th></th>\n",
       "      <th>line_id</th>\n",
       "      <th>date_observed</th>\n",
       "      <th>upgrade</th>\n",
       "      <th>cpu_cores</th>\n",
       "      <th>expandable_storage</th>\n",
       "      <th>gsma_device_type</th>\n",
       "      <th>gsma_model_name</th>\n",
       "      <th>gsma_operating_system</th>\n",
       "      <th>internal_storage_capacity</th>\n",
       "      <th>lte</th>\n",
       "      <th>...</th>\n",
       "      <th>manufacturer</th>\n",
       "      <th>os_family</th>\n",
       "      <th>os_name</th>\n",
       "      <th>os_vendor</th>\n",
       "      <th>os_version</th>\n",
       "      <th>sim_size</th>\n",
       "      <th>total_ram</th>\n",
       "      <th>touch_screen</th>\n",
       "      <th>wi_fi</th>\n",
       "      <th>year_released</th>\n",
       "    </tr>\n",
       "  </thead>\n",
       "  <tbody>\n",
       "    <tr>\n",
       "      <th>0</th>\n",
       "      <td>f0b99d3b-32f7-4464-8fa8-87f27c9810a8</td>\n",
       "      <td>2021-03-14</td>\n",
       "      <td>yes</td>\n",
       "      <td>-0.393453</td>\n",
       "      <td>1.0</td>\n",
       "      <td>Smartphone</td>\n",
       "      <td>SM-S327VL</td>\n",
       "      <td>Android</td>\n",
       "      <td>16</td>\n",
       "      <td>1.0</td>\n",
       "      <td>...</td>\n",
       "      <td>Samsung</td>\n",
       "      <td>Android</td>\n",
       "      <td>Android</td>\n",
       "      <td>Google</td>\n",
       "      <td>6.0.1</td>\n",
       "      <td>Nano</td>\n",
       "      <td>1536</td>\n",
       "      <td>1.0</td>\n",
       "      <td>1.0</td>\n",
       "      <td>2017.0</td>\n",
       "    </tr>\n",
       "    <tr>\n",
       "      <th>1</th>\n",
       "      <td>a2ec0baf-1720-4b1b-bfa3-db00ac8fcb00</td>\n",
       "      <td>2021-03-10</td>\n",
       "      <td>yes</td>\n",
       "      <td>0.867001</td>\n",
       "      <td>0.0</td>\n",
       "      <td>Smartphone</td>\n",
       "      <td>iPhone XR (A1984)</td>\n",
       "      <td>iOS</td>\n",
       "      <td>64/128/256</td>\n",
       "      <td>1.0</td>\n",
       "      <td>...</td>\n",
       "      <td>Apple</td>\n",
       "      <td>iOS</td>\n",
       "      <td>iOS</td>\n",
       "      <td>Apple</td>\n",
       "      <td>12</td>\n",
       "      <td>Nano</td>\n",
       "      <td>3072</td>\n",
       "      <td>1.0</td>\n",
       "      <td>1.0</td>\n",
       "      <td>2018.0</td>\n",
       "    </tr>\n",
       "    <tr>\n",
       "      <th>2</th>\n",
       "      <td>dd3a01a3-7baf-4605-9799-ce434328a20d</td>\n",
       "      <td>2021-03-10</td>\n",
       "      <td>no</td>\n",
       "      <td>-0.393453</td>\n",
       "      <td>0.0</td>\n",
       "      <td>Smartphone</td>\n",
       "      <td>iPhone 7 (A1660)</td>\n",
       "      <td>iOS</td>\n",
       "      <td>32/128/256</td>\n",
       "      <td>1.0</td>\n",
       "      <td>...</td>\n",
       "      <td>Apple</td>\n",
       "      <td>iOS</td>\n",
       "      <td>iOS</td>\n",
       "      <td>Apple</td>\n",
       "      <td>10</td>\n",
       "      <td>Nano</td>\n",
       "      <td>2048</td>\n",
       "      <td>1.0</td>\n",
       "      <td>1.0</td>\n",
       "      <td>2016.0</td>\n",
       "    </tr>\n",
       "    <tr>\n",
       "      <th>3</th>\n",
       "      <td>5cf5917c-f407-4cc7-9d6d-dafe8ec0eccc</td>\n",
       "      <td>2021-03-13</td>\n",
       "      <td>no</td>\n",
       "      <td>-0.393453</td>\n",
       "      <td>0.0</td>\n",
       "      <td>Smartphone</td>\n",
       "      <td>iPhone 7 (A1660)</td>\n",
       "      <td>iOS</td>\n",
       "      <td>32/128/256</td>\n",
       "      <td>1.0</td>\n",
       "      <td>...</td>\n",
       "      <td>Apple</td>\n",
       "      <td>iOS</td>\n",
       "      <td>iOS</td>\n",
       "      <td>Apple</td>\n",
       "      <td>10</td>\n",
       "      <td>Nano</td>\n",
       "      <td>2048</td>\n",
       "      <td>1.0</td>\n",
       "      <td>1.0</td>\n",
       "      <td>2016.0</td>\n",
       "    </tr>\n",
       "    <tr>\n",
       "      <th>4</th>\n",
       "      <td>6437fcbd-02c4-4c52-b5b2-f7e535ecec47</td>\n",
       "      <td>2021-03-10</td>\n",
       "      <td>yes</td>\n",
       "      <td>2.127454</td>\n",
       "      <td>1.0</td>\n",
       "      <td>Smartphone</td>\n",
       "      <td>SM-G965U</td>\n",
       "      <td>Android</td>\n",
       "      <td>64</td>\n",
       "      <td>1.0</td>\n",
       "      <td>...</td>\n",
       "      <td>Samsung</td>\n",
       "      <td>Android</td>\n",
       "      <td>Android</td>\n",
       "      <td>Google</td>\n",
       "      <td>8</td>\n",
       "      <td>Nano</td>\n",
       "      <td>6144</td>\n",
       "      <td>1.0</td>\n",
       "      <td>1.0</td>\n",
       "      <td>2018.0</td>\n",
       "    </tr>\n",
       "  </tbody>\n",
       "</table>\n",
       "<p>5 rows × 22 columns</p>\n",
       "</div>"
      ],
      "text/plain": [
       "                                line_id date_observed upgrade  cpu_cores  \\\n",
       "0  f0b99d3b-32f7-4464-8fa8-87f27c9810a8    2021-03-14     yes  -0.393453   \n",
       "1  a2ec0baf-1720-4b1b-bfa3-db00ac8fcb00    2021-03-10     yes   0.867001   \n",
       "2  dd3a01a3-7baf-4605-9799-ce434328a20d    2021-03-10      no  -0.393453   \n",
       "3  5cf5917c-f407-4cc7-9d6d-dafe8ec0eccc    2021-03-13      no  -0.393453   \n",
       "4  6437fcbd-02c4-4c52-b5b2-f7e535ecec47    2021-03-10     yes   2.127454   \n",
       "\n",
       "   expandable_storage gsma_device_type    gsma_model_name  \\\n",
       "0                 1.0       Smartphone          SM-S327VL   \n",
       "1                 0.0       Smartphone  iPhone XR (A1984)   \n",
       "2                 0.0       Smartphone   iPhone 7 (A1660)   \n",
       "3                 0.0       Smartphone   iPhone 7 (A1660)   \n",
       "4                 1.0       Smartphone           SM-G965U   \n",
       "\n",
       "  gsma_operating_system internal_storage_capacity  lte  ...  manufacturer  \\\n",
       "0               Android                        16  1.0  ...       Samsung   \n",
       "1                   iOS                64/128/256  1.0  ...         Apple   \n",
       "2                   iOS                32/128/256  1.0  ...         Apple   \n",
       "3                   iOS                32/128/256  1.0  ...         Apple   \n",
       "4               Android                        64  1.0  ...       Samsung   \n",
       "\n",
       "   os_family  os_name os_vendor os_version sim_size total_ram touch_screen  \\\n",
       "0    Android  Android    Google      6.0.1     Nano      1536          1.0   \n",
       "1        iOS      iOS     Apple         12     Nano      3072          1.0   \n",
       "2        iOS      iOS     Apple         10     Nano      2048          1.0   \n",
       "3        iOS      iOS     Apple         10     Nano      2048          1.0   \n",
       "4    Android  Android    Google          8     Nano      6144          1.0   \n",
       "\n",
       "  wi_fi  year_released  \n",
       "0   1.0         2017.0  \n",
       "1   1.0         2018.0  \n",
       "2   1.0         2016.0  \n",
       "3   1.0         2016.0  \n",
       "4   1.0         2018.0  \n",
       "\n",
       "[5 rows x 22 columns]"
      ]
     },
     "execution_count": 393,
     "metadata": {},
     "output_type": "execute_result"
    }
   ],
   "source": [
    "upgrade_phone_info.head(5)"
   ]
  },
  {
   "cell_type": "code",
   "execution_count": 394,
   "metadata": {},
   "outputs": [],
   "source": [
    "# 删除多余的列\n",
    "# upgrade_phone_info.columns\n",
    "# c1 = cl.delete()\n",
    "train_set = upgrade_phone_info[['line_id', 'cpu_cores']]\n",
    "#  = upgrade_phone_info.drop(columns=c1)\n",
    "# upgrade_phone_info"
   ]
  },
  {
   "cell_type": "code",
   "execution_count": 395,
   "metadata": {},
   "outputs": [],
   "source": [
    "# 删除多余的列\n",
    "eval_set = upgrade_phone_info_eval[['line_id', 'cpu_cores']]\n",
    "# c1 = cl.delete([0, 3])\n",
    "# c1\n",
    "# upgrade_phone_info_eval = upgrade_phone_info.drop(columns=c1)\n",
    "# upgrade_phone_info_eval"
   ]
  },
  {
   "cell_type": "markdown",
   "metadata": {},
   "source": [
    "## total_ram"
   ]
  },
  {
   "cell_type": "code",
   "execution_count": 396,
   "metadata": {},
   "outputs": [
    {
     "data": {
      "text/plain": [
       "2048               18966\n",
       "3072                6236\n",
       "4096                3401\n",
       "1024                2140\n",
       "6144                 870\n",
       "1536                 637\n",
       "512                  450\n",
       "8192                 228\n",
       "6144/8192            200\n",
       "5632                 167\n",
       "3072/4096             59\n",
       "12288                 55\n",
       "8                     43\n",
       "4096/6144             42\n",
       "5415                  34\n",
       "256                   31\n",
       "7680                  16\n",
       "2048/3072             15\n",
       "2560                  12\n",
       "1096/6144              6\n",
       "4096/6144/8192         5\n",
       "32                     3\n",
       "1843                   2\n",
       "128                    2\n",
       "768                    2\n",
       "8192/12288             2\n",
       "2048/4096              2\n",
       "3072/4096/6144         2\n",
       "6144/8192/12288        2\n",
       "1024/2048              1\n",
       "4                      1\n",
       "Name: total_ram, dtype: int64"
      ]
     },
     "execution_count": 396,
     "metadata": {},
     "output_type": "execute_result"
    }
   ],
   "source": [
    "upgrade_phone_info['total_ram'].value_counts()"
   ]
  },
  {
   "cell_type": "code",
   "execution_count": 397,
   "metadata": {},
   "outputs": [],
   "source": [
    "phone_columns = upgrade_phone_info.columns\n",
    "phone_columns_eval = upgrade_phone_info_eval.columns"
   ]
  },
  {
   "cell_type": "code",
   "execution_count": 398,
   "metadata": {},
   "outputs": [],
   "source": [
    "upgrade_phone_info.loc[:, ['total_ram']] = upgrade_phone_info.loc[:, ['total_ram']].fillna(\"NEW\")\n",
    "upgrade_phone_info_eval.loc[:, ['total_ram']] = upgrade_phone_info_eval.loc[:, ['total_ram']].fillna(\"NEW\")\n",
    "upgrade_phone_info.loc[:, ['gsma_model_name']] = upgrade_phone_info.loc[:, ['gsma_model_name']].fillna(\"NEW\")\n",
    "upgrade_phone_info_eval.loc[:, ['gsma_model_name']] = upgrade_phone_info_eval.loc[:, ['gsma_model_name']].fillna(\"NEW\")\n",
    "upgrade_phone_info.loc[:, ['manufacturer']] = upgrade_phone_info.loc[:, ['manufacturer']].fillna(\"NEW\")\n",
    "upgrade_phone_info_eval.loc[:, ['manufacturer']] = upgrade_phone_info_eval.loc[:, ['manufacturer']].fillna(\"NEW\")\n",
    "upgrade_phone_info.loc[:, ['internal_storage_capacity']] = upgrade_phone_info.loc[:, ['internal_storage_capacity']].fillna(\"NEW\")\n",
    "upgrade_phone_info_eval.loc[:, ['internal_storage_capacity']] = upgrade_phone_info_eval.loc[:, ['internal_storage_capacity']].fillna(\"NEW\")\n",
    "upgrade_phone_info.loc[:, ['os_version']] = upgrade_phone_info.loc[:, ['os_version']].fillna(\"NEW\")\n",
    "upgrade_phone_info_eval.loc[:, ['os_version']] = upgrade_phone_info_eval.loc[:, ['os_version']].fillna(\"NEW\")\n",
    "\n",
    "#Train (total_ram)\n",
    "\n",
    "# oh = OneHotEncoder(sparse = False)\n",
    "# contents = oh.fit_transform(upgrade_phone_info.loc[:, ['total_ram']])\n",
    "# pca = PCA(n_components=0.95)\n",
    "# data = pca.fit_transform(contents)\n",
    "\n",
    "# n_samples = data.shape[1]\n",
    "# total_ram_field = []\n",
    "# for i in range(n_samples):\n",
    "#     s = 'total_ram_' + str(i)\n",
    "#     total_ram_field.append(s)\n",
    "    \n",
    "# for i in range(n_samples):\n",
    "#     upgrade_phone_info[total_ram_field[i]] = data[:, i]\n",
    "\n",
    "# drop columns\n",
    "upgrade_phone_info = upgrade_phone_info.drop(columns=['total_ram'])\n",
    "    \n",
    "#Eval\n",
    "# oh = OneHotEncoder(sparse = False)\n",
    "# contents = oh.fit_transform(upgrade_phone_info_eval.loc[:, ['total_ram']])\n",
    "# pca = PCA(n_components=0.95)\n",
    "# data = pca.fit_transform(contents)\n",
    "\n",
    "# n_samples = data.shape[1]\n",
    "# total_ram_field = []\n",
    "# for i in range(n_samples):\n",
    "#     s = 'total_ram_' + str(i)\n",
    "#     total_ram_field.append(s)\n",
    "    \n",
    "# for i in range(n_samples):\n",
    "#     upgrade_phone_info_eval[total_ram_field[i]] = data[:, i]\n",
    "\n",
    "# drop columns\n",
    "upgrade_phone_info_eval = upgrade_phone_info_eval.drop(columns=['total_ram'])\n",
    "\n",
    "#Train (gsma_model_name) （时间太长，不能不用pca，否则分数降低太多） （好像不错，但是我这边结果不行）\n",
    "\n",
    "# oh = OneHotEncoder(sparse = False)\n",
    "# contents = oh.fit_transform(upgrade_phone_info.loc[:, ['gsma_model_name']])\n",
    "# pca = PCA(n_components=0.95)\n",
    "# data = pca.fit_transform(contents)\n",
    "\n",
    "# n_samples = data.shape[1]\n",
    "# total_ram_field = []\n",
    "# for i in range(n_samples):\n",
    "#     s = 'gsma_model_name_' + str(i)\n",
    "#     total_ram_field.append(s)\n",
    "    \n",
    "# for i in range(n_samples):\n",
    "#     upgrade_phone_info[total_ram_field[i]] = data[:, i]\n",
    "# drop columns\n",
    "upgrade_phone_info = upgrade_phone_info.drop(columns=['gsma_model_name'])\n",
    "    \n",
    "#Eval\n",
    "# oh = OneHotEncoder(sparse = False)\n",
    "# contents = oh.fit_transform(upgrade_phone_info_eval.loc[:, ['gsma_model_name']])\n",
    "# pca = PCA(n_components=0.95)\n",
    "# data = pca.fit_transform(contents)\n",
    "\n",
    "# n_samples = data.shape[1]\n",
    "# gsma_model_name_field = []\n",
    "# for i in range(n_samples):\n",
    "#     s = 'gsma_model_name_' + str(i)\n",
    "#     gsma_model_name_field.append(s)\n",
    "    \n",
    "# for i in range(n_samples):\n",
    "#     upgrade_phone_info_eval[gsma_model_name_field[i]] = data[:, i]\n",
    "# drop columns\n",
    "upgrade_phone_info_eval = upgrade_phone_info_eval.drop(columns=['gsma_model_name'])\n",
    "\n",
    "\n",
    "#Train (manufacturer)  (0.926 - 10维度, 不定维度,0.9264)\n",
    "\n",
    "# oh = OneHotEncoder(sparse = False)\n",
    "# contents = oh.fit_transform(upgrade_phone_info.loc[:, ['manufacturer']])\n",
    "# pca = PCA(n_components=10)\n",
    "# data = pca.fit_transform(contents)\n",
    "\n",
    "# n_samples = data.shape[1]\n",
    "# manufacturer_field = []\n",
    "# for i in range(n_samples):\n",
    "#     s = 'manufacturer_' + str(i)\n",
    "#     manufacturer_field.append(s)\n",
    "    \n",
    "# for i in range(n_samples):\n",
    "#     upgrade_phone_info[manufacturer_field[i]] = data[:, i]\n",
    "# drop columns\n",
    "upgrade_phone_info = upgrade_phone_info.drop(columns=['manufacturer'])\n",
    "    \n",
    "#Eval\n",
    "# oh = OneHotEncoder(sparse = False)\n",
    "# contents = oh.fit_transform(upgrade_phone_info_eval.loc[:, ['manufacturer']])\n",
    "# pca = PCA(n_components=10)\n",
    "# data = pca.fit_transform(contents)\n",
    "\n",
    "# n_samples = data.shape[1]\n",
    "# manufacturer_field = []\n",
    "# for i in range(n_samples):\n",
    "#     s = 'manufacturer_' + str(i)\n",
    "#     manufacturer_field.append(s)\n",
    "    \n",
    "# for i in range(n_samples):\n",
    "#     upgrade_phone_info_eval[manufacturer_field[i]] = data[:, i]\n",
    "\n",
    "# drop columns\n",
    "upgrade_phone_info_eval = upgrade_phone_info_eval.drop(columns=['manufacturer'])\n",
    "    \n",
    "#Train (internal_storage_capacity)\n",
    "\n",
    "# oh = OneHotEncoder(sparse = False)\n",
    "# contents = oh.fit_transform(upgrade_phone_info.loc[:, ['internal_storage_capacity']])\n",
    "# pca = PCA(n_components=0.95)\n",
    "# data = pca.fit_transform(contents)\n",
    "\n",
    "# n_samples = data.shape[1]\n",
    "# internal_storage_capacity_field = []\n",
    "# for i in range(n_samples):\n",
    "#     s = 'internal_storage_capacity_' + str(i)\n",
    "#     internal_storage_capacity_field.append(s)\n",
    "    \n",
    "# for i in range(n_samples):\n",
    "#     upgrade_phone_info[internal_storage_capacity_field[i]] = data[:, i]\n",
    "# drop columns\n",
    "upgrade_phone_info = upgrade_phone_info.drop(columns=['internal_storage_capacity'])\n",
    "    \n",
    "#Eval\n",
    "# oh = OneHotEncoder(sparse = False)\n",
    "# contents = oh.fit_transform(upgrade_phone_info_eval.loc[:, ['internal_storage_capacity']])\n",
    "# pca = PCA(n_components=0.95)\n",
    "# data = pca.fit_transform(contents)\n",
    "\n",
    "# n_samples = data.shape[1]\n",
    "# internal_storage_capacity_field = []\n",
    "# for i in range(n_samples):\n",
    "#     s = 'internal_storage_capacity_' + str(i)\n",
    "#     internal_storage_capacity_field.append(s)\n",
    "    \n",
    "# for i in range(n_samples):\n",
    "#     upgrade_phone_info_eval[internal_storage_capacity_field[i]] = data[:, i]\n",
    "\n",
    "# drop columns\n",
    "upgrade_phone_info_eval = upgrade_phone_info_eval.drop(columns=['internal_storage_capacity'])\n",
    "    \n",
    "    \n",
    "#Train (os_version) (暂时排除)\n",
    "\n",
    "# oh = OneHotEncoder(sparse = False)\n",
    "# contents = oh.fit_transform(upgrade_phone_info.loc[:, ['os_version']])\n",
    "# pca = PCA(n_components=0.95)\n",
    "# data = pca.fit_transform(contents)\n",
    "\n",
    "# n_samples = data.shape[1]\n",
    "# os_version_field = []\n",
    "# for i in range(n_samples):\n",
    "#     s = 'os_version_' + str(i)\n",
    "#     os_version_field.append(s)\n",
    "    \n",
    "# for i in range(n_samples):\n",
    "#     upgrade_phone_info[os_version_field[i]] = data[:, i]\n",
    "# drop columns\n",
    "upgrade_phone_info = upgrade_phone_info.drop(columns=['os_version'])\n",
    "    \n",
    "# #Eval\n",
    "# oh = OneHotEncoder(sparse = False)\n",
    "# contents = oh.fit_transform(upgrade_phone_info_eval.loc[:, ['os_version']])\n",
    "# pca = PCA(n_components=0.95)\n",
    "# data = pca.fit_transform(contents)\n",
    "\n",
    "# n_samples = data.shape[1]\n",
    "# os_version_field = []\n",
    "# for i in range(n_samples):\n",
    "#     s = 'os_version_' + str(i)\n",
    "#     os_version_field.append(s)\n",
    "    \n",
    "# for i in range(n_samples):\n",
    "#     upgrade_phone_info_eval[os_version_field[i]] = data[:, i]\n",
    "\n",
    "# drop columns\n",
    "upgrade_phone_info_eval = upgrade_phone_info_eval.drop(columns=['os_version'])\n",
    "    \n",
    "    \n",
    "\n",
    "### 两个时间都要\n",
    "    \n",
    "# Train 缺失值处理 year_released\n",
    "data = upgrade_phone_info.loc[:, ['year_released']]\n",
    "im = SimpleImputer(missing_values=np.nan, strategy='median')\n",
    "# im = KNNImputer(n_neighbors=2)\n",
    "data = im.fit_transform(data)\n",
    "upgrade_phone_info.loc[:, ['year_released']] = data\n",
    "# Calculate the time difference\n",
    "upgrade_phone_info['year_released_1'] = upgrade_phone_info.loc[:, ['year_released']].apply(lambda x:2021-x)\n",
    "st=StandardScaler()\n",
    "data=st.fit_transform(upgrade_phone_info.loc[:,['year_released_1']])\n",
    "upgrade_phone_info['year_released_1'] = data\n",
    "\n",
    "#Eval\n",
    "data = upgrade_phone_info_eval.loc[:, ['year_released']]\n",
    "im = SimpleImputer(missing_values=np.nan, strategy='median')\n",
    "# im = KNNImputer(n_neighbors=2)\n",
    "data = im.fit_transform(data)\n",
    "upgrade_phone_info_eval.loc[:, ['year_released']] = data\n",
    "# Calculate the time difference\n",
    "upgrade_phone_info_eval['year_released_1'] = upgrade_phone_info_eval.loc[:, ['year_released']].apply(lambda x:2021-x)\n",
    "st=StandardScaler()\n",
    "data=st.fit_transform(upgrade_phone_info_eval.loc[:,['year_released_1']])\n",
    "upgrade_phone_info_eval['year_released_1'] = data\n",
    "\n",
    "# 光三个特征是0.920\n",
    "# 0.930 0.921 0.929，0.927\n",
    "# 0.929 0.925，0.926不算时间差\n",
    "#Train 缺失值处理 year_released\n",
    "\n",
    "\n",
    "# Calculate the time difference\n",
    "upgrade_phone_info.loc[:, ['year_released']] = upgrade_phone_info.loc[:, ['year_released']].apply(lambda x: x)\n",
    "st=StandardScaler()\n",
    "data=st.fit_transform(upgrade_phone_info.loc[:,['year_released']])\n",
    "upgrade_phone_info.loc[:, ['year_released']] = data\n",
    "\n",
    "#Eval\n",
    "\n",
    "# Calculate the time difference\n",
    "upgrade_phone_info_eval.loc[:, ['year_released']] = upgrade_phone_info_eval.loc[:, ['year_released']].apply(lambda x:x)\n",
    "st=StandardScaler()\n",
    "data=st.fit_transform(upgrade_phone_info_eval.loc[:,['year_released']])\n",
    "upgrade_phone_info_eval.loc[:, ['year_released']] = data\n",
    "\n",
    "\n",
    "#Train 缺失值处理 lte_category\n",
    "data = upgrade_phone_info.loc[:, ['lte_category']]\n",
    "im = SimpleImputer(missing_values=np.nan, strategy='median')\n",
    "# im = KNNImputer(n_neighbors=2)\n",
    "data = im.fit_transform(data)\n",
    "upgrade_phone_info.loc[:, ['lte_category']] = data\n",
    "st=StandardScaler()\n",
    "data=st.fit_transform(upgrade_phone_info.loc[:,['lte_category']])\n",
    "upgrade_phone_info.loc[:, ['lte_category']] = data\n",
    "\n",
    "#Eval\n",
    "data = upgrade_phone_info_eval.loc[:, ['lte_category']]\n",
    "im = SimpleImputer(missing_values=np.nan, strategy='median')\n",
    "# im = KNNImputer(n_neighbors=2)\n",
    "data = im.fit_transform(data)\n",
    "upgrade_phone_info_eval.loc[:, ['lte_category']] = data\n",
    "st=StandardScaler()\n",
    "data=st.fit_transform(upgrade_phone_info_eval.loc[:,['lte_category']])\n",
    "upgrade_phone_info_eval.loc[:, ['lte_category']] = data"
   ]
  },
  {
   "cell_type": "code",
   "execution_count": null,
   "metadata": {},
   "outputs": [],
   "source": []
  },
  {
   "cell_type": "markdown",
   "metadata": {},
   "source": [
    "# to_csv"
   ]
  },
  {
   "cell_type": "code",
   "execution_count": 399,
   "metadata": {},
   "outputs": [
    {
     "data": {
      "text/html": [
       "<div>\n",
       "<style scoped>\n",
       "    .dataframe tbody tr th:only-of-type {\n",
       "        vertical-align: middle;\n",
       "    }\n",
       "\n",
       "    .dataframe tbody tr th {\n",
       "        vertical-align: top;\n",
       "    }\n",
       "\n",
       "    .dataframe thead th {\n",
       "        text-align: right;\n",
       "    }\n",
       "</style>\n",
       "<table border=\"1\" class=\"dataframe\">\n",
       "  <thead>\n",
       "    <tr style=\"text-align: right;\">\n",
       "      <th></th>\n",
       "      <th>line_id</th>\n",
       "      <th>date_observed</th>\n",
       "      <th>upgrade</th>\n",
       "      <th>cpu_cores</th>\n",
       "      <th>expandable_storage</th>\n",
       "      <th>gsma_device_type</th>\n",
       "      <th>gsma_operating_system</th>\n",
       "      <th>lte</th>\n",
       "      <th>lte_advanced</th>\n",
       "      <th>lte_category</th>\n",
       "      <th>os_family</th>\n",
       "      <th>os_name</th>\n",
       "      <th>os_vendor</th>\n",
       "      <th>sim_size</th>\n",
       "      <th>touch_screen</th>\n",
       "      <th>wi_fi</th>\n",
       "      <th>year_released</th>\n",
       "      <th>year_released_1</th>\n",
       "    </tr>\n",
       "  </thead>\n",
       "  <tbody>\n",
       "    <tr>\n",
       "      <th>0</th>\n",
       "      <td>f0b99d3b-32f7-4464-8fa8-87f27c9810a8</td>\n",
       "      <td>2021-03-14</td>\n",
       "      <td>yes</td>\n",
       "      <td>-0.393453</td>\n",
       "      <td>1.0</td>\n",
       "      <td>Smartphone</td>\n",
       "      <td>Android</td>\n",
       "      <td>1.0</td>\n",
       "      <td>1.0</td>\n",
       "      <td>4.0</td>\n",
       "      <td>Android</td>\n",
       "      <td>Android</td>\n",
       "      <td>Google</td>\n",
       "      <td>Nano</td>\n",
       "      <td>1.0</td>\n",
       "      <td>1.0</td>\n",
       "      <td>0.529910</td>\n",
       "      <td>-0.529910</td>\n",
       "    </tr>\n",
       "    <tr>\n",
       "      <th>1</th>\n",
       "      <td>a2ec0baf-1720-4b1b-bfa3-db00ac8fcb00</td>\n",
       "      <td>2021-03-10</td>\n",
       "      <td>yes</td>\n",
       "      <td>0.867001</td>\n",
       "      <td>0.0</td>\n",
       "      <td>Smartphone</td>\n",
       "      <td>iOS</td>\n",
       "      <td>1.0</td>\n",
       "      <td>1.0</td>\n",
       "      <td>12.0</td>\n",
       "      <td>iOS</td>\n",
       "      <td>iOS</td>\n",
       "      <td>Apple</td>\n",
       "      <td>Nano</td>\n",
       "      <td>1.0</td>\n",
       "      <td>1.0</td>\n",
       "      <td>1.384828</td>\n",
       "      <td>-1.384828</td>\n",
       "    </tr>\n",
       "    <tr>\n",
       "      <th>2</th>\n",
       "      <td>dd3a01a3-7baf-4605-9799-ce434328a20d</td>\n",
       "      <td>2021-03-10</td>\n",
       "      <td>no</td>\n",
       "      <td>-0.393453</td>\n",
       "      <td>0.0</td>\n",
       "      <td>Smartphone</td>\n",
       "      <td>iOS</td>\n",
       "      <td>1.0</td>\n",
       "      <td>1.0</td>\n",
       "      <td>9.0</td>\n",
       "      <td>iOS</td>\n",
       "      <td>iOS</td>\n",
       "      <td>Apple</td>\n",
       "      <td>Nano</td>\n",
       "      <td>1.0</td>\n",
       "      <td>1.0</td>\n",
       "      <td>-0.325009</td>\n",
       "      <td>0.325009</td>\n",
       "    </tr>\n",
       "    <tr>\n",
       "      <th>3</th>\n",
       "      <td>5cf5917c-f407-4cc7-9d6d-dafe8ec0eccc</td>\n",
       "      <td>2021-03-13</td>\n",
       "      <td>no</td>\n",
       "      <td>-0.393453</td>\n",
       "      <td>0.0</td>\n",
       "      <td>Smartphone</td>\n",
       "      <td>iOS</td>\n",
       "      <td>1.0</td>\n",
       "      <td>1.0</td>\n",
       "      <td>9.0</td>\n",
       "      <td>iOS</td>\n",
       "      <td>iOS</td>\n",
       "      <td>Apple</td>\n",
       "      <td>Nano</td>\n",
       "      <td>1.0</td>\n",
       "      <td>1.0</td>\n",
       "      <td>-0.325009</td>\n",
       "      <td>0.325009</td>\n",
       "    </tr>\n",
       "    <tr>\n",
       "      <th>4</th>\n",
       "      <td>6437fcbd-02c4-4c52-b5b2-f7e535ecec47</td>\n",
       "      <td>2021-03-10</td>\n",
       "      <td>yes</td>\n",
       "      <td>2.127454</td>\n",
       "      <td>1.0</td>\n",
       "      <td>Smartphone</td>\n",
       "      <td>Android</td>\n",
       "      <td>1.0</td>\n",
       "      <td>1.0</td>\n",
       "      <td>18.0</td>\n",
       "      <td>Android</td>\n",
       "      <td>Android</td>\n",
       "      <td>Google</td>\n",
       "      <td>Nano</td>\n",
       "      <td>1.0</td>\n",
       "      <td>1.0</td>\n",
       "      <td>1.384828</td>\n",
       "      <td>-1.384828</td>\n",
       "    </tr>\n",
       "  </tbody>\n",
       "</table>\n",
       "</div>"
      ],
      "text/plain": [
       "                                line_id date_observed upgrade  cpu_cores  \\\n",
       "0  f0b99d3b-32f7-4464-8fa8-87f27c9810a8    2021-03-14     yes  -0.393453   \n",
       "1  a2ec0baf-1720-4b1b-bfa3-db00ac8fcb00    2021-03-10     yes   0.867001   \n",
       "2  dd3a01a3-7baf-4605-9799-ce434328a20d    2021-03-10      no  -0.393453   \n",
       "3  5cf5917c-f407-4cc7-9d6d-dafe8ec0eccc    2021-03-13      no  -0.393453   \n",
       "4  6437fcbd-02c4-4c52-b5b2-f7e535ecec47    2021-03-10     yes   2.127454   \n",
       "\n",
       "   expandable_storage gsma_device_type gsma_operating_system  lte  \\\n",
       "0                 1.0       Smartphone               Android  1.0   \n",
       "1                 0.0       Smartphone                   iOS  1.0   \n",
       "2                 0.0       Smartphone                   iOS  1.0   \n",
       "3                 0.0       Smartphone                   iOS  1.0   \n",
       "4                 1.0       Smartphone               Android  1.0   \n",
       "\n",
       "   lte_advanced  lte_category os_family  os_name os_vendor sim_size  \\\n",
       "0           1.0           4.0   Android  Android    Google     Nano   \n",
       "1           1.0          12.0       iOS      iOS     Apple     Nano   \n",
       "2           1.0           9.0       iOS      iOS     Apple     Nano   \n",
       "3           1.0           9.0       iOS      iOS     Apple     Nano   \n",
       "4           1.0          18.0   Android  Android    Google     Nano   \n",
       "\n",
       "   touch_screen  wi_fi  year_released  year_released_1  \n",
       "0           1.0    1.0       0.529910        -0.529910  \n",
       "1           1.0    1.0       1.384828        -1.384828  \n",
       "2           1.0    1.0      -0.325009         0.325009  \n",
       "3           1.0    1.0      -0.325009         0.325009  \n",
       "4           1.0    1.0       1.384828        -1.384828  "
      ]
     },
     "execution_count": 399,
     "metadata": {},
     "output_type": "execute_result"
    }
   ],
   "source": [
    "upgrade_phone_info.head(5)"
   ]
  },
  {
   "cell_type": "code",
   "execution_count": 400,
   "metadata": {},
   "outputs": [
    {
     "data": {
      "text/html": [
       "<div>\n",
       "<style scoped>\n",
       "    .dataframe tbody tr th:only-of-type {\n",
       "        vertical-align: middle;\n",
       "    }\n",
       "\n",
       "    .dataframe tbody tr th {\n",
       "        vertical-align: top;\n",
       "    }\n",
       "\n",
       "    .dataframe thead th {\n",
       "        text-align: right;\n",
       "    }\n",
       "</style>\n",
       "<table border=\"1\" class=\"dataframe\">\n",
       "  <thead>\n",
       "    <tr style=\"text-align: right;\">\n",
       "      <th></th>\n",
       "      <th>cpu_cores</th>\n",
       "      <th>expandable_storage</th>\n",
       "      <th>lte</th>\n",
       "      <th>lte_advanced</th>\n",
       "      <th>lte_category</th>\n",
       "      <th>touch_screen</th>\n",
       "      <th>wi_fi</th>\n",
       "      <th>year_released</th>\n",
       "      <th>year_released_1</th>\n",
       "    </tr>\n",
       "  </thead>\n",
       "  <tbody>\n",
       "    <tr>\n",
       "      <th>count</th>\n",
       "      <td>5.586800e+04</td>\n",
       "      <td>33241.000000</td>\n",
       "      <td>33831.000000</td>\n",
       "      <td>31224.000000</td>\n",
       "      <td>55868.000000</td>\n",
       "      <td>33853.000000</td>\n",
       "      <td>33819.000000</td>\n",
       "      <td>5.586800e+04</td>\n",
       "      <td>5.586800e+04</td>\n",
       "    </tr>\n",
       "    <tr>\n",
       "      <th>mean</th>\n",
       "      <td>1.699157e-16</td>\n",
       "      <td>0.345056</td>\n",
       "      <td>0.997694</td>\n",
       "      <td>0.984339</td>\n",
       "      <td>8.987327</td>\n",
       "      <td>0.985407</td>\n",
       "      <td>0.998965</td>\n",
       "      <td>-9.264953e-15</td>\n",
       "      <td>1.714737e-16</td>\n",
       "    </tr>\n",
       "    <tr>\n",
       "      <th>std</th>\n",
       "      <td>1.000009e+00</td>\n",
       "      <td>0.475394</td>\n",
       "      <td>0.047962</td>\n",
       "      <td>0.124162</td>\n",
       "      <td>2.956353</td>\n",
       "      <td>0.119917</td>\n",
       "      <td>0.032154</td>\n",
       "      <td>1.000009e+00</td>\n",
       "      <td>1.000009e+00</td>\n",
       "    </tr>\n",
       "    <tr>\n",
       "      <th>min</th>\n",
       "      <td>-2.284133e+00</td>\n",
       "      <td>0.000000</td>\n",
       "      <td>0.000000</td>\n",
       "      <td>0.000000</td>\n",
       "      <td>0.000000</td>\n",
       "      <td>0.000000</td>\n",
       "      <td>0.000000</td>\n",
       "      <td>-5.454523e+00</td>\n",
       "      <td>-2.239747e+00</td>\n",
       "    </tr>\n",
       "    <tr>\n",
       "      <th>25%</th>\n",
       "      <td>-3.934527e-01</td>\n",
       "      <td>0.000000</td>\n",
       "      <td>1.000000</td>\n",
       "      <td>1.000000</td>\n",
       "      <td>9.000000</td>\n",
       "      <td>1.000000</td>\n",
       "      <td>1.000000</td>\n",
       "      <td>-3.250094e-01</td>\n",
       "      <td>-5.299096e-01</td>\n",
       "    </tr>\n",
       "    <tr>\n",
       "      <th>50%</th>\n",
       "      <td>0.000000e+00</td>\n",
       "      <td>0.000000</td>\n",
       "      <td>1.000000</td>\n",
       "      <td>1.000000</td>\n",
       "      <td>9.000000</td>\n",
       "      <td>1.000000</td>\n",
       "      <td>1.000000</td>\n",
       "      <td>-3.250094e-01</td>\n",
       "      <td>3.250094e-01</td>\n",
       "    </tr>\n",
       "    <tr>\n",
       "      <th>75%</th>\n",
       "      <td>0.000000e+00</td>\n",
       "      <td>1.000000</td>\n",
       "      <td>1.000000</td>\n",
       "      <td>1.000000</td>\n",
       "      <td>9.000000</td>\n",
       "      <td>1.000000</td>\n",
       "      <td>1.000000</td>\n",
       "      <td>5.299096e-01</td>\n",
       "      <td>3.250094e-01</td>\n",
       "    </tr>\n",
       "    <tr>\n",
       "      <th>max</th>\n",
       "      <td>2.127454e+00</td>\n",
       "      <td>1.000000</td>\n",
       "      <td>1.000000</td>\n",
       "      <td>1.000000</td>\n",
       "      <td>21.000000</td>\n",
       "      <td>1.000000</td>\n",
       "      <td>1.000000</td>\n",
       "      <td>2.239747e+00</td>\n",
       "      <td>5.454523e+00</td>\n",
       "    </tr>\n",
       "  </tbody>\n",
       "</table>\n",
       "</div>"
      ],
      "text/plain": [
       "          cpu_cores  expandable_storage           lte  lte_advanced  \\\n",
       "count  5.586800e+04        33241.000000  33831.000000  31224.000000   \n",
       "mean   1.699157e-16            0.345056      0.997694      0.984339   \n",
       "std    1.000009e+00            0.475394      0.047962      0.124162   \n",
       "min   -2.284133e+00            0.000000      0.000000      0.000000   \n",
       "25%   -3.934527e-01            0.000000      1.000000      1.000000   \n",
       "50%    0.000000e+00            0.000000      1.000000      1.000000   \n",
       "75%    0.000000e+00            1.000000      1.000000      1.000000   \n",
       "max    2.127454e+00            1.000000      1.000000      1.000000   \n",
       "\n",
       "       lte_category  touch_screen         wi_fi  year_released  \\\n",
       "count  55868.000000  33853.000000  33819.000000   5.586800e+04   \n",
       "mean       8.987327      0.985407      0.998965  -9.264953e-15   \n",
       "std        2.956353      0.119917      0.032154   1.000009e+00   \n",
       "min        0.000000      0.000000      0.000000  -5.454523e+00   \n",
       "25%        9.000000      1.000000      1.000000  -3.250094e-01   \n",
       "50%        9.000000      1.000000      1.000000  -3.250094e-01   \n",
       "75%        9.000000      1.000000      1.000000   5.299096e-01   \n",
       "max       21.000000      1.000000      1.000000   2.239747e+00   \n",
       "\n",
       "       year_released_1  \n",
       "count     5.586800e+04  \n",
       "mean      1.714737e-16  \n",
       "std       1.000009e+00  \n",
       "min      -2.239747e+00  \n",
       "25%      -5.299096e-01  \n",
       "50%       3.250094e-01  \n",
       "75%       3.250094e-01  \n",
       "max       5.454523e+00  "
      ]
     },
     "execution_count": 400,
     "metadata": {},
     "output_type": "execute_result"
    }
   ],
   "source": [
    "upgrade_phone_info.describe()"
   ]
  },
  {
   "cell_type": "code",
   "execution_count": 401,
   "metadata": {},
   "outputs": [],
   "source": [
    "# 0   line_id                    55868 non-null  object \n",
    "#  1   cpu_cores                  33740 non-null  object \n",
    "#  2   expandable_storage         33241 non-null  float64   \n",
    "#  3   gsma_device_type           44297 non-null  object \n",
    "#  4   gsma_model_name            44297 non-null  object     yes\n",
    "#  5   gsma_operating_system      44297 non-null  object \n",
    "#  6   internal_storage_capacity  33399 non-null  object     yes\n",
    "#  7   lte                        33831 non-null  float64\n",
    "#  8   lte_advanced               31224 non-null  float64\n",
    "#  9   lte_category               30927 non-null  float64    yes\n",
    "#  10  manufacturer               33814 non-null  object     yes -\n",
    "#  11  os_family                  33801 non-null  object \n",
    "#  12  os_name                    33803 non-null  object \n",
    "#  13  os_vendor                  33801 non-null  object\n",
    "#  14  os_version                 33649 non-null  object     yes \n",
    "#  15  sim_size                   32473 non-null  object \n",
    "#  16  total_ram                  33632 non-null  object \n",
    "#  17  touch_screen               33853 non-null  float64\n",
    "#  18  wi_fi                      33819 non-null  float64\n",
    "#  19  year_released              33849 non-null  float64\n",
    "# dtypes: float64(7), object(13)"
   ]
  },
  {
   "cell_type": "code",
   "execution_count": 402,
   "metadata": {},
   "outputs": [
    {
     "data": {
      "text/html": [
       "<div>\n",
       "<style scoped>\n",
       "    .dataframe tbody tr th:only-of-type {\n",
       "        vertical-align: middle;\n",
       "    }\n",
       "\n",
       "    .dataframe tbody tr th {\n",
       "        vertical-align: top;\n",
       "    }\n",
       "\n",
       "    .dataframe thead th {\n",
       "        text-align: right;\n",
       "    }\n",
       "</style>\n",
       "<table border=\"1\" class=\"dataframe\">\n",
       "  <thead>\n",
       "    <tr style=\"text-align: right;\">\n",
       "      <th></th>\n",
       "      <th>line_id</th>\n",
       "      <th>cpu_cores</th>\n",
       "      <th>lte_category</th>\n",
       "      <th>year_released</th>\n",
       "      <th>year_released_1</th>\n",
       "    </tr>\n",
       "  </thead>\n",
       "  <tbody>\n",
       "    <tr>\n",
       "      <th>0</th>\n",
       "      <td>f0b99d3b-32f7-4464-8fa8-87f27c9810a8</td>\n",
       "      <td>-0.393453</td>\n",
       "      <td>4.0</td>\n",
       "      <td>0.529910</td>\n",
       "      <td>-0.529910</td>\n",
       "    </tr>\n",
       "    <tr>\n",
       "      <th>1</th>\n",
       "      <td>a2ec0baf-1720-4b1b-bfa3-db00ac8fcb00</td>\n",
       "      <td>0.867001</td>\n",
       "      <td>12.0</td>\n",
       "      <td>1.384828</td>\n",
       "      <td>-1.384828</td>\n",
       "    </tr>\n",
       "    <tr>\n",
       "      <th>2</th>\n",
       "      <td>dd3a01a3-7baf-4605-9799-ce434328a20d</td>\n",
       "      <td>-0.393453</td>\n",
       "      <td>9.0</td>\n",
       "      <td>-0.325009</td>\n",
       "      <td>0.325009</td>\n",
       "    </tr>\n",
       "    <tr>\n",
       "      <th>3</th>\n",
       "      <td>5cf5917c-f407-4cc7-9d6d-dafe8ec0eccc</td>\n",
       "      <td>-0.393453</td>\n",
       "      <td>9.0</td>\n",
       "      <td>-0.325009</td>\n",
       "      <td>0.325009</td>\n",
       "    </tr>\n",
       "    <tr>\n",
       "      <th>4</th>\n",
       "      <td>6437fcbd-02c4-4c52-b5b2-f7e535ecec47</td>\n",
       "      <td>2.127454</td>\n",
       "      <td>18.0</td>\n",
       "      <td>1.384828</td>\n",
       "      <td>-1.384828</td>\n",
       "    </tr>\n",
       "    <tr>\n",
       "      <th>...</th>\n",
       "      <td>...</td>\n",
       "      <td>...</td>\n",
       "      <td>...</td>\n",
       "      <td>...</td>\n",
       "      <td>...</td>\n",
       "    </tr>\n",
       "    <tr>\n",
       "      <th>55863</th>\n",
       "      <td>f89b108a-f453-4419-a4dc-5bf8e1cd1f1a</td>\n",
       "      <td>0.000000</td>\n",
       "      <td>9.0</td>\n",
       "      <td>-0.325009</td>\n",
       "      <td>0.325009</td>\n",
       "    </tr>\n",
       "    <tr>\n",
       "      <th>55864</th>\n",
       "      <td>b703f1d4-57ba-48b6-8adf-46d7aba6a406</td>\n",
       "      <td>-0.393453</td>\n",
       "      <td>9.0</td>\n",
       "      <td>-0.325009</td>\n",
       "      <td>0.325009</td>\n",
       "    </tr>\n",
       "    <tr>\n",
       "      <th>55865</th>\n",
       "      <td>e3b2212c-906e-4a8f-8307-6b88fc64d7a0</td>\n",
       "      <td>0.000000</td>\n",
       "      <td>9.0</td>\n",
       "      <td>-0.325009</td>\n",
       "      <td>0.325009</td>\n",
       "    </tr>\n",
       "    <tr>\n",
       "      <th>55866</th>\n",
       "      <td>828df9bf-279c-47c3-96c2-92177a50b8fd</td>\n",
       "      <td>2.127454</td>\n",
       "      <td>18.0</td>\n",
       "      <td>1.384828</td>\n",
       "      <td>-1.384828</td>\n",
       "    </tr>\n",
       "    <tr>\n",
       "      <th>55867</th>\n",
       "      <td>a0a14009-da02-4989-bdce-bc66146e0324</td>\n",
       "      <td>0.000000</td>\n",
       "      <td>9.0</td>\n",
       "      <td>-0.325009</td>\n",
       "      <td>0.325009</td>\n",
       "    </tr>\n",
       "  </tbody>\n",
       "</table>\n",
       "<p>55868 rows × 5 columns</p>\n",
       "</div>"
      ],
      "text/plain": [
       "                                    line_id  cpu_cores  lte_category  \\\n",
       "0      f0b99d3b-32f7-4464-8fa8-87f27c9810a8  -0.393453           4.0   \n",
       "1      a2ec0baf-1720-4b1b-bfa3-db00ac8fcb00   0.867001          12.0   \n",
       "2      dd3a01a3-7baf-4605-9799-ce434328a20d  -0.393453           9.0   \n",
       "3      5cf5917c-f407-4cc7-9d6d-dafe8ec0eccc  -0.393453           9.0   \n",
       "4      6437fcbd-02c4-4c52-b5b2-f7e535ecec47   2.127454          18.0   \n",
       "...                                     ...        ...           ...   \n",
       "55863  f89b108a-f453-4419-a4dc-5bf8e1cd1f1a   0.000000           9.0   \n",
       "55864  b703f1d4-57ba-48b6-8adf-46d7aba6a406  -0.393453           9.0   \n",
       "55865  e3b2212c-906e-4a8f-8307-6b88fc64d7a0   0.000000           9.0   \n",
       "55866  828df9bf-279c-47c3-96c2-92177a50b8fd   2.127454          18.0   \n",
       "55867  a0a14009-da02-4989-bdce-bc66146e0324   0.000000           9.0   \n",
       "\n",
       "       year_released  year_released_1  \n",
       "0           0.529910        -0.529910  \n",
       "1           1.384828        -1.384828  \n",
       "2          -0.325009         0.325009  \n",
       "3          -0.325009         0.325009  \n",
       "4           1.384828        -1.384828  \n",
       "...              ...              ...  \n",
       "55863      -0.325009         0.325009  \n",
       "55864      -0.325009         0.325009  \n",
       "55865      -0.325009         0.325009  \n",
       "55866       1.384828        -1.384828  \n",
       "55867      -0.325009         0.325009  \n",
       "\n",
       "[55868 rows x 5 columns]"
      ]
     },
     "execution_count": 402,
     "metadata": {},
     "output_type": "execute_result"
    }
   ],
   "source": [
    "upgrade_phone_info = upgrade_phone_info.drop(columns=['date_observed', 'upgrade', 'expandable_storage', 'gsma_device_type', 'gsma_operating_system', 'lte', 'lte_advanced', 'touch_screen', 'wi_fi', 'os_family', 'os_name', 'os_vendor', 'sim_size'])\n",
    "upgrade_phone_info"
   ]
  },
  {
   "cell_type": "code",
   "execution_count": 403,
   "metadata": {},
   "outputs": [
    {
     "data": {
      "text/html": [
       "<div>\n",
       "<style scoped>\n",
       "    .dataframe tbody tr th:only-of-type {\n",
       "        vertical-align: middle;\n",
       "    }\n",
       "\n",
       "    .dataframe tbody tr th {\n",
       "        vertical-align: top;\n",
       "    }\n",
       "\n",
       "    .dataframe thead th {\n",
       "        text-align: right;\n",
       "    }\n",
       "</style>\n",
       "<table border=\"1\" class=\"dataframe\">\n",
       "  <thead>\n",
       "    <tr style=\"text-align: right;\">\n",
       "      <th></th>\n",
       "      <th>line_id</th>\n",
       "      <th>cpu_cores</th>\n",
       "      <th>lte_category</th>\n",
       "      <th>year_released</th>\n",
       "      <th>year_released_1</th>\n",
       "    </tr>\n",
       "  </thead>\n",
       "  <tbody>\n",
       "    <tr>\n",
       "      <th>0</th>\n",
       "      <td>584f0d75-5897-4e56-b475-0b3adf1aeb07</td>\n",
       "      <td>-0.393438</td>\n",
       "      <td>9.0</td>\n",
       "      <td>-0.321199</td>\n",
       "      <td>0.321199</td>\n",
       "    </tr>\n",
       "    <tr>\n",
       "      <th>1</th>\n",
       "      <td>e879756a-daff-4f72-9206-d96009861ac1</td>\n",
       "      <td>0.858498</td>\n",
       "      <td>12.0</td>\n",
       "      <td>0.529236</td>\n",
       "      <td>-0.529236</td>\n",
       "    </tr>\n",
       "    <tr>\n",
       "      <th>2</th>\n",
       "      <td>cbb0795d-716a-44f1-bc82-f8f8cb5db002</td>\n",
       "      <td>-1.645374</td>\n",
       "      <td>6.0</td>\n",
       "      <td>-1.171635</td>\n",
       "      <td>1.171635</td>\n",
       "    </tr>\n",
       "    <tr>\n",
       "      <th>3</th>\n",
       "      <td>e1e914fd-1e04-4148-9251-ed6a4dd6d3e7</td>\n",
       "      <td>0.000000</td>\n",
       "      <td>9.0</td>\n",
       "      <td>-0.321199</td>\n",
       "      <td>0.321199</td>\n",
       "    </tr>\n",
       "    <tr>\n",
       "      <th>4</th>\n",
       "      <td>1987025d-39be-4120-a09a-8d89c0e8d151</td>\n",
       "      <td>-0.393438</td>\n",
       "      <td>4.0</td>\n",
       "      <td>0.529236</td>\n",
       "      <td>-0.529236</td>\n",
       "    </tr>\n",
       "    <tr>\n",
       "      <th>...</th>\n",
       "      <td>...</td>\n",
       "      <td>...</td>\n",
       "      <td>...</td>\n",
       "      <td>...</td>\n",
       "      <td>...</td>\n",
       "    </tr>\n",
       "    <tr>\n",
       "      <th>37150</th>\n",
       "      <td>bca0aa56-6582-4d01-b67a-3cf8a10c7632</td>\n",
       "      <td>0.000000</td>\n",
       "      <td>9.0</td>\n",
       "      <td>-0.321199</td>\n",
       "      <td>0.321199</td>\n",
       "    </tr>\n",
       "    <tr>\n",
       "      <th>37151</th>\n",
       "      <td>e857da2f-aaac-47d6-80f5-d475e87be7b2</td>\n",
       "      <td>0.000000</td>\n",
       "      <td>9.0</td>\n",
       "      <td>-0.321199</td>\n",
       "      <td>0.321199</td>\n",
       "    </tr>\n",
       "    <tr>\n",
       "      <th>37152</th>\n",
       "      <td>ab633967-4f11-435b-a755-13015d242364</td>\n",
       "      <td>-0.393438</td>\n",
       "      <td>9.0</td>\n",
       "      <td>-0.321199</td>\n",
       "      <td>0.321199</td>\n",
       "    </tr>\n",
       "    <tr>\n",
       "      <th>37153</th>\n",
       "      <td>ab9dda24-b688-4cb8-9ff8-27158438ff4d</td>\n",
       "      <td>-1.645374</td>\n",
       "      <td>6.0</td>\n",
       "      <td>-1.171635</td>\n",
       "      <td>1.171635</td>\n",
       "    </tr>\n",
       "    <tr>\n",
       "      <th>37154</th>\n",
       "      <td>807ff885-8c06-4df0-bac8-aad887b3ce5f</td>\n",
       "      <td>-0.393438</td>\n",
       "      <td>9.0</td>\n",
       "      <td>-0.321199</td>\n",
       "      <td>0.321199</td>\n",
       "    </tr>\n",
       "  </tbody>\n",
       "</table>\n",
       "<p>37155 rows × 5 columns</p>\n",
       "</div>"
      ],
      "text/plain": [
       "                                    line_id  cpu_cores  lte_category  \\\n",
       "0      584f0d75-5897-4e56-b475-0b3adf1aeb07  -0.393438           9.0   \n",
       "1      e879756a-daff-4f72-9206-d96009861ac1   0.858498          12.0   \n",
       "2      cbb0795d-716a-44f1-bc82-f8f8cb5db002  -1.645374           6.0   \n",
       "3      e1e914fd-1e04-4148-9251-ed6a4dd6d3e7   0.000000           9.0   \n",
       "4      1987025d-39be-4120-a09a-8d89c0e8d151  -0.393438           4.0   \n",
       "...                                     ...        ...           ...   \n",
       "37150  bca0aa56-6582-4d01-b67a-3cf8a10c7632   0.000000           9.0   \n",
       "37151  e857da2f-aaac-47d6-80f5-d475e87be7b2   0.000000           9.0   \n",
       "37152  ab633967-4f11-435b-a755-13015d242364  -0.393438           9.0   \n",
       "37153  ab9dda24-b688-4cb8-9ff8-27158438ff4d  -1.645374           6.0   \n",
       "37154  807ff885-8c06-4df0-bac8-aad887b3ce5f  -0.393438           9.0   \n",
       "\n",
       "       year_released  year_released_1  \n",
       "0          -0.321199         0.321199  \n",
       "1           0.529236        -0.529236  \n",
       "2          -1.171635         1.171635  \n",
       "3          -0.321199         0.321199  \n",
       "4           0.529236        -0.529236  \n",
       "...              ...              ...  \n",
       "37150      -0.321199         0.321199  \n",
       "37151      -0.321199         0.321199  \n",
       "37152      -0.321199         0.321199  \n",
       "37153      -1.171635         1.171635  \n",
       "37154      -0.321199         0.321199  \n",
       "\n",
       "[37155 rows x 5 columns]"
      ]
     },
     "execution_count": 403,
     "metadata": {},
     "output_type": "execute_result"
    }
   ],
   "source": [
    "upgrade_phone_info_eval = upgrade_phone_info_eval.drop(columns=['date_observed', 'expandable_storage', 'gsma_device_type', 'gsma_operating_system', 'lte', 'lte_advanced', 'touch_screen', 'wi_fi', 'os_family', 'os_name', 'os_vendor', 'sim_size'])\n",
    "upgrade_phone_info_eval"
   ]
  },
  {
   "cell_type": "code",
   "execution_count": 404,
   "metadata": {},
   "outputs": [],
   "source": [
    "# upgrade_phone_info.loc[:, ['os_version']] = upgrade_phone_info.loc[:, ['os_version']].fillna(\"NEW\")\n",
    "# upgrade_phone_info_eval.loc[:, ['os_version']] = upgrade_phone_info_eval.loc[:, ['os_version']].fillna(\"NEW\")\n",
    "\n",
    "# oh = OneHotEncoder(sparse = False)\n",
    "# contents = oh.fit_transform(upgrade_phone_info.loc[:, ['os_version']])\n",
    "# pca = PCA(n_components=0.95)\n",
    "# data = pca.fit_transform(contents)\n",
    "\n",
    "# n_samples = data.shape[1]\n",
    "# os_version_field = []\n",
    "\n",
    "# for i in range(n_samples):\n",
    "#     s = 'os_version_' + str(i)\n",
    "#     os_version_field.append(s)\n",
    "    \n",
    "# for i in range(n_samples):\n",
    "#     upgrade_phone_info[os_version_field[i]] = data[:, i]"
   ]
  },
  {
   "cell_type": "code",
   "execution_count": 405,
   "metadata": {},
   "outputs": [],
   "source": [
    "# for i in range(data.shape[1]):\n",
    "#     upgrade_phone_info['os_version_' + str(i)] = data[:, i]"
   ]
  },
  {
   "cell_type": "code",
   "execution_count": 406,
   "metadata": {},
   "outputs": [],
   "source": [
    "# upgrade_phone_info['os_version_1']"
   ]
  },
  {
   "cell_type": "code",
   "execution_count": 407,
   "metadata": {},
   "outputs": [],
   "source": [
    "# for i in range(data.shape[1]):\n",
    "#     upgrade_phone_info['os_version_' + str(i)] = data[:, i]"
   ]
  },
  {
   "cell_type": "code",
   "execution_count": 408,
   "metadata": {},
   "outputs": [],
   "source": [
    "# To csv\n",
    "upgrade_phone_info.to_csv(root_folder+\"code/data/dev/phone_info.csv\", header=True,index=None)\n",
    "upgrade_phone_info_eval.to_csv(root_folder+\"code/data/eval/phone_info_eval.csv\", header=True,index=None)\n",
    "# upgrade_phone_info.to_csv(root_folder+\"Hanxi Liu/phone_info.csv\", header=True, index=None)\n",
    "# upgrade_phone_info_eval.to_csv(root_folder+\"Hanxi Liu/phone_info_eval.csv\", header=True, index=None)"
   ]
  },
  {
   "cell_type": "code",
   "execution_count": null,
   "metadata": {},
   "outputs": [],
   "source": []
  },
  {
   "cell_type": "code",
   "execution_count": 269,
   "metadata": {},
   "outputs": [
    {
     "data": {
      "text/plain": [
       " 0.004287    33235\n",
       " 1.019059     6773\n",
       "-1.010486     5940\n",
       "-1.687001     5433\n",
       " 2.372090     2160\n",
       " 3.048605      793\n",
       "-0.672228      465\n",
       "-2.025259      412\n",
       " 3.725120      381\n",
       " 0.680802      163\n",
       " 2.033832       59\n",
       " 1.357317       29\n",
       " 0.342544        8\n",
       " 4.063378        7\n",
       " 3.386862        6\n",
       "-3.040031        4\n",
       "Name: lte_category, dtype: int64"
      ]
     },
     "execution_count": 269,
     "metadata": {},
     "output_type": "execute_result"
    }
   ],
   "source": [
    "upgrade_phone_info['lte_category'].value_counts()"
   ]
  },
  {
   "cell_type": "code",
   "execution_count": 270,
   "metadata": {},
   "outputs": [
    {
     "data": {
      "text/plain": [
       " 0.003645    21960\n",
       " 1.011902     4534\n",
       "-1.004611     3963\n",
       "-1.676783     3641\n",
       " 2.356244     1447\n",
       " 3.028416      548\n",
       "-0.668526      352\n",
       "-2.012868      281\n",
       " 3.700587      252\n",
       " 0.675816       88\n",
       " 2.020159       45\n",
       " 1.347988       20\n",
       " 4.036672        9\n",
       " 0.339731        9\n",
       " 3.364501        3\n",
       "-3.021125        3\n",
       "Name: lte_category, dtype: int64"
      ]
     },
     "execution_count": 270,
     "metadata": {},
     "output_type": "execute_result"
    }
   ],
   "source": [
    "upgrade_phone_info_eval['lte_category'].value_counts()"
   ]
  },
  {
   "cell_type": "code",
   "execution_count": 233,
   "metadata": {},
   "outputs": [
    {
     "name": "stdout",
     "output_type": "stream",
     "text": [
      "<class 'pandas.core.frame.DataFrame'>\n",
      "Int64Index: 55868 entries, 0 to 55867\n",
      "Data columns (total 5 columns):\n",
      " #   Column           Non-Null Count  Dtype  \n",
      "---  ------           --------------  -----  \n",
      " 0   line_id          55868 non-null  object \n",
      " 1   cpu_cores        55868 non-null  float64\n",
      " 2   lte_category     55868 non-null  float64\n",
      " 3   year_released    55868 non-null  float64\n",
      " 4   year_released_1  33849 non-null  float64\n",
      "dtypes: float64(4), object(1)\n",
      "memory usage: 2.6+ MB\n"
     ]
    }
   ],
   "source": [
    "upgrade_phone_info.info()"
   ]
  },
  {
   "cell_type": "code",
   "execution_count": 234,
   "metadata": {},
   "outputs": [
    {
     "data": {
      "text/html": [
       "<div>\n",
       "<style scoped>\n",
       "    .dataframe tbody tr th:only-of-type {\n",
       "        vertical-align: middle;\n",
       "    }\n",
       "\n",
       "    .dataframe tbody tr th {\n",
       "        vertical-align: top;\n",
       "    }\n",
       "\n",
       "    .dataframe thead th {\n",
       "        text-align: right;\n",
       "    }\n",
       "</style>\n",
       "<table border=\"1\" class=\"dataframe\">\n",
       "  <thead>\n",
       "    <tr style=\"text-align: right;\">\n",
       "      <th></th>\n",
       "      <th>line_id</th>\n",
       "      <th>cpu_cores</th>\n",
       "      <th>lte_category</th>\n",
       "      <th>year_released</th>\n",
       "      <th>year_released_1</th>\n",
       "    </tr>\n",
       "  </thead>\n",
       "  <tbody>\n",
       "    <tr>\n",
       "      <th>0</th>\n",
       "      <td>f0b99d3b-32f7-4464-8fa8-87f27c9810a8</td>\n",
       "      <td>-0.393453</td>\n",
       "      <td>-1.687001</td>\n",
       "      <td>0.529910</td>\n",
       "      <td>-0.256888</td>\n",
       "    </tr>\n",
       "    <tr>\n",
       "      <th>1</th>\n",
       "      <td>a2ec0baf-1720-4b1b-bfa3-db00ac8fcb00</td>\n",
       "      <td>0.867001</td>\n",
       "      <td>1.019059</td>\n",
       "      <td>1.384828</td>\n",
       "      <td>-0.946452</td>\n",
       "    </tr>\n",
       "    <tr>\n",
       "      <th>2</th>\n",
       "      <td>dd3a01a3-7baf-4605-9799-ce434328a20d</td>\n",
       "      <td>-0.393453</td>\n",
       "      <td>0.004287</td>\n",
       "      <td>-0.325009</td>\n",
       "      <td>0.432676</td>\n",
       "    </tr>\n",
       "    <tr>\n",
       "      <th>3</th>\n",
       "      <td>5cf5917c-f407-4cc7-9d6d-dafe8ec0eccc</td>\n",
       "      <td>-0.393453</td>\n",
       "      <td>0.004287</td>\n",
       "      <td>-0.325009</td>\n",
       "      <td>0.432676</td>\n",
       "    </tr>\n",
       "    <tr>\n",
       "      <th>4</th>\n",
       "      <td>6437fcbd-02c4-4c52-b5b2-f7e535ecec47</td>\n",
       "      <td>2.127454</td>\n",
       "      <td>3.048605</td>\n",
       "      <td>1.384828</td>\n",
       "      <td>-0.946452</td>\n",
       "    </tr>\n",
       "  </tbody>\n",
       "</table>\n",
       "</div>"
      ],
      "text/plain": [
       "                                line_id  cpu_cores  lte_category  \\\n",
       "0  f0b99d3b-32f7-4464-8fa8-87f27c9810a8  -0.393453     -1.687001   \n",
       "1  a2ec0baf-1720-4b1b-bfa3-db00ac8fcb00   0.867001      1.019059   \n",
       "2  dd3a01a3-7baf-4605-9799-ce434328a20d  -0.393453      0.004287   \n",
       "3  5cf5917c-f407-4cc7-9d6d-dafe8ec0eccc  -0.393453      0.004287   \n",
       "4  6437fcbd-02c4-4c52-b5b2-f7e535ecec47   2.127454      3.048605   \n",
       "\n",
       "   year_released  year_released_1  \n",
       "0       0.529910        -0.256888  \n",
       "1       1.384828        -0.946452  \n",
       "2      -0.325009         0.432676  \n",
       "3      -0.325009         0.432676  \n",
       "4       1.384828        -0.946452  "
      ]
     },
     "execution_count": 234,
     "metadata": {},
     "output_type": "execute_result"
    }
   ],
   "source": [
    "upgrade_phone_info.head(5)"
   ]
  },
  {
   "cell_type": "code",
   "execution_count": 235,
   "metadata": {},
   "outputs": [
    {
     "ename": "AttributeError",
     "evalue": "'DataFrame' object has no attribute 'total_ram'",
     "output_type": "error",
     "traceback": [
      "\u001b[0;31m---------------------------------------------------------------------------\u001b[0m",
      "\u001b[0;31mAttributeError\u001b[0m                            Traceback (most recent call last)",
      "\u001b[0;32m<ipython-input-235-aab2cb27272f>\u001b[0m in \u001b[0;36m<module>\u001b[0;34m\u001b[0m\n\u001b[0;32m----> 1\u001b[0;31m \u001b[0mupgrade_phone_info\u001b[0m\u001b[0;34m[\u001b[0m\u001b[0mupgrade_phone_info\u001b[0m\u001b[0;34m.\u001b[0m\u001b[0mtotal_ram\u001b[0m \u001b[0;34m==\u001b[0m \u001b[0;34m'0'\u001b[0m\u001b[0;34m]\u001b[0m\u001b[0;34m\u001b[0m\u001b[0;34m\u001b[0m\u001b[0m\n\u001b[0m",
      "\u001b[0;32m/opt/conda/lib/python3.7/site-packages/pandas/core/generic.py\u001b[0m in \u001b[0;36m__getattr__\u001b[0;34m(self, name)\u001b[0m\n\u001b[1;32m   5272\u001b[0m             \u001b[0;32mif\u001b[0m \u001b[0mself\u001b[0m\u001b[0;34m.\u001b[0m\u001b[0m_info_axis\u001b[0m\u001b[0;34m.\u001b[0m\u001b[0m_can_hold_identifiers_and_holds_name\u001b[0m\u001b[0;34m(\u001b[0m\u001b[0mname\u001b[0m\u001b[0;34m)\u001b[0m\u001b[0;34m:\u001b[0m\u001b[0;34m\u001b[0m\u001b[0;34m\u001b[0m\u001b[0m\n\u001b[1;32m   5273\u001b[0m                 \u001b[0;32mreturn\u001b[0m \u001b[0mself\u001b[0m\u001b[0;34m[\u001b[0m\u001b[0mname\u001b[0m\u001b[0;34m]\u001b[0m\u001b[0;34m\u001b[0m\u001b[0;34m\u001b[0m\u001b[0m\n\u001b[0;32m-> 5274\u001b[0;31m             \u001b[0;32mreturn\u001b[0m \u001b[0mobject\u001b[0m\u001b[0;34m.\u001b[0m\u001b[0m__getattribute__\u001b[0m\u001b[0;34m(\u001b[0m\u001b[0mself\u001b[0m\u001b[0;34m,\u001b[0m \u001b[0mname\u001b[0m\u001b[0;34m)\u001b[0m\u001b[0;34m\u001b[0m\u001b[0;34m\u001b[0m\u001b[0m\n\u001b[0m\u001b[1;32m   5275\u001b[0m \u001b[0;34m\u001b[0m\u001b[0m\n\u001b[1;32m   5276\u001b[0m     \u001b[0;32mdef\u001b[0m \u001b[0m__setattr__\u001b[0m\u001b[0;34m(\u001b[0m\u001b[0mself\u001b[0m\u001b[0;34m,\u001b[0m \u001b[0mname\u001b[0m\u001b[0;34m:\u001b[0m \u001b[0mstr\u001b[0m\u001b[0;34m,\u001b[0m \u001b[0mvalue\u001b[0m\u001b[0;34m)\u001b[0m \u001b[0;34m->\u001b[0m \u001b[0;32mNone\u001b[0m\u001b[0;34m:\u001b[0m\u001b[0;34m\u001b[0m\u001b[0;34m\u001b[0m\u001b[0m\n",
      "\u001b[0;31mAttributeError\u001b[0m: 'DataFrame' object has no attribute 'total_ram'"
     ]
    }
   ],
   "source": [
    "upgrade_phone_info[upgrade_phone_info.total_ram == '0']"
   ]
  },
  {
   "cell_type": "code",
   "execution_count": 236,
   "metadata": {},
   "outputs": [
    {
     "data": {
      "text/html": [
       "<div>\n",
       "<style scoped>\n",
       "    .dataframe tbody tr th:only-of-type {\n",
       "        vertical-align: middle;\n",
       "    }\n",
       "\n",
       "    .dataframe tbody tr th {\n",
       "        vertical-align: top;\n",
       "    }\n",
       "\n",
       "    .dataframe thead th {\n",
       "        text-align: right;\n",
       "    }\n",
       "</style>\n",
       "<table border=\"1\" class=\"dataframe\">\n",
       "  <thead>\n",
       "    <tr style=\"text-align: right;\">\n",
       "      <th></th>\n",
       "      <th>year_released</th>\n",
       "    </tr>\n",
       "  </thead>\n",
       "  <tbody>\n",
       "    <tr>\n",
       "      <th>0</th>\n",
       "      <td>2020.470090</td>\n",
       "    </tr>\n",
       "    <tr>\n",
       "      <th>1</th>\n",
       "      <td>2019.615172</td>\n",
       "    </tr>\n",
       "    <tr>\n",
       "      <th>2</th>\n",
       "      <td>2021.325009</td>\n",
       "    </tr>\n",
       "    <tr>\n",
       "      <th>3</th>\n",
       "      <td>2021.325009</td>\n",
       "    </tr>\n",
       "    <tr>\n",
       "      <th>4</th>\n",
       "      <td>2019.615172</td>\n",
       "    </tr>\n",
       "    <tr>\n",
       "      <th>...</th>\n",
       "      <td>...</td>\n",
       "    </tr>\n",
       "    <tr>\n",
       "      <th>55863</th>\n",
       "      <td>2021.325009</td>\n",
       "    </tr>\n",
       "    <tr>\n",
       "      <th>55864</th>\n",
       "      <td>2021.325009</td>\n",
       "    </tr>\n",
       "    <tr>\n",
       "      <th>55865</th>\n",
       "      <td>2021.325009</td>\n",
       "    </tr>\n",
       "    <tr>\n",
       "      <th>55866</th>\n",
       "      <td>2019.615172</td>\n",
       "    </tr>\n",
       "    <tr>\n",
       "      <th>55867</th>\n",
       "      <td>2021.325009</td>\n",
       "    </tr>\n",
       "  </tbody>\n",
       "</table>\n",
       "<p>55868 rows × 1 columns</p>\n",
       "</div>"
      ],
      "text/plain": [
       "       year_released\n",
       "0        2020.470090\n",
       "1        2019.615172\n",
       "2        2021.325009\n",
       "3        2021.325009\n",
       "4        2019.615172\n",
       "...              ...\n",
       "55863    2021.325009\n",
       "55864    2021.325009\n",
       "55865    2021.325009\n",
       "55866    2019.615172\n",
       "55867    2021.325009\n",
       "\n",
       "[55868 rows x 1 columns]"
      ]
     },
     "execution_count": 236,
     "metadata": {},
     "output_type": "execute_result"
    }
   ],
   "source": [
    "upgrade_phone_info.loc[:, ['year_released']].apply(lambda x: 2021 - x)"
   ]
  },
  {
   "cell_type": "code",
   "execution_count": 237,
   "metadata": {},
   "outputs": [
    {
     "data": {
      "text/html": [
       "<div>\n",
       "<style scoped>\n",
       "    .dataframe tbody tr th:only-of-type {\n",
       "        vertical-align: middle;\n",
       "    }\n",
       "\n",
       "    .dataframe tbody tr th {\n",
       "        vertical-align: top;\n",
       "    }\n",
       "\n",
       "    .dataframe thead th {\n",
       "        text-align: right;\n",
       "    }\n",
       "</style>\n",
       "<table border=\"1\" class=\"dataframe\">\n",
       "  <thead>\n",
       "    <tr style=\"text-align: right;\">\n",
       "      <th></th>\n",
       "      <th>year_released</th>\n",
       "    </tr>\n",
       "  </thead>\n",
       "  <tbody>\n",
       "    <tr>\n",
       "      <th>0</th>\n",
       "      <td>0.529910</td>\n",
       "    </tr>\n",
       "    <tr>\n",
       "      <th>1</th>\n",
       "      <td>1.384828</td>\n",
       "    </tr>\n",
       "    <tr>\n",
       "      <th>2</th>\n",
       "      <td>-0.325009</td>\n",
       "    </tr>\n",
       "    <tr>\n",
       "      <th>3</th>\n",
       "      <td>-0.325009</td>\n",
       "    </tr>\n",
       "    <tr>\n",
       "      <th>4</th>\n",
       "      <td>1.384828</td>\n",
       "    </tr>\n",
       "    <tr>\n",
       "      <th>...</th>\n",
       "      <td>...</td>\n",
       "    </tr>\n",
       "    <tr>\n",
       "      <th>55863</th>\n",
       "      <td>-0.325009</td>\n",
       "    </tr>\n",
       "    <tr>\n",
       "      <th>55864</th>\n",
       "      <td>-0.325009</td>\n",
       "    </tr>\n",
       "    <tr>\n",
       "      <th>55865</th>\n",
       "      <td>-0.325009</td>\n",
       "    </tr>\n",
       "    <tr>\n",
       "      <th>55866</th>\n",
       "      <td>1.384828</td>\n",
       "    </tr>\n",
       "    <tr>\n",
       "      <th>55867</th>\n",
       "      <td>-0.325009</td>\n",
       "    </tr>\n",
       "  </tbody>\n",
       "</table>\n",
       "<p>55868 rows × 1 columns</p>\n",
       "</div>"
      ],
      "text/plain": [
       "       year_released\n",
       "0           0.529910\n",
       "1           1.384828\n",
       "2          -0.325009\n",
       "3          -0.325009\n",
       "4           1.384828\n",
       "...              ...\n",
       "55863      -0.325009\n",
       "55864      -0.325009\n",
       "55865      -0.325009\n",
       "55866       1.384828\n",
       "55867      -0.325009\n",
       "\n",
       "[55868 rows x 1 columns]"
      ]
     },
     "execution_count": 237,
     "metadata": {},
     "output_type": "execute_result"
    }
   ],
   "source": [
    "upgrade_phone_info.loc[:, ['year_released']]"
   ]
  },
  {
   "cell_type": "code",
   "execution_count": null,
   "metadata": {},
   "outputs": [],
   "source": [
    "upgrade_phone_info['total_ram'].value_counts()"
   ]
  },
  {
   "cell_type": "code",
   "execution_count": null,
   "metadata": {},
   "outputs": [],
   "source": [
    "upgrade_phone_info.head(5)"
   ]
  },
  {
   "cell_type": "markdown",
   "metadata": {},
   "source": [
    "## Feature Analysis"
   ]
  },
  {
   "cell_type": "code",
   "execution_count": null,
   "metadata": {},
   "outputs": [],
   "source": [
    "upgrade_phone_info.loc[:, ['year_released']]"
   ]
  },
  {
   "cell_type": "code",
   "execution_count": null,
   "metadata": {},
   "outputs": [],
   "source": []
  },
  {
   "cell_type": "code",
   "execution_count": 559,
   "metadata": {},
   "outputs": [
    {
     "data": {
      "text/plain": [
       "0       -0.529910\n",
       "1       -1.384828\n",
       "2        0.325009\n",
       "3        0.325009\n",
       "4       -1.384828\n",
       "           ...   \n",
       "55863    0.325009\n",
       "55864    0.325009\n",
       "55865    0.325009\n",
       "55866   -1.384828\n",
       "55867    0.325009\n",
       "Name: year_released, Length: 55868, dtype: float64"
      ]
     },
     "execution_count": 559,
     "metadata": {},
     "output_type": "execute_result"
    }
   ],
   "source": [
    "upgrade_phone_info.loc[:,'year_released']"
   ]
  },
  {
   "cell_type": "code",
   "execution_count": 9,
   "metadata": {},
   "outputs": [
    {
     "data": {
      "text/plain": [
       "Text(0.5, 1.0, 'os_version')"
      ]
     },
     "execution_count": 9,
     "metadata": {},
     "output_type": "execute_result"
    },
    {
     "data": {
      "image/png": "[encoded data removed]",
      "text/plain": [
       "<Figure size 1080x720 with 1 Axes>"
      ]
     },
     "metadata": {
      "needs_background": "light"
     },
     "output_type": "display_data"
    }
   ],
   "source": [
    "df = upgrade_phone_info.sort_values(by='os_version')\n",
    "plt.figure(figsize=(15,10))\n",
    "sns.countplot(data=df, hue=\"upgrade\", x='os_version')\n",
    "plt.title('os_version')"
   ]
  },
  {
   "cell_type": "code",
   "execution_count": 11,
   "metadata": {},
   "outputs": [
    {
     "data": {
      "text/plain": [
       "9           7976\n",
       "10          7534\n",
       "8           4490\n",
       "11          2357\n",
       "8.1         2335\n",
       "12          2085\n",
       "6.0.1       1720\n",
       "7           1250\n",
       "13           856\n",
       "11_0_1       635\n",
       "2            357\n",
       "9_3          319\n",
       "6.0          259\n",
       "7.1.1        208\n",
       "5.1.1        187\n",
       "4.4.4        178\n",
       "6            122\n",
       "7.0          113\n",
       "6.00         112\n",
       "7.1          112\n",
       "5.1          111\n",
       "5.0.2         51\n",
       "2.1           50\n",
       "4.4.2         43\n",
       "4.2.2         34\n",
       "8.0           33\n",
       "7.1.2         27\n",
       "8.0.1         23\n",
       "5.0           22\n",
       "5.0.1         12\n",
       "5              7\n",
       "4.4            5\n",
       "6_0            5\n",
       "2.3.6          4\n",
       "2.3.7          3\n",
       "4              3\n",
       "4.1.1          3\n",
       "4.3            2\n",
       "V1.11.19       2\n",
       "4.4.3          2\n",
       "4.1.2          2\n",
       "Name: os_version, dtype: int64"
      ]
     },
     "execution_count": 11,
     "metadata": {},
     "output_type": "execute_result"
    }
   ],
   "source": [
    "upgrade_phone_info.os_version.value_counts()"
   ]
  },
  {
   "cell_type": "code",
   "execution_count": null,
   "metadata": {},
   "outputs": [],
   "source": [
    "df = upgrade_phone_info_eval.sort_values(by='gsma_device_type')\n",
    "plt.figure(figsize=(15,10))\n",
    "sns.countplot(data=df, x='gsma_device_type')\n",
    "plt.title('gsma_device_type')"
   ]
  },
  {
   "cell_type": "code",
   "execution_count": 24,
   "metadata": {},
   "outputs": [
    {
     "data": {
      "text/plain": [
       "Text(0.5, 1.0, 'lte_category')"
      ]
     },
     "execution_count": 24,
     "metadata": {},
     "output_type": "execute_result"
    },
    {
     "data": {
      "image/png": "[encoded data removed]",
      "text/plain": [
       "<Figure size 1080x720 with 1 Axes>"
      ]
     },
     "metadata": {},
     "output_type": "display_data"
    }
   ],
   "source": [
    "df = upgrade_phone_info.sort_values(by='lte_category')\n",
    "# plt.figure(figsize=(15,10))\n",
    "fig, ax = plt.subplots(1, 1, figsize=(15,10))\n",
    "# ax = plt.subplot(111)\n",
    "ax.set_xlabel('date', fontsize=20)\n",
    "ax.set_ylabel('count', fontsize=20)\n",
    "sns.countplot(data=df, hue='upgrade', x='lte_category')\n",
    "plt.title('lte_category')"
   ]
  },
  {
   "cell_type": "code",
   "execution_count": null,
   "metadata": {},
   "outputs": [],
   "source": []
  },
  {
   "cell_type": "code",
   "execution_count": 337,
   "metadata": {},
   "outputs": [
    {
     "data": {
      "text/plain": [
       "True     10175\n",
       "False     4999\n",
       "Name: year_released, dtype: int64"
      ]
     },
     "execution_count": 337,
     "metadata": {},
     "output_type": "execute_result"
    }
   ],
   "source": [
    "upgrade_phone_info[upgrade_phone_info.upgrade == 'yes'].year_released.notnull().value_counts()"
   ]
  },
  {
   "cell_type": "code",
   "execution_count": 23,
   "metadata": {},
   "outputs": [
    {
     "data": {
      "text/plain": [
       "Text(0.5, 1.0, 'cpu_cores')"
      ]
     },
     "execution_count": 23,
     "metadata": {},
     "output_type": "execute_result"
    },
    {
     "data": {
      "image/png": "[encoded data removed]",
      "text/plain": [
       "<Figure size 1080x720 with 1 Axes>"
      ]
     },
     "metadata": {},
     "output_type": "display_data"
    }
   ],
   "source": [
    "df = upgrade_phone_info.sort_values(by='cpu_cores')\n",
    "# plt.figure(figsize=(15,10))\n",
    "fig, ax = plt.subplots(1, 1, figsize=(15,10))\n",
    "# ax = plt.subplot(111)\n",
    "ax.set_xlabel('date', fontsize=20)\n",
    "ax.set_ylabel('count', fontsize=20)\n",
    "sns.countplot(data=df, hue=\"upgrade\", x='cpu_cores')\n",
    "plt.title('cpu_cores')"
   ]
  },
  {
   "cell_type": "code",
   "execution_count": 18,
   "metadata": {},
   "outputs": [
    {
     "data": {
      "text/plain": [
       "Text(0.5, 1.0, 'total_ram')"
      ]
     },
     "execution_count": 18,
     "metadata": {},
     "output_type": "execute_result"
    },
    {
     "data": {
      "image/png": "[encoded data removed]",
      "text/plain": [
       "<Figure size 1080x720 with 1 Axes>"
      ]
     },
     "metadata": {
      "needs_background": "light"
     },
     "output_type": "display_data"
    }
   ],
   "source": [
    "df = upgrade_phone_info_eval.sort_values(by='total_ram')\n",
    "plt.figure(figsize=(15,10))\n",
    "sns.countplot(data=df, x='total_ram')\n",
    "plt.title('total_ram')"
   ]
  },
  {
   "cell_type": "code",
   "execution_count": 19,
   "metadata": {},
   "outputs": [
    {
     "data": {
      "text/plain": [
       "Text(0.5, 1.0, 'expandable_storage')"
      ]
     },
     "execution_count": 19,
     "metadata": {},
     "output_type": "execute_result"
    },
    {
     "data": {
      "image/png": "[encoded data removed]",
      "text/plain": [
       "<Figure size 1080x720 with 1 Axes>"
      ]
     },
     "metadata": {
      "needs_background": "light"
     },
     "output_type": "display_data"
    }
   ],
   "source": [
    "df = upgrade_phone_info.sort_values(by='expandable_storage')\n",
    "plt.figure(figsize=(15,10))\n",
    "sns.countplot(data=df, hue=\"upgrade\", x='expandable_storage')\n",
    "plt.title('expandable_storage')"
   ]
  },
  {
   "cell_type": "code",
   "execution_count": 20,
   "metadata": {},
   "outputs": [
    {
     "data": {
      "text/plain": [
       "Text(0.5, 1.0, 'os_vendor')"
      ]
     },
     "execution_count": 20,
     "metadata": {},
     "output_type": "execute_result"
    },
    {
     "data": {
      "image/png": "[encoded data removed]",
      "text/plain": [
       "<Figure size 1080x720 with 1 Axes>"
      ]
     },
     "metadata": {
      "needs_background": "light"
     },
     "output_type": "display_data"
    }
   ],
   "source": [
    "df = upgrade_phone_info.sort_values(by='os_vendor')\n",
    "plt.figure(figsize=(15,10))\n",
    "sns.countplot(data=df, hue=\"upgrade\", x='os_vendor')\n",
    "plt.title('os_vendor')"
   ]
  },
  {
   "cell_type": "code",
   "execution_count": 21,
   "metadata": {},
   "outputs": [
    {
     "data": {
      "text/plain": [
       "0                16\n",
       "1        64/128/256\n",
       "2        32/128/256\n",
       "3        32/128/256\n",
       "4                64\n",
       "            ...    \n",
       "55863           NaN\n",
       "55864    32/128/256\n",
       "55865           NaN\n",
       "55866       128/512\n",
       "55867           NaN\n",
       "Name: internal_storage_capacity, Length: 55868, dtype: object"
      ]
     },
     "execution_count": 21,
     "metadata": {},
     "output_type": "execute_result"
    }
   ],
   "source": [
    "upgrade_phone_info['internal_storage_capacity']"
   ]
  },
  {
   "cell_type": "code",
   "execution_count": 22,
   "metadata": {},
   "outputs": [
    {
     "data": {
      "text/plain": [
       "iPhone 7 (A1660)                5405\n",
       "iPhone 6S (A1633)               3188\n",
       "XT2005DL                        2311\n",
       "iPhone 6S Plus (A1634)          1726\n",
       "iPhone XR (A1984)               1390\n",
       "                                ... \n",
       "SM-J260G/DS                        1\n",
       "BV9500 Plus                        1\n",
       "Passport, SQW100-1, RGY181LW       1\n",
       "LM-Q710CS                          1\n",
       "XT2025-1                           1\n",
       "Name: gsma_model_name, Length: 868, dtype: int64"
      ]
     },
     "execution_count": 22,
     "metadata": {},
     "output_type": "execute_result"
    }
   ],
   "source": [
    "upgrade_phone_info['gsma_model_name'].value_counts()"
   ]
  },
  {
   "cell_type": "code",
   "execution_count": 23,
   "metadata": {},
   "outputs": [
    {
     "data": {
      "text/plain": [
       "<Figure size 1080x720 with 0 Axes>"
      ]
     },
     "metadata": {},
     "output_type": "display_data"
    },
    {
     "data": {
      "image/png": "[encoded data removed]",
      "text/plain": [
       "<Figure size 1080x720 with 1 Axes>"
      ]
     },
     "metadata": {
      "needs_background": "light"
     },
     "output_type": "display_data"
    }
   ],
   "source": [
    "upgrade_phone_info_no = upgrade_phone_info.sim_size[upgrade_phone_info.upgrade == 'no'].value_counts()\n",
    "upgrade_phone_info_yes = upgrade_phone_info.sim_size[upgrade_phone_info.upgrade == 'yes'].value_counts()\n",
    "plt.figure(figsize=(15,10))\n",
    "info = pd.DataFrame({'upgrade_no': upgrade_phone_info_no, 'upgrade_yes': upgrade_phone_info_yes})\n",
    "info.plot(kind='bar',figsize=(15,10))\n",
    "plt.title('sim_size')\n",
    "plt.show()"
   ]
  },
  {
   "cell_type": "code",
   "execution_count": 24,
   "metadata": {},
   "outputs": [
    {
     "data": {
      "text/plain": [
       "Text(0.5, 1.0, 'gsma_operating_system')"
      ]
     },
     "execution_count": 24,
     "metadata": {},
     "output_type": "execute_result"
    },
    {
     "data": {
      "image/png": "[encoded data removed]",
      "text/plain": [
       "<Figure size 1080x720 with 1 Axes>"
      ]
     },
     "metadata": {
      "needs_background": "light"
     },
     "output_type": "display_data"
    }
   ],
   "source": [
    "df = upgrade_phone_info.sort_values(by='gsma_operating_system')\n",
    "plt.figure(figsize=(15,10))\n",
    "sns.countplot(data=df, hue=\"upgrade\", x='gsma_operating_system')\n",
    "plt.title('gsma_operating_system')"
   ]
  },
  {
   "cell_type": "code",
   "execution_count": 25,
   "metadata": {},
   "outputs": [
    {
     "data": {
      "text/plain": [
       "0        1.0\n",
       "1        1.0\n",
       "2        1.0\n",
       "3        1.0\n",
       "4        1.0\n",
       "        ... \n",
       "55863    NaN\n",
       "55864    1.0\n",
       "55865    NaN\n",
       "55866    1.0\n",
       "55867    NaN\n",
       "Name: wi_fi, Length: 55868, dtype: float64"
      ]
     },
     "execution_count": 25,
     "metadata": {},
     "output_type": "execute_result"
    }
   ],
   "source": [
    "upgrade_phone_info['wi_fi']"
   ]
  },
  {
   "cell_type": "code",
   "execution_count": 26,
   "metadata": {},
   "outputs": [
    {
     "data": {
      "text/plain": [
       "Text(0.5, 1.0, 'lte_category')"
      ]
     },
     "execution_count": 26,
     "metadata": {},
     "output_type": "execute_result"
    },
    {
     "data": {
      "image/png": "[encoded data removed]",
      "text/plain": [
       "<Figure size 1080x720 with 1 Axes>"
      ]
     },
     "metadata": {
      "needs_background": "light"
     },
     "output_type": "display_data"
    }
   ],
   "source": [
    "df = upgrade_phone_info.sort_values(by='lte_category')\n",
    "plt.figure(figsize=(15,10))\n",
    "sns.countplot(data=df, hue=\"upgrade\", x='lte_category')\n",
    "plt.title('lte_category')"
   ]
  },
  {
   "cell_type": "code",
   "execution_count": 33,
   "metadata": {},
   "outputs": [
    {
     "data": {
      "text/plain": [
       "<Figure size 1080x720 with 0 Axes>"
      ]
     },
     "metadata": {},
     "output_type": "display_data"
    },
    {
     "data": {
      "image/png": "[encoded data removed]",
      "text/plain": [
       "<Figure size 1080x720 with 1 Axes>"
      ]
     },
     "metadata": {
      "needs_background": "light"
     },
     "output_type": "display_data"
    }
   ],
   "source": [
    "upgrade_phone_info_no = upgrade_phone_info.manufacturer[upgrade_phone_info.upgrade == 'no'].value_counts()\n",
    "upgrade_phone_info_yes = upgrade_phone_info.manufacturer[upgrade_phone_info.upgrade == 'yes'].value_counts()\n",
    "plt.figure(figsize=(15,10))\n",
    "info = pd.DataFrame({'upgrade_no': upgrade_phone_info_no, 'upgrade_yes': upgrade_phone_info_yes})\n",
    "info.plot(kind='bar',stacked=True,figsize=(15,10))\n",
    "plt.title('manufacturer')\n",
    "plt.show()"
   ]
  },
  {
   "cell_type": "code",
   "execution_count": 28,
   "metadata": {},
   "outputs": [
    {
     "data": {
      "text/plain": [
       "<Figure size 1080x720 with 0 Axes>"
      ]
     },
     "metadata": {},
     "output_type": "display_data"
    },
    {
     "data": {
      "image/png": "[encoded data removed]",
      "text/plain": [
       "<Figure size 1080x720 with 1 Axes>"
      ]
     },
     "metadata": {
      "needs_background": "light"
     },
     "output_type": "display_data"
    }
   ],
   "source": [
    "upgrade_phone_info_no = upgrade_phone_info.total_ram[upgrade_phone_info.upgrade == 'no'].value_counts()\n",
    "upgrade_phone_info_yes = upgrade_phone_info.total_ram[upgrade_phone_info.upgrade == 'yes'].value_counts()\n",
    "plt.figure(figsize=(15,10))\n",
    "info = pd.DataFrame({'upgrade_no': upgrade_phone_info_no, 'upgrade_yes': upgrade_phone_info_yes})\n",
    "info.plot(kind='bar',figsize=(15,10))\n",
    "plt.title('total_ram')\n",
    "plt.show()"
   ]
  },
  {
   "cell_type": "code",
   "execution_count": 34,
   "metadata": {},
   "outputs": [
    {
     "data": {
      "text/plain": [
       "<Figure size 1080x720 with 0 Axes>"
      ]
     },
     "metadata": {},
     "output_type": "display_data"
    },
    {
     "data": {
      "image/png": "[encoded data removed]",
      "text/plain": [
       "<Figure size 1080x720 with 1 Axes>"
      ]
     },
     "metadata": {
      "needs_background": "light"
     },
     "output_type": "display_data"
    }
   ],
   "source": [
    "upgrade_phone_info_no = upgrade_phone_info.internal_storage_capacity[upgrade_phone_info.upgrade == 'no'].value_counts()\n",
    "upgrade_phone_info_yes = upgrade_phone_info.internal_storage_capacity[upgrade_phone_info.upgrade == 'yes'].value_counts()\n",
    "plt.figure(figsize=(15,10))\n",
    "info = pd.DataFrame({'upgrade_no': upgrade_phone_info_no, 'upgrade_yes': upgrade_phone_info_yes})\n",
    "info.plot(kind='bar',figsize=(15,10))\n",
    "plt.title('internal_storage_capacity')\n",
    "plt.show()"
   ]
  },
  {
   "cell_type": "code",
   "execution_count": 21,
   "metadata": {},
   "outputs": [
    {
     "data": {
      "text/plain": [
       "Text(0.5, 1.0, 'year_released')"
      ]
     },
     "execution_count": 21,
     "metadata": {},
     "output_type": "execute_result"
    },
    {
     "data": {
      "image/png": "[encoded data removed]",
      "text/plain": [
       "<Figure size 1800x1080 with 1 Axes>"
      ]
     },
     "metadata": {},
     "output_type": "display_data"
    }
   ],
   "source": [
    "df = upgrade_phone_info.sort_values(by='year_released')\n",
    "plt.figure(figsize=(25,15))\n",
    "sns.set(font_scale=2.0)\n",
    "sns.countplot(data=df, hue=\"upgrade\", x='year_released')\n",
    "plt.title('year_released')"
   ]
  },
  {
   "cell_type": "code",
   "execution_count": 27,
   "metadata": {},
   "outputs": [
    {
     "data": {
      "text/plain": [
       "Text(0.5, 1.0, 'os_version')"
      ]
     },
     "execution_count": 27,
     "metadata": {},
     "output_type": "execute_result"
    },
    {
     "data": {
      "image/png": "[encoded data removed]",
      "text/plain": [
       "<Figure size 1800x1080 with 1 Axes>"
      ]
     },
     "metadata": {},
     "output_type": "display_data"
    }
   ],
   "source": [
    "df = upgrade_phone_info.sort_values(by='os_version')\n",
    "# plt.figure(figsize=(25,15))\n",
    "fig, ax = plt.subplots(1, 1, figsize=(25,15))\n",
    "# ax = plt.subplot(111)\n",
    "ax.set_xlabel('date', fontsize=20)\n",
    "ax.set_ylabel('count', fontsize=20)\n",
    "sns.countplot(data=df, hue=\"upgrade\", x='os_version')\n",
    "plt.title('os_version')"
   ]
  },
  {
   "cell_type": "code",
   "execution_count": null,
   "metadata": {},
   "outputs": [],
   "source": [
    " "
   ]
  },
  {
   "cell_type": "code",
   "execution_count": 29,
   "metadata": {},
   "outputs": [],
   "source": [
    "# upgrades_eval=pd.read_csv(data_folder+\"data/eval/upgrades.csv\")\n",
    "# phone_info_eval=pd.read_csv(data_folder+\"data/eval/phone_info.csv\")\n",
    "# customer_info_eval=pd.read_csv(data_folder+\"data/eval/customer_info.csv\")"
   ]
  },
  {
   "cell_type": "code",
   "execution_count": null,
   "metadata": {},
   "outputs": [],
   "source": []
  }
 ],
 "metadata": {
  "kernelspec": {
   "display_name": "Python 3",
   "language": "python",
   "name": "python3"
  },
  "language_info": {
   "codemirror_mode": {
    "name": "ipython",
    "version": 3
   },
   "file_extension": ".py",
   "mimetype": "text/x-python",
   "name": "python",
   "nbconvert_exporter": "python",
   "pygments_lexer": "ipython3",
   "version": "3.7.6"
  }
 },
 "nbformat": 4,
 "nbformat_minor": 4
}
